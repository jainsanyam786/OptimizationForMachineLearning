{
 "cells": [
  {
   "cell_type": "markdown",
   "metadata": {},
   "source": [
    "# HOMEWORK 3"
   ]
  },
  {
   "cell_type": "markdown",
   "metadata": {},
   "source": [
    "## Read the data\n",
    "\n",
    "We will read dataset that is about the Simmons stores. The data contains following information.\n",
    "\n",
    "    1.UsesCoupon: Whether a customer uses a coupon provided by the stores.\n",
    "    2.HasCard: Whether the customer has a store card or not.\n",
    "    3.Spends: The total amount spent by the customer in the last year in the unit of $1000.\n",
    "    4.Customer: The id of the customer."
   ]
  },
  {
   "cell_type": "code",
   "execution_count": 3,
   "metadata": {},
   "outputs": [],
   "source": [
    "options(warn=-1)\n",
    "storeData <- read.csv('simmons.csv')"
   ]
  },
  {
   "cell_type": "markdown",
   "metadata": {},
   "source": [
    "### Inspect the data read"
   ]
  },
  {
   "cell_type": "code",
   "execution_count": 6,
   "metadata": {},
   "outputs": [
    {
     "data": {
      "text/html": [
       "<table>\n",
       "<thead><tr><th scope=col>Customer</th><th scope=col>HasCard</th><th scope=col>Spends</th><th scope=col>UsesCoupon</th></tr></thead>\n",
       "<tbody>\n",
       "\t<tr><td>1        </td><td>0        </td><td>8.5815985</td><td>1        </td></tr>\n",
       "\t<tr><td>2        </td><td>0        </td><td>1.4640473</td><td>0        </td></tr>\n",
       "\t<tr><td>3        </td><td>0        </td><td>3.4647250</td><td>0        </td></tr>\n",
       "\t<tr><td>4        </td><td>1        </td><td>0.8019791</td><td>1        </td></tr>\n",
       "\t<tr><td>5        </td><td>0        </td><td>9.9601634</td><td>1        </td></tr>\n",
       "\t<tr><td>6        </td><td>1        </td><td>7.9306165</td><td>1        </td></tr>\n",
       "</tbody>\n",
       "</table>\n"
      ],
      "text/latex": [
       "\\begin{tabular}{r|llll}\n",
       " Customer & HasCard & Spends & UsesCoupon\\\\\n",
       "\\hline\n",
       "\t 1         & 0         & 8.5815985 & 1        \\\\\n",
       "\t 2         & 0         & 1.4640473 & 0        \\\\\n",
       "\t 3         & 0         & 3.4647250 & 0        \\\\\n",
       "\t 4         & 1         & 0.8019791 & 1        \\\\\n",
       "\t 5         & 0         & 9.9601634 & 1        \\\\\n",
       "\t 6         & 1         & 7.9306165 & 1        \\\\\n",
       "\\end{tabular}\n"
      ],
      "text/markdown": [
       "\n",
       "| Customer | HasCard | Spends | UsesCoupon |\n",
       "|---|---|---|---|\n",
       "| 1         | 0         | 8.5815985 | 1         |\n",
       "| 2         | 0         | 1.4640473 | 0         |\n",
       "| 3         | 0         | 3.4647250 | 0         |\n",
       "| 4         | 1         | 0.8019791 | 1         |\n",
       "| 5         | 0         | 9.9601634 | 1         |\n",
       "| 6         | 1         | 7.9306165 | 1         |\n",
       "\n"
      ],
      "text/plain": [
       "  Customer HasCard Spends    UsesCoupon\n",
       "1 1        0       8.5815985 1         \n",
       "2 2        0       1.4640473 0         \n",
       "3 3        0       3.4647250 0         \n",
       "4 4        1       0.8019791 1         \n",
       "5 5        0       9.9601634 1         \n",
       "6 6        1       7.9306165 1         "
      ]
     },
     "metadata": {},
     "output_type": "display_data"
    }
   ],
   "source": [
    "head(storeData)"
   ]
  },
  {
   "cell_type": "markdown",
   "metadata": {},
   "source": [
    "#### Spends are already reduced in given data."
   ]
  },
  {
   "cell_type": "code",
   "execution_count": 7,
   "metadata": {},
   "outputs": [
    {
     "name": "stdout",
     "output_type": "stream",
     "text": [
      "Size of Store data 1000 4"
     ]
    }
   ],
   "source": [
    "cat(\"Size of Store data\",dim.data.frame(storeData))"
   ]
  },
  {
   "cell_type": "markdown",
   "metadata": {},
   "source": [
    "## Question 1 - Fit a logistic regression model with the UsesCoupon as the response and other variables Spends and HasCard as potential predictors using gradient descent."
   ]
  },
  {
   "cell_type": "markdown",
   "metadata": {},
   "source": [
    "##### Form the data matrix"
   ]
  },
  {
   "cell_type": "code",
   "execution_count": 218,
   "metadata": {},
   "outputs": [
    {
     "data": {
      "text/html": [
       "<table>\n",
       "<thead><tr><th scope=col>UsesCoupon</th></tr></thead>\n",
       "<tbody>\n",
       "\t<tr><td>1</td></tr>\n",
       "\t<tr><td>0</td></tr>\n",
       "\t<tr><td>0</td></tr>\n",
       "\t<tr><td>1</td></tr>\n",
       "\t<tr><td>1</td></tr>\n",
       "\t<tr><td>1</td></tr>\n",
       "</tbody>\n",
       "</table>\n"
      ],
      "text/latex": [
       "\\begin{tabular}{l}\n",
       " UsesCoupon\\\\\n",
       "\\hline\n",
       "\t 1\\\\\n",
       "\t 0\\\\\n",
       "\t 0\\\\\n",
       "\t 1\\\\\n",
       "\t 1\\\\\n",
       "\t 1\\\\\n",
       "\\end{tabular}\n"
      ],
      "text/markdown": [
       "\n",
       "| UsesCoupon |\n",
       "|---|\n",
       "| 1 |\n",
       "| 0 |\n",
       "| 0 |\n",
       "| 1 |\n",
       "| 1 |\n",
       "| 1 |\n",
       "\n"
      ],
      "text/plain": [
       "     UsesCoupon\n",
       "[1,] 1         \n",
       "[2,] 0         \n",
       "[3,] 0         \n",
       "[4,] 1         \n",
       "[5,] 1         \n",
       "[6,] 1         "
      ]
     },
     "metadata": {},
     "output_type": "display_data"
    },
    {
     "data": {
      "text/html": [
       "<table>\n",
       "<thead><tr><th scope=col>Ones</th><th scope=col>HasCard</th><th scope=col>Spends</th></tr></thead>\n",
       "<tbody>\n",
       "\t<tr><td>1        </td><td>0        </td><td>8.5815985</td></tr>\n",
       "\t<tr><td>1        </td><td>0        </td><td>1.4640473</td></tr>\n",
       "\t<tr><td>1        </td><td>0        </td><td>3.4647250</td></tr>\n",
       "\t<tr><td>1        </td><td>1        </td><td>0.8019791</td></tr>\n",
       "\t<tr><td>1        </td><td>0        </td><td>9.9601634</td></tr>\n",
       "\t<tr><td>1        </td><td>1        </td><td>7.9306165</td></tr>\n",
       "</tbody>\n",
       "</table>\n"
      ],
      "text/latex": [
       "\\begin{tabular}{lll}\n",
       " Ones & HasCard & Spends\\\\\n",
       "\\hline\n",
       "\t 1         & 0         & 8.5815985\\\\\n",
       "\t 1         & 0         & 1.4640473\\\\\n",
       "\t 1         & 0         & 3.4647250\\\\\n",
       "\t 1         & 1         & 0.8019791\\\\\n",
       "\t 1         & 0         & 9.9601634\\\\\n",
       "\t 1         & 1         & 7.9306165\\\\\n",
       "\\end{tabular}\n"
      ],
      "text/markdown": [
       "\n",
       "| Ones | HasCard | Spends |\n",
       "|---|---|---|\n",
       "| 1         | 0         | 8.5815985 |\n",
       "| 1         | 0         | 1.4640473 |\n",
       "| 1         | 0         | 3.4647250 |\n",
       "| 1         | 1         | 0.8019791 |\n",
       "| 1         | 0         | 9.9601634 |\n",
       "| 1         | 1         | 7.9306165 |\n",
       "\n"
      ],
      "text/plain": [
       "     Ones HasCard Spends   \n",
       "[1,] 1    0       8.5815985\n",
       "[2,] 1    0       1.4640473\n",
       "[3,] 1    0       3.4647250\n",
       "[4,] 1    1       0.8019791\n",
       "[5,] 1    0       9.9601634\n",
       "[6,] 1    1       7.9306165"
      ]
     },
     "metadata": {},
     "output_type": "display_data"
    }
   ],
   "source": [
    "y <- as.matrix(storeData$UsesCoupon)\n",
    "colnames(y) <- c(\"UsesCoupon\")\n",
    "ones <- matrix(rep(1,nrow(y)), nrow = nrow(y), ncol = 1)\n",
    "# data matrix\n",
    "A <- cbind(ones,storeData$HasCard,storeData$Spends)\n",
    "colnames(A) <- c(\"Ones\",\"HasCard\",\"Spends\")\n",
    "head(y)\n",
    "head(A)"
   ]
  },
  {
   "cell_type": "markdown",
   "metadata": {},
   "source": [
    "#####  Modelling the success probability as\n",
    "$\\hat{y} = \\sigma(Ax) \\enspace  \\text{where} \\enspace  \\sigma{(z)} = \\Large\\frac{e^{z}}{(1 + e^{z})} $  "
   ]
  },
  {
   "cell_type": "code",
   "execution_count": 72,
   "metadata": {},
   "outputs": [],
   "source": [
    "# A is the data mtrix of dimension 1000 x 3 and x is the coffiecient matrix of dimension 3 x 1.\n",
    "# This function will return will return matric of dimension with 1000 x 1 with yi = sigmoid(Aixi)\n",
    "sigmoid <- function(x,A){\n",
    "    Ax <- A %*% x\n",
    "    yhat <- apply(Ax,1, function (var) exp(var)/(1 + exp(var)))\n",
    "    yhat <- as.matrix(yhat)\n",
    "    colnames(yhat) <- c(\"Predicted_UsesCoupon\")              \n",
    "    return (yhat)\n",
    "}"
   ]
  },
  {
   "cell_type": "markdown",
   "metadata": {},
   "source": [
    "#####  Calculating gradient"
   ]
  },
  {
   "cell_type": "code",
   "execution_count": 161,
   "metadata": {},
   "outputs": [],
   "source": [
    "# A is the data mtrix of dimension 1000 x 3, y is the output matrix of dimension 1000 x 1,\n",
    "# yhat is the predicted output matrix of dimension 1000 x 1\n",
    "# This function will compute and return will gradient matrix with dim 3 x 1\n",
    "gradient <- function(A,y,yhat){\n",
    "    N <- length(y)\n",
    "    deltafx = matrix(rep(0,ncol(A)), nrow = ncol(A), ncol = 1)\n",
    "    for(j in seq(nrow(deltafx))){\n",
    "        sum <- 0\n",
    "        for(i in seq(nrow(A))){\n",
    "            temp <- (yhat[i] - y[i]) * A[i,j]\n",
    "            sum <- sum + temp\n",
    "        }\n",
    "        deltafx[j] <- sum/N\n",
    "    }\n",
    "    rownames(deltafx) <- c(\"deltafx1\", \"deltafx2\", \"deltafx3\")\n",
    "    return (deltafx)\n",
    "}"
   ]
  },
  {
   "cell_type": "markdown",
   "metadata": {},
   "source": [
    "#### Defination of function for gradient descent"
   ]
  },
  {
   "cell_type": "code",
   "execution_count": 176,
   "metadata": {},
   "outputs": [],
   "source": [
    "# A is the data mtrix of dimension 1000 x 3, y is the output matrix of dimension 1000 x 1,\n",
    "# alpha is the learnig rate,  thres is the threshold for gradient norm for stopping, mxi is maximum iterations\n",
    "# This function do gradient descent and give optimimum cofficients\n",
    "gradientDescent <- function(y,A,x,alpha,thrs,maxi){\n",
    "    converged<-FALSE\n",
    "    i<-1\n",
    "    x1<-x\n",
    "     while((!converged  && i <= maxi))\n",
    "            {\n",
    "                yhat <-  sigmoid(x1,A)\n",
    "                deltafx <- gradient(A,y,yhat)\n",
    "                if(is.infinite(deltafx) || is.nan(norm(deltafx,type = \"2\"))){\n",
    "                    break\n",
    "                }\n",
    "                x1 <- x1 - (alpha*deltafx)\n",
    "                converged <- (norm(deltafx,type = \"2\") <= thrs)\n",
    "                i <- i+1\n",
    "            }\n",
    "\n",
    "    return (list(\"x1\"= x1,\"iteration\" = i-1,\"converged\" = converged))\n",
    "}\n"
   ]
  },
  {
   "cell_type": "code",
   "execution_count": 177,
   "metadata": {},
   "outputs": [
    {
     "data": {
      "text/html": [
       "<table>\n",
       "<thead><tr><th></th><th scope=col>10.0</th><th scope=col> 5.0</th><th scope=col> 1.0</th><th scope=col> 0.5</th><th scope=col> 0.1</th></tr></thead>\n",
       "<tbody>\n",
       "\t<tr><th scope=row>x1</th><td>-15.367439</td><td> -8.479330</td><td> -4.929665</td><td> -4.925239</td><td> -4.920445</td></tr>\n",
       "\t<tr><th scope=row>x2</th><td> 17.255413</td><td> 10.574735</td><td>  6.568382</td><td>  6.562942</td><td>  6.557031</td></tr>\n",
       "\t<tr><th scope=row>x3</th><td>  3.758761</td><td>  2.140135</td><td>  1.284105</td><td>  1.283100</td><td>  1.282012</td></tr>\n",
       "</tbody>\n",
       "</table>\n"
      ],
      "text/latex": [
       "\\begin{tabular}{r|lllll}\n",
       "  & 10.0 &  5.0 &  1.0 &  0.5 &  0.1\\\\\n",
       "\\hline\n",
       "\tx1 & -15.367439 &  -8.479330 &  -4.929665 &  -4.925239 &  -4.920445\\\\\n",
       "\tx2 &  17.255413 &  10.574735 &   6.568382 &   6.562942 &   6.557031\\\\\n",
       "\tx3 &   3.758761 &   2.140135 &   1.284105 &   1.283100 &   1.282012\\\\\n",
       "\\end{tabular}\n"
      ],
      "text/markdown": [
       "\n",
       "| <!--/--> | 10.0 |  5.0 |  1.0 |  0.5 |  0.1 |\n",
       "|---|---|---|---|---|---|\n",
       "| x1 | -15.367439 |  -8.479330 |  -4.929665 |  -4.925239 |  -4.920445 |\n",
       "| x2 |  17.255413 |  10.574735 |   6.568382 |   6.562942 |   6.557031 |\n",
       "| x3 |   3.758761 |   2.140135 |   1.284105 |   1.283100 |   1.282012 |\n",
       "\n"
      ],
      "text/plain": [
       "   10.0        5.0        1.0        0.5        0.1      \n",
       "x1 -15.367439  -8.479330  -4.929665  -4.925239  -4.920445\n",
       "x2  17.255413  10.574735   6.568382   6.562942   6.557031\n",
       "x3   3.758761   2.140135   1.284105   1.283100   1.282012"
      ]
     },
     "metadata": {},
     "output_type": "display_data"
    },
    {
     "data": {
      "text/html": [
       "<table>\n",
       "<thead><tr><th scope=col>10.0</th><th scope=col> 5.0</th><th scope=col> 1.0</th><th scope=col> 0.5</th><th scope=col> 0.1</th></tr></thead>\n",
       "<tbody>\n",
       "\t<tr><td>105 </td><td>150 </td><td>339 </td><td>679 </td><td>3394</td></tr>\n",
       "</tbody>\n",
       "</table>\n"
      ],
      "text/latex": [
       "\\begin{tabular}{lllll}\n",
       " 10.0 &  5.0 &  1.0 &  0.5 &  0.1\\\\\n",
       "\\hline\n",
       "\t 105  & 150  & 339  & 679  & 3394\\\\\n",
       "\\end{tabular}\n"
      ],
      "text/markdown": [
       "\n",
       "| 10.0 |  5.0 |  1.0 |  0.5 |  0.1 |\n",
       "|---|---|---|---|---|\n",
       "| 105  | 150  | 339  | 679  | 3394 |\n",
       "\n"
      ],
      "text/plain": [
       "     10.0  5.0  1.0  0.5  0.1\n",
       "[1,] 105  150  339  679  3394"
      ]
     },
     "metadata": {},
     "output_type": "display_data"
    },
    {
     "data": {
      "text/html": [
       "<ol class=list-inline>\n",
       "\t<li>'10.0'</li>\n",
       "\t<li>' 5.0'</li>\n",
       "\t<li>' 1.0'</li>\n",
       "\t<li>' 0.5'</li>\n",
       "\t<li>' 0.1'</li>\n",
       "</ol>\n"
      ],
      "text/latex": [
       "\\begin{enumerate*}\n",
       "\\item '10.0'\n",
       "\\item ' 5.0'\n",
       "\\item ' 1.0'\n",
       "\\item ' 0.5'\n",
       "\\item ' 0.1'\n",
       "\\end{enumerate*}\n"
      ],
      "text/markdown": [
       "1. '10.0'\n",
       "2. ' 5.0'\n",
       "3. ' 1.0'\n",
       "4. ' 0.5'\n",
       "5. ' 0.1'\n",
       "\n",
       "\n"
      ],
      "text/plain": [
       "[1] \"10.0\" \" 5.0\" \" 1.0\" \" 0.5\" \" 0.1\""
      ]
     },
     "metadata": {},
     "output_type": "display_data"
    }
   ],
   "source": [
    "#running gradient descent on data with different learning rate\n",
    "alphas <- c(10,5.0,1,0.5,0.1,0.01)\n",
    "thres <- 10**(-2)\n",
    "maxiter <- 10000\n",
    "successalphs <- c()\n",
    "iternations <- list()\n",
    "xsfull <- list()\n",
    "x = matrix(rep(0,ncol(A)), nrow = ncol(A), ncol = 1)\n",
    "rownames(x) <- c(\"x1\", \"x2\", \"x3\")\n",
    "row = 1\n",
    "for (alpha in alphas) {\n",
    "    answer <- gradientDescent(y,A,x,alpha,thres,maxiter)\n",
    "        if (answer$converged){\n",
    "        successalphs <- append(successalphs,alpha)\n",
    "        xsfull[[row]] <- answer$x\n",
    "        iternations[[row]] <- answer$iteration\n",
    "        row = row+1\n",
    "    }\n",
    "    }\n",
    "successalphs <- format(successalphs, scientific = FALSE)\n",
    "xsfull <- do.call(cbind, xsfull)\n",
    "iternations <- do.call(cbind, iternations)\n",
    "\n",
    "colnames(xsfull)<- successalphs\n",
    "colnames(iternations)<- successalphs\n",
    "modifiedxs <- format(xsfull, scientific = FALSE)\n",
    "modifiedxs\n",
    "iternations\n",
    "successalphs"
   ]
  },
  {
   "cell_type": "code",
   "execution_count": 178,
   "metadata": {},
   "outputs": [
    {
     "data": {
      "image/png": "[encoded data removed]",
      "text/plain": [
       "Plot with title \"Interation vs alpha\""
      ]
     },
     "metadata": {},
     "output_type": "display_data"
    }
   ],
   "source": [
    "barplot(iternations, main=\"Interation vs alpha\", names.arg = successalphs,\n",
    "        ylab = \"Interations\", ylim = c(0,max(iternations)+20), xlab = \"Alpha\", axes = FALSE)\n",
    "ylabel <- seq(0, max(iternations)+20, by = max(iternations)%/%10)\n",
    "axis(2, at = ylabel, las = 1)\n",
    "box()"
   ]
  },
  {
   "cell_type": "code",
   "execution_count": 179,
   "metadata": {},
   "outputs": [
    {
     "data": {
      "text/html": [
       "<table>\n",
       "<tbody>\n",
       "\t<tr><th scope=row>x1</th><td>-4.929665</td></tr>\n",
       "\t<tr><th scope=row>x2</th><td> 6.568382</td></tr>\n",
       "\t<tr><th scope=row>x3</th><td> 1.284105</td></tr>\n",
       "</tbody>\n",
       "</table>\n"
      ],
      "text/latex": [
       "\\begin{tabular}{r|l}\n",
       "\tx1 & -4.929665\\\\\n",
       "\tx2 &  6.568382\\\\\n",
       "\tx3 &  1.284105\\\\\n",
       "\\end{tabular}\n"
      ],
      "text/markdown": [
       "\n",
       "| x1 | -4.929665 |\n",
       "| x2 |  6.568382 |\n",
       "| x3 |  1.284105 |\n",
       "\n"
      ],
      "text/plain": [
       "   [,1]     \n",
       "x1 -4.929665\n",
       "x2  6.568382\n",
       "x3  1.284105"
      ]
     },
     "metadata": {},
     "output_type": "display_data"
    }
   ],
   "source": [
    "# selecting cofficients for learning rate 0.5 \n",
    "optimumx <- as.matrix(xsfull[,3])\n",
    "optimumx"
   ]
  },
  {
   "cell_type": "markdown",
   "metadata": {},
   "source": [
    "## Question 2 - Predict the probiblities of using coupons for given data"
   ]
  },
  {
   "cell_type": "code",
   "execution_count": 180,
   "metadata": {},
   "outputs": [],
   "source": [
    "annualSpending <- c(1000,2000,3000,4000,5000,6000,7000)\n",
    "# diving spending by 1000 to get smaller values\n",
    "annualSpendingR <- annualSpending/1000\n",
    "ones <- rep(1,length(annualSpendingR))\n",
    "\n",
    "HasCardYes <- rep(1,length(annualSpendingR))\n",
    "HasCardNo <- rep(0,length(annualSpendingR))\n",
    "\n",
    "dataMatrixYes <- cbind(ones,HasCardYes,annualSpendingR)\n",
    "dataMatrixNo <- cbind(ones,HasCardNo,annualSpendingR)"
   ]
  },
  {
   "cell_type": "code",
   "execution_count": 181,
   "metadata": {},
   "outputs": [],
   "source": [
    "yhatYes <- sigmoid(x = optimumx,A = dataMatrixYes)\n",
    "yhatNo <- sigmoid(x = optimumx,A = dataMatrixNo)"
   ]
  },
  {
   "cell_type": "code",
   "execution_count": 182,
   "metadata": {},
   "outputs": [],
   "source": [
    "PredictionTable <- cbind(annualSpending,yhatYes,yhatNo)\n",
    "colnames(PredictionTable) <- c(\"Annual Spending\",\"Credit Card Yes\", \"Credit Card No\")  "
   ]
  },
  {
   "cell_type": "code",
   "execution_count": 183,
   "metadata": {},
   "outputs": [
    {
     "data": {
      "text/html": [
       "<table>\n",
       "<thead><tr><th scope=col>Annual Spending</th><th scope=col>Credit Card Yes</th><th scope=col>Credit Card No</th></tr></thead>\n",
       "<tbody>\n",
       "\t<tr><td>1000      </td><td>0.9489631 </td><td>0.02544255</td></tr>\n",
       "\t<tr><td>2000      </td><td>0.9853265 </td><td>0.08615953</td></tr>\n",
       "\t<tr><td>3000      </td><td>0.9958933 </td><td>0.25400773</td></tr>\n",
       "\t<tr><td>4000      </td><td>0.9988595 </td><td>0.55150524</td></tr>\n",
       "\t<tr><td>5000      </td><td>0.9996839 </td><td>0.81620721</td></tr>\n",
       "\t<tr><td>6000      </td><td>0.9999125 </td><td>0.94130784</td></tr>\n",
       "\t<tr><td>7000      </td><td>0.9999758 </td><td>0.98302794</td></tr>\n",
       "</tbody>\n",
       "</table>\n"
      ],
      "text/latex": [
       "\\begin{tabular}{lll}\n",
       " Annual Spending & Credit Card Yes & Credit Card No\\\\\n",
       "\\hline\n",
       "\t 1000       & 0.9489631  & 0.02544255\\\\\n",
       "\t 2000       & 0.9853265  & 0.08615953\\\\\n",
       "\t 3000       & 0.9958933  & 0.25400773\\\\\n",
       "\t 4000       & 0.9988595  & 0.55150524\\\\\n",
       "\t 5000       & 0.9996839  & 0.81620721\\\\\n",
       "\t 6000       & 0.9999125  & 0.94130784\\\\\n",
       "\t 7000       & 0.9999758  & 0.98302794\\\\\n",
       "\\end{tabular}\n"
      ],
      "text/markdown": [
       "\n",
       "| Annual Spending | Credit Card Yes | Credit Card No |\n",
       "|---|---|---|\n",
       "| 1000       | 0.9489631  | 0.02544255 |\n",
       "| 2000       | 0.9853265  | 0.08615953 |\n",
       "| 3000       | 0.9958933  | 0.25400773 |\n",
       "| 4000       | 0.9988595  | 0.55150524 |\n",
       "| 5000       | 0.9996839  | 0.81620721 |\n",
       "| 6000       | 0.9999125  | 0.94130784 |\n",
       "| 7000       | 0.9999758  | 0.98302794 |\n",
       "\n"
      ],
      "text/plain": [
       "     Annual Spending Credit Card Yes Credit Card No\n",
       "[1,] 1000            0.9489631       0.02544255    \n",
       "[2,] 2000            0.9853265       0.08615953    \n",
       "[3,] 3000            0.9958933       0.25400773    \n",
       "[4,] 4000            0.9988595       0.55150524    \n",
       "[5,] 5000            0.9996839       0.81620721    \n",
       "[6,] 6000            0.9999125       0.94130784    \n",
       "[7,] 7000            0.9999758       0.98302794    "
      ]
     },
     "metadata": {},
     "output_type": "display_data"
    }
   ],
   "source": [
    "PredictionTable"
   ]
  },
  {
   "cell_type": "markdown",
   "metadata": {},
   "source": [
    "## Question 3 - Comment on a marketing strategy based on the table above for maximizing the number of customers using your store coupons."
   ]
  },
  {
   "cell_type": "markdown",
   "metadata": {},
   "source": [
    "#### Using above table as reference, as CEO I can have two strategies\n",
    "##### 1. I can encourage the customers without store card and with annual spending less than \\$6000 to enroll for store credit card.\n",
    "\n",
    "This on the basis of observation that the customers with store card use coupons with high probability irrespective of annual spending.\n",
    "      \n",
    "##### 2. I can encourage the customers to increase their annual spening in my stores.\n",
    "\n",
    "This on the basis of observation that the customers with annual speding more than \\$6000 use coupons with high probability irrespective of store card.  "
   ]
  },
  {
   "cell_type": "markdown",
   "metadata": {},
   "source": [
    "## Question 4 - Implement Polyak's momentum method to solve the logistic regression problem."
   ]
  },
  {
   "cell_type": "code",
   "execution_count": 197,
   "metadata": {},
   "outputs": [],
   "source": [
    "# A is the data mtrix of dimension 1000 x 3, y is the output matrix of dimension 1000 x 1,\n",
    "# alpha is the learnig rate,  thres is the threshold for gradient norm for stopping, mxi is maximum iterations\n",
    "# This function do gradient descent and give optimimum cofficients\n",
    "polyakMomentum <- function(y,A,x,alpha,beta,thrs,maxi) {\n",
    "    converged<-FALSE\n",
    "    i <- 1\n",
    "    x1 <- x\n",
    "    Z <- matrix(rep(0,ncol(A)), nrow = ncol(A), ncol = 1)\n",
    "     while((!converged  && i <= maxi))\n",
    "            {\n",
    "                yhat <-  sigmoid(x1,A)\n",
    "                deltafx <- gradient(A,y,yhat)\n",
    "                if(is.infinite(deltafx) ||is.nan(deltafx) || is.nan(norm(deltafx,type = \"2\"))){\n",
    "                    break\n",
    "                }\n",
    "                # polyakMomentum \n",
    "                Z <- beta*Z + deltafx\n",
    "                x1 <- x1 - (alpha*Z)\n",
    "                converged <- (norm(deltafx,type = \"2\") <= thrs)\n",
    "                i <- i+1\n",
    "            }\n",
    "\n",
    "    return (list(\"x1\"= x1,\"iteration\" = i-1,\"converged\" = converged))\n",
    "}"
   ]
  },
  {
   "cell_type": "code",
   "execution_count": 202,
   "metadata": {},
   "outputs": [
    {
     "data": {
      "text/html": [
       "<table>\n",
       "<thead><tr><th></th><th scope=col>0.1</th><th scope=col>0.3</th><th scope=col>0.5</th><th scope=col>0.7</th><th scope=col>0.9</th><th scope=col>1.0</th></tr></thead>\n",
       "<tbody>\n",
       "\t<tr><th scope=row>x1</th><td> -4.926078</td><td> -4.924722</td><td> -4.931246</td><td> -4.931343</td><td> -6.540701</td><td>-28.411975</td></tr>\n",
       "\t<tr><th scope=row>x2</th><td>  6.563981</td><td>  6.562334</td><td>  6.570435</td><td>  6.570860</td><td>  8.533689</td><td> 34.507292</td></tr>\n",
       "\t<tr><th scope=row>x3</th><td>  1.283290</td><td>  1.282982</td><td>  1.284462</td><td>  1.284480</td><td>  1.733906</td><td>  6.684101</td></tr>\n",
       "</tbody>\n",
       "</table>\n"
      ],
      "text/latex": [
       "\\begin{tabular}{r|llllll}\n",
       "  & 0.1 & 0.3 & 0.5 & 0.7 & 0.9 & 1.0\\\\\n",
       "\\hline\n",
       "\tx1 &  -4.926078 &  -4.924722 &  -4.931246 &  -4.931343 &  -6.540701 & -28.411975\\\\\n",
       "\tx2 &   6.563981 &   6.562334 &   6.570435 &   6.570860 &   8.533689 &  34.507292\\\\\n",
       "\tx3 &   1.283290 &   1.282982 &   1.284462 &   1.284480 &   1.733906 &   6.684101\\\\\n",
       "\\end{tabular}\n"
      ],
      "text/markdown": [
       "\n",
       "| <!--/--> | 0.1 | 0.3 | 0.5 | 0.7 | 0.9 | 1.0 |\n",
       "|---|---|---|---|---|---|---|\n",
       "| x1 |  -4.926078 |  -4.924722 |  -4.931246 |  -4.931343 |  -6.540701 | -28.411975 |\n",
       "| x2 |   6.563981 |   6.562334 |   6.570435 |   6.570860 |   8.533689 |  34.507292 |\n",
       "| x3 |   1.283290 |   1.282982 |   1.284462 |   1.284480 |   1.733906 |   6.684101 |\n",
       "\n"
      ],
      "text/plain": [
       "   0.1        0.3        0.5        0.7        0.9        1.0       \n",
       "x1  -4.926078  -4.924722  -4.931246  -4.931343  -6.540701 -28.411975\n",
       "x2   6.563981   6.562334   6.570435   6.570860   8.533689  34.507292\n",
       "x3   1.283290   1.282982   1.284462   1.284480   1.733906   6.684101"
      ]
     },
     "metadata": {},
     "output_type": "display_data"
    },
    {
     "data": {
      "text/html": [
       "<table>\n",
       "<thead><tr><th scope=col>0.1</th><th scope=col>0.3</th><th scope=col>0.5</th><th scope=col>0.7</th><th scope=col>0.9</th><th scope=col>1.0</th></tr></thead>\n",
       "<tbody>\n",
       "\t<tr><td>611</td><td>474</td><td>338</td><td>199</td><td>60 </td><td>61 </td></tr>\n",
       "</tbody>\n",
       "</table>\n"
      ],
      "text/latex": [
       "\\begin{tabular}{llllll}\n",
       " 0.1 & 0.3 & 0.5 & 0.7 & 0.9 & 1.0\\\\\n",
       "\\hline\n",
       "\t 611 & 474 & 338 & 199 & 60  & 61 \\\\\n",
       "\\end{tabular}\n"
      ],
      "text/markdown": [
       "\n",
       "| 0.1 | 0.3 | 0.5 | 0.7 | 0.9 | 1.0 |\n",
       "|---|---|---|---|---|---|\n",
       "| 611 | 474 | 338 | 199 | 60  | 61  |\n",
       "\n"
      ],
      "text/plain": [
       "     0.1 0.3 0.5 0.7 0.9 1.0\n",
       "[1,] 611 474 338 199 60  61 "
      ]
     },
     "metadata": {},
     "output_type": "display_data"
    },
    {
     "data": {
      "text/html": [
       "<ol class=list-inline>\n",
       "\t<li>'0.1'</li>\n",
       "\t<li>'0.3'</li>\n",
       "\t<li>'0.5'</li>\n",
       "\t<li>'0.7'</li>\n",
       "\t<li>'0.9'</li>\n",
       "\t<li>'1.0'</li>\n",
       "</ol>\n"
      ],
      "text/latex": [
       "\\begin{enumerate*}\n",
       "\\item '0.1'\n",
       "\\item '0.3'\n",
       "\\item '0.5'\n",
       "\\item '0.7'\n",
       "\\item '0.9'\n",
       "\\item '1.0'\n",
       "\\end{enumerate*}\n"
      ],
      "text/markdown": [
       "1. '0.1'\n",
       "2. '0.3'\n",
       "3. '0.5'\n",
       "4. '0.7'\n",
       "5. '0.9'\n",
       "6. '1.0'\n",
       "\n",
       "\n"
      ],
      "text/plain": [
       "[1] \"0.1\" \"0.3\" \"0.5\" \"0.7\" \"0.9\" \"1.0\""
      ]
     },
     "metadata": {},
     "output_type": "display_data"
    }
   ],
   "source": [
    "betas <- c(0.1,0.3,0.5,0.7,0.9,1)\n",
    "alpha <- 0.5\n",
    "thres <- 10**(-2)\n",
    "maxiter <- 10000\n",
    "successbetas <- c()\n",
    "iternations <- list()\n",
    "xsfull <- list()\n",
    "x = matrix(rep(0,ncol(A)), nrow = ncol(A), ncol = 1)\n",
    "rownames(x) <- c(\"x1\", \"x2\", \"x3\")\n",
    "row = 1\n",
    "for (beta in betas) {\n",
    "    answer <- polyakMomentum(y,A,x,alpha,beta,thres,maxiter)\n",
    "        if (answer$converged){\n",
    "        successbetas <- append(successbetas,beta)\n",
    "        xsfull[[row]] <- answer$x\n",
    "        iternations[[row]] <- answer$iteration\n",
    "        row = row+1\n",
    "    }\n",
    "    }\n",
    "successbetas <- format(successbetas, scientific = FALSE)\n",
    "xsfull <- do.call(cbind, xsfull)\n",
    "iternations <- do.call(cbind, iternations)\n",
    "\n",
    "colnames(xsfull)<- successbetas\n",
    "colnames(iternations)<- successbetas\n",
    "modifiedxs <- format(xsfull, scientific = FALSE)\n",
    "modifiedxs\n",
    "iternations\n",
    "successbetas"
   ]
  },
  {
   "cell_type": "code",
   "execution_count": 203,
   "metadata": {},
   "outputs": [
    {
     "data": {
      "image/png": "[encoded data removed]",
      "text/plain": [
       "Plot with title \"Interation vs betas\""
      ]
     },
     "metadata": {},
     "output_type": "display_data"
    }
   ],
   "source": [
    "barplot(iternations, main=\"Interation vs betas\", names.arg = successbetas,\n",
    "        ylab = \"Interations\", ylim = c(0,max(iternations)+20), xlab = \"Betas\", axes = FALSE)\n",
    "ylabel <- seq(0, max(iternations)+20, by = max(iternations)%/%10)\n",
    "axis(2, at = ylabel, las = 1)\n",
    "box()"
   ]
  },
  {
   "cell_type": "markdown",
   "metadata": {},
   "source": [
    "#### Observation for using Polyak's momentum method\n",
    "\n",
    "There is vast improvement in the alogorithm by using Polyaks Moemtum method. For same alphas number of iteration is reduced to as low as 60 for beta = 0.9. Also we can observe that with beta = 0.9 the cofficients are some what different than with other betas. And as beta>=1 number of iternation increases. I tested for beta  = 1.5 and 2 also for these betas there was no convergenvce."
   ]
  },
  {
   "cell_type": "markdown",
   "metadata": {},
   "source": [
    "To verify my coffiecients I did same problem using \"glm\" modelling(shown below). But coffiecients I got for \"glm\" are way too different than coffiecients I got. Is there any specific reason or my implementation is wrong ?"
   ]
  },
  {
   "cell_type": "code",
   "execution_count": 223,
   "metadata": {},
   "outputs": [
    {
     "data": {
      "text/html": [
       "<table>\n",
       "<thead><tr><th scope=col>Customer</th><th scope=col>HasCard</th><th scope=col>Spends</th><th scope=col>UsesCoupon</th></tr></thead>\n",
       "<tbody>\n",
       "\t<tr><td>1        </td><td>0        </td><td>8.5815985</td><td>1        </td></tr>\n",
       "\t<tr><td>2        </td><td>0        </td><td>1.4640473</td><td>0        </td></tr>\n",
       "\t<tr><td>3        </td><td>0        </td><td>3.4647250</td><td>0        </td></tr>\n",
       "\t<tr><td>4        </td><td>1        </td><td>0.8019791</td><td>1        </td></tr>\n",
       "\t<tr><td>5        </td><td>0        </td><td>9.9601634</td><td>1        </td></tr>\n",
       "\t<tr><td>6        </td><td>1        </td><td>7.9306165</td><td>1        </td></tr>\n",
       "</tbody>\n",
       "</table>\n"
      ],
      "text/latex": [
       "\\begin{tabular}{r|llll}\n",
       " Customer & HasCard & Spends & UsesCoupon\\\\\n",
       "\\hline\n",
       "\t 1         & 0         & 8.5815985 & 1        \\\\\n",
       "\t 2         & 0         & 1.4640473 & 0        \\\\\n",
       "\t 3         & 0         & 3.4647250 & 0        \\\\\n",
       "\t 4         & 1         & 0.8019791 & 1        \\\\\n",
       "\t 5         & 0         & 9.9601634 & 1        \\\\\n",
       "\t 6         & 1         & 7.9306165 & 1        \\\\\n",
       "\\end{tabular}\n"
      ],
      "text/markdown": [
       "\n",
       "| Customer | HasCard | Spends | UsesCoupon |\n",
       "|---|---|---|---|\n",
       "| 1         | 0         | 8.5815985 | 1         |\n",
       "| 2         | 0         | 1.4640473 | 0         |\n",
       "| 3         | 0         | 3.4647250 | 0         |\n",
       "| 4         | 1         | 0.8019791 | 1         |\n",
       "| 5         | 0         | 9.9601634 | 1         |\n",
       "| 6         | 1         | 7.9306165 | 1         |\n",
       "\n"
      ],
      "text/plain": [
       "  Customer HasCard Spends    UsesCoupon\n",
       "1 1        0       8.5815985 1         \n",
       "2 2        0       1.4640473 0         \n",
       "3 3        0       3.4647250 0         \n",
       "4 4        1       0.8019791 1         \n",
       "5 5        0       9.9601634 1         \n",
       "6 6        1       7.9306165 1         "
      ]
     },
     "metadata": {},
     "output_type": "display_data"
    }
   ],
   "source": [
    "head(storeData)"
   ]
  },
  {
   "cell_type": "code",
   "execution_count": 224,
   "metadata": {},
   "outputs": [
    {
     "data": {
      "text/html": [
       "<dl class=dl-horizontal>\n",
       "\t<dt>(Intercept)</dt>\n",
       "\t\t<dd>-1792.18121333074</dd>\n",
       "\t<dt>HasCard</dt>\n",
       "\t\t<dd>1794.90950948725</dd>\n",
       "\t<dt>Spends</dt>\n",
       "\t\t<dd>439.860036489745</dd>\n",
       "</dl>\n"
      ],
      "text/latex": [
       "\\begin{description*}\n",
       "\\item[(Intercept)] -1792.18121333074\n",
       "\\item[HasCard] 1794.90950948725\n",
       "\\item[Spends] 439.860036489745\n",
       "\\end{description*}\n"
      ],
      "text/markdown": [
       "(Intercept)\n",
       ":   -1792.18121333074HasCard\n",
       ":   1794.90950948725Spends\n",
       ":   439.860036489745\n",
       "\n"
      ],
      "text/plain": [
       "(Intercept)     HasCard      Spends \n",
       "  -1792.181    1794.910     439.860 "
      ]
     },
     "metadata": {},
     "output_type": "display_data"
    }
   ],
   "source": [
    "logitMod <- glm(UsesCoupon ~ HasCard + Spends, data = storeData, family = binomial(link = \"logit\"))\n",
    "coef(logitMod)"
   ]
  },
  {
   "cell_type": "markdown",
   "metadata": {},
   "source": [
    "Github link for the code \n",
    "\n",
    "https://github.com/jainsanyam786/OptimizationForMachineLearning.git"
   ]
  }
 ],
 "metadata": {
  "kernelspec": {
   "display_name": "R",
   "language": "R",
   "name": "ir"
  },
  "language_info": {
   "codemirror_mode": "r",
   "file_extension": ".r",
   "mimetype": "text/x-r-source",
   "name": "R",
   "pygments_lexer": "r",
   "version": "3.6.1"
  }
 },
 "nbformat": 4,
 "nbformat_minor": 4
}

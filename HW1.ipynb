{
 "cells": [
  {
   "cell_type": "markdown",
   "metadata": {},
   "source": [
    "# HOMEWORK1"
   ]
  },
  {
   "cell_type": "markdown",
   "metadata": {},
   "source": [
    "## Read the data\n",
    "\n",
    "We will dataset is about the house prices in a region in Europe together with the square footage and number of bedroom information denoted by the column (variable) with names sqft and bd respectively. There are n=10 million data points."
   ]
  },
  {
   "cell_type": "code",
   "execution_count": 1,
   "metadata": {},
   "outputs": [],
   "source": [
    "options(warn=-1)\n",
    "houseData <- read.csv('house.csv')"
   ]
  },
  {
   "cell_type": "markdown",
   "metadata": {},
   "source": [
    "### Inspect the data read\n",
    "\n",
    "R read the data as dataframe by default so there is no need to convert the \"houseData\" to datafram."
   ]
  },
  {
   "cell_type": "code",
   "execution_count": 2,
   "metadata": {},
   "outputs": [
    {
     "name": "stdout",
     "output_type": "stream",
     "text": [
      "[1] Is houseData a dataframe TRUE\n"
     ]
    },
    {
     "data": {
      "text/html": [
       "<table>\n",
       "<thead><tr><th scope=col>X</th><th scope=col>bd</th><th scope=col>sqft</th><th scope=col>price</th></tr></thead>\n",
       "<tbody>\n",
       "\t<tr><td>1     </td><td>1     </td><td>1370  </td><td>451000</td></tr>\n",
       "\t<tr><td>2     </td><td>4     </td><td>2060  </td><td>899000</td></tr>\n",
       "\t<tr><td>3     </td><td>4     </td><td>1738  </td><td>944000</td></tr>\n",
       "\t<tr><td>4     </td><td>3     </td><td>1588  </td><td>715000</td></tr>\n",
       "\t<tr><td>5     </td><td>4     </td><td>2092  </td><td>897000</td></tr>\n",
       "\t<tr><td>6     </td><td>3     </td><td>1456  </td><td>703000</td></tr>\n",
       "</tbody>\n",
       "</table>\n"
      ],
      "text/latex": [
       "\\begin{tabular}{r|llll}\n",
       " X & bd & sqft & price\\\\\n",
       "\\hline\n",
       "\t 1      & 1      & 1370   & 451000\\\\\n",
       "\t 2      & 4      & 2060   & 899000\\\\\n",
       "\t 3      & 4      & 1738   & 944000\\\\\n",
       "\t 4      & 3      & 1588   & 715000\\\\\n",
       "\t 5      & 4      & 2092   & 897000\\\\\n",
       "\t 6      & 3      & 1456   & 703000\\\\\n",
       "\\end{tabular}\n"
      ],
      "text/markdown": [
       "\n",
       "| X | bd | sqft | price |\n",
       "|---|---|---|---|\n",
       "| 1      | 1      | 1370   | 451000 |\n",
       "| 2      | 4      | 2060   | 899000 |\n",
       "| 3      | 4      | 1738   | 944000 |\n",
       "| 4      | 3      | 1588   | 715000 |\n",
       "| 5      | 4      | 2092   | 897000 |\n",
       "| 6      | 3      | 1456   | 703000 |\n",
       "\n"
      ],
      "text/plain": [
       "  X bd sqft price \n",
       "1 1 1  1370 451000\n",
       "2 2 4  2060 899000\n",
       "3 3 4  1738 944000\n",
       "4 4 3  1588 715000\n",
       "5 5 4  2092 897000\n",
       "6 6 3  1456 703000"
      ]
     },
     "metadata": {},
     "output_type": "display_data"
    }
   ],
   "source": [
    "print(paste(\"Is houseData a dataframe\", is.data.frame(houseData),sep = \" \"),quote=FALSE)\n",
    "head(houseData)"
   ]
  },
  {
   "cell_type": "code",
   "execution_count": 3,
   "metadata": {},
   "outputs": [
    {
     "name": "stdout",
     "output_type": "stream",
     "text": [
      "Size of data frame 10000000 4"
     ]
    }
   ],
   "source": [
    "cat(\"Size of data frame\",dim.data.frame(houseData))"
   ]
  },
  {
   "cell_type": "markdown",
   "metadata": {},
   "source": [
    "## Question 1 - Rewrite the objective in the form"
   ]
  },
  {
   "cell_type": "code",
   "execution_count": 4,
   "metadata": {},
   "outputs": [
    {
     "name": "stdout",
     "output_type": "stream",
     "text": [
      "[1] \"Price\"\n"
     ]
    },
    {
     "data": {
      "text/html": [
       "<table>\n",
       "<tbody>\n",
       "\t<tr><td>451000</td></tr>\n",
       "\t<tr><td>899000</td></tr>\n",
       "\t<tr><td>944000</td></tr>\n",
       "\t<tr><td>715000</td></tr>\n",
       "\t<tr><td>897000</td></tr>\n",
       "\t<tr><td>703000</td></tr>\n",
       "</tbody>\n",
       "</table>\n"
      ],
      "text/latex": [
       "\\begin{tabular}{l}\n",
       "\t 451000\\\\\n",
       "\t 899000\\\\\n",
       "\t 944000\\\\\n",
       "\t 715000\\\\\n",
       "\t 897000\\\\\n",
       "\t 703000\\\\\n",
       "\\end{tabular}\n"
      ],
      "text/markdown": [
       "\n",
       "| 451000 |\n",
       "| 899000 |\n",
       "| 944000 |\n",
       "| 715000 |\n",
       "| 897000 |\n",
       "| 703000 |\n",
       "\n"
      ],
      "text/plain": [
       "     [,1]  \n",
       "[1,] 451000\n",
       "[2,] 899000\n",
       "[3,] 944000\n",
       "[4,] 715000\n",
       "[5,] 897000\n",
       "[6,] 703000"
      ]
     },
     "metadata": {},
     "output_type": "display_data"
    },
    {
     "name": "stdout",
     "output_type": "stream",
     "text": [
      "[1] \"Features\"\n"
     ]
    },
    {
     "data": {
      "text/html": [
       "<table>\n",
       "<thead><tr><th scope=col>bd</th><th scope=col>sqft</th></tr></thead>\n",
       "<tbody>\n",
       "\t<tr><td>1   </td><td>1370</td></tr>\n",
       "\t<tr><td>4   </td><td>2060</td></tr>\n",
       "\t<tr><td>4   </td><td>1738</td></tr>\n",
       "\t<tr><td>3   </td><td>1588</td></tr>\n",
       "\t<tr><td>4   </td><td>2092</td></tr>\n",
       "\t<tr><td>3   </td><td>1456</td></tr>\n",
       "</tbody>\n",
       "</table>\n"
      ],
      "text/latex": [
       "\\begin{tabular}{ll}\n",
       " bd & sqft\\\\\n",
       "\\hline\n",
       "\t 1    & 1370\\\\\n",
       "\t 4    & 2060\\\\\n",
       "\t 4    & 1738\\\\\n",
       "\t 3    & 1588\\\\\n",
       "\t 4    & 2092\\\\\n",
       "\t 3    & 1456\\\\\n",
       "\\end{tabular}\n"
      ],
      "text/markdown": [
       "\n",
       "| bd | sqft |\n",
       "|---|---|\n",
       "| 1    | 1370 |\n",
       "| 4    | 2060 |\n",
       "| 4    | 1738 |\n",
       "| 3    | 1588 |\n",
       "| 4    | 2092 |\n",
       "| 3    | 1456 |\n",
       "\n"
      ],
      "text/plain": [
       "     bd sqft\n",
       "[1,] 1  1370\n",
       "[2,] 4  2060\n",
       "[3,] 4  1738\n",
       "[4,] 3  1588\n",
       "[5,] 4  2092\n",
       "[6,] 3  1456"
      ]
     },
     "metadata": {},
     "output_type": "display_data"
    }
   ],
   "source": [
    "y <- as.matrix(houseData$price)\n",
    "A <- as.matrix(houseData[,2:3])\n",
    "ones = matrix(rep(1,nrow(y)), nrow = nrow(y), ncol = 1)\n",
    "print(\"Price\")\n",
    "head(y)\n",
    "print(\"Features\")\n",
    "head(A)"
   ]
  },
  {
   "cell_type": "markdown",
   "metadata": {},
   "source": [
    "### Normalise Data"
   ]
  },
  {
   "cell_type": "code",
   "execution_count": 5,
   "metadata": {},
   "outputs": [
    {
     "name": "stdout",
     "output_type": "stream",
     "text": [
      "[1] \"After Normalization\"\n",
      "[1] \"Price\"\n"
     ]
    },
    {
     "data": {
      "text/html": [
       "<table>\n",
       "<tbody>\n",
       "\t<tr><td>-1.2490641</td></tr>\n",
       "\t<tr><td> 1.4362784</td></tr>\n",
       "\t<tr><td> 1.7060115</td></tr>\n",
       "\t<tr><td> 0.3333699</td></tr>\n",
       "\t<tr><td> 1.4242903</td></tr>\n",
       "\t<tr><td> 0.2614411</td></tr>\n",
       "</tbody>\n",
       "</table>\n"
      ],
      "text/latex": [
       "\\begin{tabular}{l}\n",
       "\t -1.2490641\\\\\n",
       "\t  1.4362784\\\\\n",
       "\t  1.7060115\\\\\n",
       "\t  0.3333699\\\\\n",
       "\t  1.4242903\\\\\n",
       "\t  0.2614411\\\\\n",
       "\\end{tabular}\n"
      ],
      "text/markdown": [
       "\n",
       "| -1.2490641 |\n",
       "|  1.4362784 |\n",
       "|  1.7060115 |\n",
       "|  0.3333699 |\n",
       "|  1.4242903 |\n",
       "|  0.2614411 |\n",
       "\n"
      ],
      "text/plain": [
       "     [,1]      \n",
       "[1,] -1.2490641\n",
       "[2,]  1.4362784\n",
       "[3,]  1.7060115\n",
       "[4,]  0.3333699\n",
       "[5,]  1.4242903\n",
       "[6,]  0.2614411"
      ]
     },
     "metadata": {},
     "output_type": "display_data"
    },
    {
     "name": "stdout",
     "output_type": "stream",
     "text": [
      "[1] \"Features\"\n"
     ]
    },
    {
     "data": {
      "text/html": [
       "<table>\n",
       "<thead><tr><th scope=col>bd</th><th scope=col>sqft</th></tr></thead>\n",
       "<tbody>\n",
       "\t<tr><td>-1.3411019</td><td>-0.6753744</td></tr>\n",
       "\t<tr><td> 1.3424687</td><td> 1.9160003</td></tr>\n",
       "\t<tr><td> 1.3424687</td><td> 0.7066921</td></tr>\n",
       "\t<tr><td> 0.4479452</td><td> 0.1433498</td></tr>\n",
       "\t<tr><td> 1.3424687</td><td> 2.0361800</td></tr>\n",
       "\t<tr><td> 0.4479452</td><td>-0.3523915</td></tr>\n",
       "</tbody>\n",
       "</table>\n"
      ],
      "text/latex": [
       "\\begin{tabular}{ll}\n",
       " bd & sqft\\\\\n",
       "\\hline\n",
       "\t -1.3411019 & -0.6753744\\\\\n",
       "\t  1.3424687 &  1.9160003\\\\\n",
       "\t  1.3424687 &  0.7066921\\\\\n",
       "\t  0.4479452 &  0.1433498\\\\\n",
       "\t  1.3424687 &  2.0361800\\\\\n",
       "\t  0.4479452 & -0.3523915\\\\\n",
       "\\end{tabular}\n"
      ],
      "text/markdown": [
       "\n",
       "| bd | sqft |\n",
       "|---|---|\n",
       "| -1.3411019 | -0.6753744 |\n",
       "|  1.3424687 |  1.9160003 |\n",
       "|  1.3424687 |  0.7066921 |\n",
       "|  0.4479452 |  0.1433498 |\n",
       "|  1.3424687 |  2.0361800 |\n",
       "|  0.4479452 | -0.3523915 |\n",
       "\n"
      ],
      "text/plain": [
       "     bd         sqft      \n",
       "[1,] -1.3411019 -0.6753744\n",
       "[2,]  1.3424687  1.9160003\n",
       "[3,]  1.3424687  0.7066921\n",
       "[4,]  0.4479452  0.1433498\n",
       "[5,]  1.3424687  2.0361800\n",
       "[6,]  0.4479452 -0.3523915"
      ]
     },
     "metadata": {},
     "output_type": "display_data"
    }
   ],
   "source": [
    "y <- (y - mean(y))/sd(y)\n",
    "A[,1] = (A[,1] - mean(A[,1]))/sd(A[,1])\n",
    "A[,2] = (A[,2] - mean(A[,2]))/sd(A[,2])\n",
    "\n",
    "print(\"After Normalization\")\n",
    "print(\"Price\")\n",
    "head(y)\n",
    "print(\"Features\")\n",
    "head(A)"
   ]
  },
  {
   "cell_type": "markdown",
   "metadata": {},
   "source": [
    "#### Complete Data matrix A with ones for intercept"
   ]
  },
  {
   "cell_type": "code",
   "execution_count": 6,
   "metadata": {},
   "outputs": [
    {
     "data": {
      "text/html": [
       "<table>\n",
       "<thead><tr><th scope=col>intercept</th><th scope=col>bd</th><th scope=col>sqft</th></tr></thead>\n",
       "<tbody>\n",
       "\t<tr><td>1         </td><td>-1.3411019</td><td>-0.6753744</td></tr>\n",
       "\t<tr><td>1         </td><td> 1.3424687</td><td> 1.9160003</td></tr>\n",
       "\t<tr><td>1         </td><td> 1.3424687</td><td> 0.7066921</td></tr>\n",
       "\t<tr><td>1         </td><td> 0.4479452</td><td> 0.1433498</td></tr>\n",
       "\t<tr><td>1         </td><td> 1.3424687</td><td> 2.0361800</td></tr>\n",
       "\t<tr><td>1         </td><td> 0.4479452</td><td>-0.3523915</td></tr>\n",
       "</tbody>\n",
       "</table>\n"
      ],
      "text/latex": [
       "\\begin{tabular}{lll}\n",
       " intercept & bd & sqft\\\\\n",
       "\\hline\n",
       "\t 1          & -1.3411019 & -0.6753744\\\\\n",
       "\t 1          &  1.3424687 &  1.9160003\\\\\n",
       "\t 1          &  1.3424687 &  0.7066921\\\\\n",
       "\t 1          &  0.4479452 &  0.1433498\\\\\n",
       "\t 1          &  1.3424687 &  2.0361800\\\\\n",
       "\t 1          &  0.4479452 & -0.3523915\\\\\n",
       "\\end{tabular}\n"
      ],
      "text/markdown": [
       "\n",
       "| intercept | bd | sqft |\n",
       "|---|---|---|\n",
       "| 1          | -1.3411019 | -0.6753744 |\n",
       "| 1          |  1.3424687 |  1.9160003 |\n",
       "| 1          |  1.3424687 |  0.7066921 |\n",
       "| 1          |  0.4479452 |  0.1433498 |\n",
       "| 1          |  1.3424687 |  2.0361800 |\n",
       "| 1          |  0.4479452 | -0.3523915 |\n",
       "\n"
      ],
      "text/plain": [
       "     intercept bd         sqft      \n",
       "[1,] 1         -1.3411019 -0.6753744\n",
       "[2,] 1          1.3424687  1.9160003\n",
       "[3,] 1          1.3424687  0.7066921\n",
       "[4,] 1          0.4479452  0.1433498\n",
       "[5,] 1          1.3424687  2.0361800\n",
       "[6,] 1          0.4479452 -0.3523915"
      ]
     },
     "metadata": {},
     "output_type": "display_data"
    },
    {
     "data": {
      "text/html": [
       "3"
      ],
      "text/latex": [
       "3"
      ],
      "text/markdown": [
       "3"
      ],
      "text/plain": [
       "[1] 3"
      ]
     },
     "metadata": {},
     "output_type": "display_data"
    }
   ],
   "source": [
    "A = cbind(ones,A)\n",
    "colnames(A)[1] <- \"intercept\"\n",
    "head(A)\n",
    "ncol(A)"
   ]
  },
  {
   "cell_type": "markdown",
   "metadata": {},
   "source": [
    "#### Objective Function in the Matric form with square of L2 Norm"
   ]
  },
  {
   "cell_type": "code",
   "execution_count": 7,
   "metadata": {},
   "outputs": [
    {
     "data": {
      "text/html": [
       "<ol class=list-inline>\n",
       "\t<li>3</li>\n",
       "\t<li>1</li>\n",
       "</ol>\n"
      ],
      "text/latex": [
       "\\begin{enumerate*}\n",
       "\\item 3\n",
       "\\item 1\n",
       "\\end{enumerate*}\n"
      ],
      "text/markdown": [
       "1. 3\n",
       "2. 1\n",
       "\n",
       "\n"
      ],
      "text/plain": [
       "[1] 3 1"
      ]
     },
     "metadata": {},
     "output_type": "display_data"
    }
   ],
   "source": [
    "fx <- function(x,y,A){\n",
    "    return (((norm((y-(A %*% x)), type = \"2\"))**2)/(2*nrow(A)))\n",
    "}\n",
    "##This is sample x row matrix [x1,x2,x3] initialize as zereo\n",
    "x = matrix(rep(0,ncol(A)),nrow =ncol(A), byrow = TRUE) \n",
    "dim(x)"
   ]
  },
  {
   "cell_type": "markdown",
   "metadata": {},
   "source": [
    "## Question 2 - Gradient descent"
   ]
  },
  {
   "cell_type": "markdown",
   "metadata": {},
   "source": [
    "#### Defination of function for gradient descent and gradient calculation"
   ]
  },
  {
   "cell_type": "code",
   "execution_count": 8,
   "metadata": {},
   "outputs": [],
   "source": [
    "deltafx <- function(y1,A1,x1){\n",
    "    yhat <-  A1%*%x1\n",
    "    diff <- y1 -yhat\n",
    "    At <- t(A1) \n",
    "    df <- -((At%*%diff)/nrow(A1))\n",
    "    return(df)\n",
    "}\n",
    "\n",
    "gradientDescent <- function(y1,A1,x1,alpha,thrs, maxi){\n",
    "    converged<-FALSE\n",
    "    i=1\n",
    "    x1<-x1\n",
    "    gradientTrend <- c()\n",
    "     while((!converged  && i <= maxi))\n",
    "            {\n",
    "                deltaf <- deltafx(y1,A1,x1)\n",
    "                if(is.nan(norm(deltaf))){\n",
    "                    break\n",
    "                }\n",
    "                x1 <- x1 - (alpha*deltaf)\n",
    "                gradientTrend <- append(gradientTrend,norm(deltaf))\n",
    "                converged <- (norm(deltaf) <= thrs)\n",
    "                i <- i+1\n",
    "            }\n",
    "\n",
    "    return (list(\"x1\"= x1,\"gradientTrend\" =gradientTrend, \"iteration\" = i-1,\"converged\" = converged))\n",
    "}\n"
   ]
  },
  {
   "cell_type": "code",
   "execution_count": 31,
   "metadata": {},
   "outputs": [
    {
     "data": {
      "text/html": [
       "<table>\n",
       "<thead><tr><th></th><th scope=col>1.0</th><th scope=col>0.1</th></tr></thead>\n",
       "<tbody>\n",
       "\t<tr><th scope=row>intercept</th><td>0.00000000000000007827117</td><td>0.00000000000000008478084</td></tr>\n",
       "\t<tr><th scope=row>bd</th><td>0.67149730071657520724671</td><td>0.63946203261536271877929</td></tr>\n",
       "\t<tr><th scope=row>sqft</th><td>0.32223947593443569292759</td><td>0.34988143845254865427208</td></tr>\n",
       "</tbody>\n",
       "</table>\n"
      ],
      "text/latex": [
       "\\begin{tabular}{r|ll}\n",
       "  & 1.0 & 0.1\\\\\n",
       "\\hline\n",
       "\tintercept & 0.00000000000000007827117 & 0.00000000000000008478084\\\\\n",
       "\tbd & 0.67149730071657520724671 & 0.63946203261536271877929\\\\\n",
       "\tsqft & 0.32223947593443569292759 & 0.34988143845254865427208\\\\\n",
       "\\end{tabular}\n"
      ],
      "text/markdown": [
       "\n",
       "| <!--/--> | 1.0 | 0.1 |\n",
       "|---|---|---|\n",
       "| intercept | 0.00000000000000007827117 | 0.00000000000000008478084 |\n",
       "| bd | 0.67149730071657520724671 | 0.63946203261536271877929 |\n",
       "| sqft | 0.32223947593443569292759 | 0.34988143845254865427208 |\n",
       "\n"
      ],
      "text/plain": [
       "          1.0                       0.1                      \n",
       "intercept 0.00000000000000007827117 0.00000000000000008478084\n",
       "bd        0.67149730071657520724671 0.63946203261536271877929\n",
       "sqft      0.32223947593443569292759 0.34988143845254865427208"
      ]
     },
     "metadata": {},
     "output_type": "display_data"
    },
    {
     "data": {
      "text/html": [
       "<table>\n",
       "<thead><tr><th scope=col>1.0</th><th scope=col>0.1</th></tr></thead>\n",
       "<tbody>\n",
       "\t<tr><td>31 </td><td>108</td></tr>\n",
       "</tbody>\n",
       "</table>\n"
      ],
      "text/latex": [
       "\\begin{tabular}{ll}\n",
       " 1.0 & 0.1\\\\\n",
       "\\hline\n",
       "\t 31  & 108\\\\\n",
       "\\end{tabular}\n"
      ],
      "text/markdown": [
       "\n",
       "| 1.0 | 0.1 |\n",
       "|---|---|\n",
       "| 31  | 108 |\n",
       "\n"
      ],
      "text/plain": [
       "     1.0 0.1\n",
       "[1,] 31  108"
      ]
     },
     "metadata": {},
     "output_type": "display_data"
    },
    {
     "data": {
      "text/html": [
       "<ol class=list-inline>\n",
       "\t<li>'1.0'</li>\n",
       "\t<li>'0.1'</li>\n",
       "</ol>\n"
      ],
      "text/latex": [
       "\\begin{enumerate*}\n",
       "\\item '1.0'\n",
       "\\item '0.1'\n",
       "\\end{enumerate*}\n"
      ],
      "text/markdown": [
       "1. '1.0'\n",
       "2. '0.1'\n",
       "\n",
       "\n"
      ],
      "text/plain": [
       "[1] \"1.0\" \"0.1\""
      ]
     },
     "metadata": {},
     "output_type": "display_data"
    }
   ],
   "source": [
    "#running gradient descent on complete data\n",
    "alphas <- c(1,0.1)\n",
    "thres <- 10**(-2)\n",
    "maxiter <- 10000\n",
    "A2 <- A\n",
    "y2 <- y\n",
    "successalphs <- c()\n",
    "iternations <- list()\n",
    "gradienttrend <- list()\n",
    "xsfull <- list()\n",
    "x <- matrix(rep(0,ncol(A)),nrow =ncol(A), byrow = TRUE)\n",
    "row = 1\n",
    "for (alpha in alphas) {\n",
    "    answer <- gradientDescent(y,A,x,alpha,thres,maxiter)\n",
    "        if (answer$converged){\n",
    "        successalphs <- append(successalphs,alpha)\n",
    "        xsfull[[row]] <- answer$x\n",
    "        iternations[[row]] <- answer$iteration\n",
    "        gradienttrend[[row]] <- answer$gradientTrend\n",
    "        row = row+1\n",
    "    }\n",
    "    }\n",
    "successalphs <- format(successalphs, scientific = FALSE)\n",
    "xsfull <- do.call(cbind, xsfull)\n",
    "iternations <- do.call(cbind, iternations)\n",
    "\n",
    "colnames(xsfull)<- successalphs\n",
    "colnames(iternations)<- successalphs\n",
    "modifiedxs <- format(xsfull, scientific = FALSE)\n",
    "modifiedxs\n",
    "iternations\n",
    "successalphs"
   ]
  },
  {
   "cell_type": "code",
   "execution_count": 32,
   "metadata": {},
   "outputs": [
    {
     "data": {
      "image/png": "[encoded data removed]",
      "text/plain": [
       "Plot with title \"Interation vs alpha\""
      ]
     },
     "metadata": {},
     "output_type": "display_data"
    }
   ],
   "source": [
    "barplot(iternations, main=\"Interation vs alpha\", names.arg = successalphs,\n",
    "        ylab = \"Interations\", ylim = c(0,max(iternations)+20), xlab = \"Alpha\", axes = FALSE)\n",
    "ylabel <- seq(0, max(iternations)+20, by = max(iternations)%/%10)\n",
    "axis(2, at = ylabel, las = 1)\n",
    "box()"
   ]
  },
  {
   "cell_type": "markdown",
   "metadata": {},
   "source": [
    "#### Running gradient descent for varoius values of alpha with less no. number of rows"
   ]
  },
  {
   "cell_type": "code",
   "execution_count": 33,
   "metadata": {},
   "outputs": [
    {
     "data": {
      "text/html": [
       "<table>\n",
       "<thead><tr><th></th><th scope=col>1.0000</th><th scope=col>0.1000</th><th scope=col>0.0100</th><th scope=col>0.0050</th><th scope=col>0.0020</th><th scope=col>0.0015</th></tr></thead>\n",
       "<tbody>\n",
       "\t<tr><th scope=row>intercept</th><td>-0.009055142</td><td>-0.01009188 </td><td>-0.01010718 </td><td>-0.01010849 </td><td>-0.0101090  </td><td>-0.0101090  </td></tr>\n",
       "\t<tr><th scope=row>bd</th><td> 0.673877865</td><td> 0.64525086 </td><td> 0.64470173 </td><td> 0.64465470 </td><td> 0.6446364  </td><td> 0.6446367  </td></tr>\n",
       "\t<tr><th scope=row>sqft</th><td> 0.301272612</td><td> 0.33363521 </td><td> 0.33417774 </td><td> 0.33422421 </td><td> 0.3342423  </td><td> 0.3342420  </td></tr>\n",
       "</tbody>\n",
       "</table>\n"
      ],
      "text/latex": [
       "\\begin{tabular}{r|llllll}\n",
       "  & 1.0000 & 0.1000 & 0.0100 & 0.0050 & 0.0020 & 0.0015\\\\\n",
       "\\hline\n",
       "\tintercept & -0.009055142 & -0.01009188  & -0.01010718  & -0.01010849  & -0.0101090   & -0.0101090  \\\\\n",
       "\tbd &  0.673877865 &  0.64525086  &  0.64470173  &  0.64465470  &  0.6446364   &  0.6446367  \\\\\n",
       "\tsqft &  0.301272612 &  0.33363521  &  0.33417774  &  0.33422421  &  0.3342423   &  0.3342420  \\\\\n",
       "\\end{tabular}\n"
      ],
      "text/markdown": [
       "\n",
       "| <!--/--> | 1.0000 | 0.1000 | 0.0100 | 0.0050 | 0.0020 | 0.0015 |\n",
       "|---|---|---|---|---|---|---|\n",
       "| intercept | -0.009055142 | -0.01009188  | -0.01010718  | -0.01010849  | -0.0101090   | -0.0101090   |\n",
       "| bd |  0.673877865 |  0.64525086  |  0.64470173  |  0.64465470  |  0.6446364   |  0.6446367   |\n",
       "| sqft |  0.301272612 |  0.33363521  |  0.33417774  |  0.33422421  |  0.3342423   |  0.3342420   |\n",
       "\n"
      ],
      "text/plain": [
       "          1.0000       0.1000      0.0100      0.0050      0.0020    \n",
       "intercept -0.009055142 -0.01009188 -0.01010718 -0.01010849 -0.0101090\n",
       "bd         0.673877865  0.64525086  0.64470173  0.64465470  0.6446364\n",
       "sqft       0.301272612  0.33363521  0.33417774  0.33422421  0.3342423\n",
       "          0.0015    \n",
       "intercept -0.0101090\n",
       "bd         0.6446367\n",
       "sqft       0.3342420"
      ]
     },
     "metadata": {},
     "output_type": "display_data"
    },
    {
     "data": {
      "text/html": [
       "<table>\n",
       "<thead><tr><th scope=col>1.0000</th><th scope=col>0.1000</th><th scope=col>0.0100</th><th scope=col>0.0050</th><th scope=col>0.0020</th><th scope=col>0.0015</th></tr></thead>\n",
       "<tbody>\n",
       "\t<tr><td>36  </td><td>115 </td><td>1147</td><td>2293</td><td>5732</td><td>7643</td></tr>\n",
       "</tbody>\n",
       "</table>\n"
      ],
      "text/latex": [
       "\\begin{tabular}{llllll}\n",
       " 1.0000 & 0.1000 & 0.0100 & 0.0050 & 0.0020 & 0.0015\\\\\n",
       "\\hline\n",
       "\t 36   & 115  & 1147 & 2293 & 5732 & 7643\\\\\n",
       "\\end{tabular}\n"
      ],
      "text/markdown": [
       "\n",
       "| 1.0000 | 0.1000 | 0.0100 | 0.0050 | 0.0020 | 0.0015 |\n",
       "|---|---|---|---|---|---|\n",
       "| 36   | 115  | 1147 | 2293 | 5732 | 7643 |\n",
       "\n"
      ],
      "text/plain": [
       "     1.0000 0.1000 0.0100 0.0050 0.0020 0.0015\n",
       "[1,] 36     115    1147   2293   5732   7643  "
      ]
     },
     "metadata": {},
     "output_type": "display_data"
    },
    {
     "data": {
      "text/html": [
       "<ol class=list-inline>\n",
       "\t<li>'1.0000'</li>\n",
       "\t<li>'0.1000'</li>\n",
       "\t<li>'0.0100'</li>\n",
       "\t<li>'0.0050'</li>\n",
       "\t<li>'0.0020'</li>\n",
       "\t<li>'0.0015'</li>\n",
       "</ol>\n"
      ],
      "text/latex": [
       "\\begin{enumerate*}\n",
       "\\item '1.0000'\n",
       "\\item '0.1000'\n",
       "\\item '0.0100'\n",
       "\\item '0.0050'\n",
       "\\item '0.0020'\n",
       "\\item '0.0015'\n",
       "\\end{enumerate*}\n"
      ],
      "text/markdown": [
       "1. '1.0000'\n",
       "2. '0.1000'\n",
       "3. '0.0100'\n",
       "4. '0.0050'\n",
       "5. '0.0020'\n",
       "6. '0.0015'\n",
       "\n",
       "\n"
      ],
      "text/plain": [
       "[1] \"1.0000\" \"0.1000\" \"0.0100\" \"0.0050\" \"0.0020\" \"0.0015\""
      ]
     },
     "metadata": {},
     "output_type": "display_data"
    }
   ],
   "source": [
    "alphas <- c(10,1,0.1,0.01,0.005,0.002,0.0015,0.0010,0.0008,0.0006,0.0004,0.0002,0.0001)\n",
    "thres <- 10**(-2)\n",
    "maxiter <- 10000\n",
    "#considering first 1000 rows \n",
    "A2 <- A[1:1000,]\n",
    "y2 <- matrix(y[1:1000,],nrow=1000,byrow=TRUE)\n",
    "\n",
    "successalphs <- c()\n",
    "iternations <- list()\n",
    "gradienttrend <- list()\n",
    "xs <- list()\n",
    "row = 1 \n",
    "\n",
    "for (alpha in alphas)\n",
    "    {\n",
    "        x <- matrix(rep(0,ncol(A)),nrow =ncol(A), byrow = TRUE)\n",
    "        answer <- gradientDescent(y2,A2,x,alpha,thres,maxiter)\n",
    "        if (answer$converged){\n",
    "            successalphs <- append(successalphs,alpha)\n",
    "            xs[[row]] <- answer$x\n",
    "            iternations[[row]] <- answer$iteration\n",
    "            gradienttrend[[row]] <- answer$gradientTrend\n",
    "            row = row+1\n",
    "        }\n",
    "    }\n",
    "successalphs <- format(successalphs, scientific = FALSE)\n",
    "xs <- do.call(cbind, xs)\n",
    "iternations <- do.call(cbind, iternations)\n",
    "\n",
    "colnames(xs)<- successalphs\n",
    "colnames(iternations)<- successalphs\n",
    "xs\n",
    "iternations\n",
    "successalphs"
   ]
  },
  {
   "cell_type": "code",
   "execution_count": 34,
   "metadata": {},
   "outputs": [
    {
     "data": {
      "image/png": "[encoded data removed]",
      "text/plain": [
       "Plot with title \"Interation vs alpha\""
      ]
     },
     "metadata": {},
     "output_type": "display_data"
    }
   ],
   "source": [
    "barplot(iternations, main=\"Interation vs alpha\", names.arg = successalphs,\n",
    "        ylab = \"Interations\", ylim = c(0,max(iternations)+100), xlab = \"Alpha\", axes = FALSE)\n",
    "ylabel <- seq(0, max(iternations)+100, by = max(iternations)%/%10)\n",
    "axis(2, at = ylabel, las = 1)\n",
    "box()"
   ]
  },
  {
   "cell_type": "code",
   "execution_count": 35,
   "metadata": {},
   "outputs": [
    {
     "data": {
      "image/png": "[encoded data removed]",
      "text/plain": [
       "Plot with title \"Gradient trend for iteration 0.0008\""
      ]
     },
     "metadata": {},
     "output_type": "display_data"
    }
   ],
   "source": [
    "## Plot of gradient trend for best alpha\n",
    "plot(gradienttrend[[which('1.0000' == successalphs)]], type = \"b\", main=\"Gradient trend for iteration 0.0008\", pch = 19, \n",
    "     col = \"red\", xlab = \"Iterations\", ylab = \"Gradient Value\", axes = FALSE)\n",
    "ylabel <- seq(0, 2, by = 0.1)\n",
    "xlabel <- seq(0, 70, by = 5)\n",
    "axis(1, at = xlabel, las = 1)\n",
    "axis(2, at = ylabel, las = 1)\n",
    "box()"
   ]
  },
  {
   "cell_type": "markdown",
   "metadata": {},
   "source": [
    "#### Actual Solution by solving linear equations"
   ]
  },
  {
   "cell_type": "code",
   "execution_count": 18,
   "metadata": {},
   "outputs": [
    {
     "data": {
      "text/html": [
       "<table>\n",
       "<tbody>\n",
       "\t<tr><th scope=row>intercept</th><td>0.0000000000000001016019</td></tr>\n",
       "\t<tr><th scope=row>bd</th><td>0.6700795745981675821668</td></tr>\n",
       "\t<tr><th scope=row>sqft</th><td>0.3192638967577376973850</td></tr>\n",
       "</tbody>\n",
       "</table>\n"
      ],
      "text/latex": [
       "\\begin{tabular}{r|l}\n",
       "\tintercept & 0.0000000000000001016019\\\\\n",
       "\tbd & 0.6700795745981675821668\\\\\n",
       "\tsqft & 0.3192638967577376973850\\\\\n",
       "\\end{tabular}\n"
      ],
      "text/markdown": [
       "\n",
       "| intercept | 0.0000000000000001016019 |\n",
       "| bd | 0.6700795745981675821668 |\n",
       "| sqft | 0.3192638967577376973850 |\n",
       "\n"
      ],
      "text/plain": [
       "          [,1]                    \n",
       "intercept 0.0000000000000001016019\n",
       "bd        0.6700795745981675821668\n",
       "sqft      0.3192638967577376973850"
      ]
     },
     "metadata": {},
     "output_type": "display_data"
    }
   ],
   "source": [
    "sol <- solve((t(A)%*%A))%*%(t(A)%*%y)\n",
    "modifiedsol <- format(sol, scientific = FALSE)\n",
    "modifiedsol"
   ]
  },
  {
   "cell_type": "markdown",
   "metadata": {},
   "source": [
    "#### Calculating difference between actual solution and solutions obtained for various value of alphas for full data"
   ]
  },
  {
   "cell_type": "code",
   "execution_count": 19,
   "metadata": {},
   "outputs": [
    {
     "data": {
      "text/html": [
       "<table>\n",
       "<thead><tr><th scope=col>1.0</th><th scope=col>0.1</th></tr></thead>\n",
       "<tbody>\n",
       "\t<tr><td> 0.00000000000000002333068</td><td> 0.00000000000000001682101</td></tr>\n",
       "\t<tr><td>-0.00141772611840762507995</td><td> 0.03061754198280486338746</td></tr>\n",
       "\t<tr><td>-0.00297557917669799554261</td><td>-0.03061754169481095688710</td></tr>\n",
       "</tbody>\n",
       "</table>\n"
      ],
      "text/latex": [
       "\\begin{tabular}{ll}\n",
       " 1.0 & 0.1\\\\\n",
       "\\hline\n",
       "\t  0.00000000000000002333068 &  0.00000000000000001682101\\\\\n",
       "\t -0.00141772611840762507995 &  0.03061754198280486338746\\\\\n",
       "\t -0.00297557917669799554261 & -0.03061754169481095688710\\\\\n",
       "\\end{tabular}\n"
      ],
      "text/markdown": [
       "\n",
       "| 1.0 | 0.1 |\n",
       "|---|---|\n",
       "|  0.00000000000000002333068 |  0.00000000000000001682101 |\n",
       "| -0.00141772611840762507995 |  0.03061754198280486338746 |\n",
       "| -0.00297557917669799554261 | -0.03061754169481095688710 |\n",
       "\n"
      ],
      "text/plain": [
       "     1.0                        0.1                       \n",
       "[1,]  0.00000000000000002333068  0.00000000000000001682101\n",
       "[2,] -0.00141772611840762507995  0.03061754198280486338746\n",
       "[3,] -0.00297557917669799554261 -0.03061754169481095688710"
      ]
     },
     "metadata": {},
     "output_type": "display_data"
    }
   ],
   "source": [
    "as <- apply(xsfull,2,function(x) sol -x)\n",
    "as <- format(as, scientific = FALSE)\n",
    "as"
   ]
  },
  {
   "cell_type": "markdown",
   "metadata": {},
   "source": [
    "#### Conclusion\n",
    "\n",
    "For complete dataset algorithm converge for values of alpha = 1 with 31 iterations  and alpha = 0.1 with 108 iterations \n",
    "\n",
    "Multiple alphas\n",
    "Gradient descent was run for alphas = [1,0.1,0.01,0.005,0.002,0.0015,0.001,0.0008,0.0006,0.0004,0.0002,0.0001] There was no convergence for alpha greater than 1. Algorithm converged for alphas [1,0.1,0.01,0.005,0.002,0.0015] with in 10,000 internations, with minimum interations 36  for alpha = 1.\n",
    "\n",
    "Also there is negligible difference between solutions using gradient descent and actual solutions. \n"
   ]
  },
  {
   "cell_type": "markdown",
   "metadata": {},
   "source": [
    "## Question 3 - Plot Contour plot with movement of gradient descent and cost function for two features with 3rd kept as constant "
   ]
  },
  {
   "cell_type": "markdown",
   "metadata": {},
   "source": [
    "#### Generating random values for x2 and x3 while keeping x1 to optimum value "
   ]
  },
  {
   "cell_type": "code",
   "execution_count": 20,
   "metadata": {},
   "outputs": [
    {
     "data": {
      "text/html": [
       "<table>\n",
       "<thead><tr><th scope=col>xr1</th><th scope=col>xr2</th><th scope=col>xr3</th></tr></thead>\n",
       "<tbody>\n",
       "\t<tr><td>1.016019e-16</td><td>0.3350398   </td><td>0.1596319   </td></tr>\n",
       "\t<tr><td>1.016019e-16</td><td>0.3487149   </td><td>0.1596319   </td></tr>\n",
       "\t<tr><td>1.016019e-16</td><td>0.3623900   </td><td>0.1596319   </td></tr>\n",
       "\t<tr><td>1.016019e-16</td><td>0.3760651   </td><td>0.1596319   </td></tr>\n",
       "\t<tr><td>1.016019e-16</td><td>0.3897402   </td><td>0.1596319   </td></tr>\n",
       "\t<tr><td>1.016019e-16</td><td>0.4034153   </td><td>0.1596319   </td></tr>\n",
       "</tbody>\n",
       "</table>\n"
      ],
      "text/latex": [
       "\\begin{tabular}{lll}\n",
       " xr1 & xr2 & xr3\\\\\n",
       "\\hline\n",
       "\t 1.016019e-16 & 0.3350398    & 0.1596319   \\\\\n",
       "\t 1.016019e-16 & 0.3487149    & 0.1596319   \\\\\n",
       "\t 1.016019e-16 & 0.3623900    & 0.1596319   \\\\\n",
       "\t 1.016019e-16 & 0.3760651    & 0.1596319   \\\\\n",
       "\t 1.016019e-16 & 0.3897402    & 0.1596319   \\\\\n",
       "\t 1.016019e-16 & 0.4034153    & 0.1596319   \\\\\n",
       "\\end{tabular}\n"
      ],
      "text/markdown": [
       "\n",
       "| xr1 | xr2 | xr3 |\n",
       "|---|---|---|\n",
       "| 1.016019e-16 | 0.3350398    | 0.1596319    |\n",
       "| 1.016019e-16 | 0.3487149    | 0.1596319    |\n",
       "| 1.016019e-16 | 0.3623900    | 0.1596319    |\n",
       "| 1.016019e-16 | 0.3760651    | 0.1596319    |\n",
       "| 1.016019e-16 | 0.3897402    | 0.1596319    |\n",
       "| 1.016019e-16 | 0.4034153    | 0.1596319    |\n",
       "\n"
      ],
      "text/plain": [
       "     xr1          xr2       xr3      \n",
       "[1,] 1.016019e-16 0.3350398 0.1596319\n",
       "[2,] 1.016019e-16 0.3487149 0.1596319\n",
       "[3,] 1.016019e-16 0.3623900 0.1596319\n",
       "[4,] 1.016019e-16 0.3760651 0.1596319\n",
       "[5,] 1.016019e-16 0.3897402 0.1596319\n",
       "[6,] 1.016019e-16 0.4034153 0.1596319"
      ]
     },
     "metadata": {},
     "output_type": "display_data"
    }
   ],
   "source": [
    "#random values are generated and arranged in a matrix to feed to cost function\n",
    "\n",
    "xrange2 <- seq(from = sol[2]*(0.5),to = sol[2]*(1.5), length.out = 50)\n",
    "xrange3 <- seq(from = sol[3]*(0.5),to = sol[3]*(1.5), length.out = 50)\n",
    "xr2 = rep(xrange2,length(xrange2))\n",
    "xr1 <- rep(sol[1],length(xr2))\n",
    "xr3 = c()\n",
    "for(i in xrange3){\n",
    "list = rep(i,length(xrange3))\n",
    "xr3 = append(xr3,list)\n",
    "}\n",
    "xrandom = cbind(xr1,xr2,xr3)\n",
    "head(xrandom)"
   ]
  },
  {
   "cell_type": "markdown",
   "metadata": {},
   "source": [
    "####  Solving fx (cost function) for xrandom "
   ]
  },
  {
   "cell_type": "code",
   "execution_count": 21,
   "metadata": {},
   "outputs": [
    {
     "data": {
      "text/html": [
       "<ol class=list-inline>\n",
       "\t<li>50</li>\n",
       "\t<li>50</li>\n",
       "</ol>\n"
      ],
      "text/latex": [
       "\\begin{enumerate*}\n",
       "\\item 50\n",
       "\\item 50\n",
       "\\end{enumerate*}\n"
      ],
      "text/markdown": [
       "1. 50\n",
       "2. 50\n",
       "\n",
       "\n"
      ],
      "text/plain": [
       "[1] 50 50"
      ]
     },
     "metadata": {},
     "output_type": "display_data"
    }
   ],
   "source": [
    "fxValues <- c()\n",
    "for (i in seq(1,nrow(xrandom))){\n",
    "    xi <- as.matrix(xrandom[i,], nrow = 3)\n",
    "    fxValues[i]<-fx(xi,y,A)\n",
    "}\n",
    "fxValues <- matrix(fxValues,nrow = length(xrange2),ncol = length(xrange3) )\n",
    "dim(fxValues)"
   ]
  },
  {
   "cell_type": "markdown",
   "metadata": {},
   "source": [
    "#### Gradient descent is ran for with x1 kept at its optimum values."
   ]
  },
  {
   "cell_type": "code",
   "execution_count": 22,
   "metadata": {},
   "outputs": [
    {
     "data": {
      "text/html": [
       "<table>\n",
       "<thead><tr><th scope=col>intercept</th><th scope=col>bd</th><th scope=col>sqft</th></tr></thead>\n",
       "<tbody>\n",
       "\t<tr><td>1.016019e-16</td><td>0.0000000   </td><td>0.00000000  </td></tr>\n",
       "\t<tr><td>1.016019e-16</td><td>0.9381574   </td><td>0.88191285  </td></tr>\n",
       "\t<tr><td>1.016019e-16</td><td>0.1976374   </td><td>0.09416576  </td></tr>\n",
       "\t<tr><td>1.016019e-16</td><td>0.8590888   </td><td>0.71596169  </td></tr>\n",
       "\t<tr><td>1.016019e-16</td><td>0.3369824   </td><td>0.16055765  </td></tr>\n",
       "\t<tr><td>1.016019e-16</td><td>0.8033412   </td><td>0.59895719  </td></tr>\n",
       "</tbody>\n",
       "</table>\n"
      ],
      "text/latex": [
       "\\begin{tabular}{lll}\n",
       " intercept & bd & sqft\\\\\n",
       "\\hline\n",
       "\t 1.016019e-16 & 0.0000000    & 0.00000000  \\\\\n",
       "\t 1.016019e-16 & 0.9381574    & 0.88191285  \\\\\n",
       "\t 1.016019e-16 & 0.1976374    & 0.09416576  \\\\\n",
       "\t 1.016019e-16 & 0.8590888    & 0.71596169  \\\\\n",
       "\t 1.016019e-16 & 0.3369824    & 0.16055765  \\\\\n",
       "\t 1.016019e-16 & 0.8033412    & 0.59895719  \\\\\n",
       "\\end{tabular}\n"
      ],
      "text/markdown": [
       "\n",
       "| intercept | bd | sqft |\n",
       "|---|---|---|\n",
       "| 1.016019e-16 | 0.0000000    | 0.00000000   |\n",
       "| 1.016019e-16 | 0.9381574    | 0.88191285   |\n",
       "| 1.016019e-16 | 0.1976374    | 0.09416576   |\n",
       "| 1.016019e-16 | 0.8590888    | 0.71596169   |\n",
       "| 1.016019e-16 | 0.3369824    | 0.16055765   |\n",
       "| 1.016019e-16 | 0.8033412    | 0.59895719   |\n",
       "\n"
      ],
      "text/plain": [
       "     intercept    bd        sqft      \n",
       "[1,] 1.016019e-16 0.0000000 0.00000000\n",
       "[2,] 1.016019e-16 0.9381574 0.88191285\n",
       "[3,] 1.016019e-16 0.1976374 0.09416576\n",
       "[4,] 1.016019e-16 0.8590888 0.71596169\n",
       "[5,] 1.016019e-16 0.3369824 0.16055765\n",
       "[6,] 1.016019e-16 0.8033412 0.59895719"
      ]
     },
     "metadata": {},
     "output_type": "display_data"
    }
   ],
   "source": [
    "#storing xs for ploting \n",
    "gradX <- list()\n",
    "\n",
    "x2 <- matrix(c(sol[1],0,0),nrow =ncol(A), byrow = TRUE)\n",
    "thres <- 10**(-2)\n",
    "converged<-FALSE\n",
    "maxi <- 100\n",
    "gradX[[1]] <- x2\n",
    "i=2\n",
    "alpha = 1\n",
    "gradientTrend <- c()\n",
    " while((!converged  && i <= maxi))\n",
    "        {\n",
    "            deltaf <- deltafx(y,A,x2)\n",
    "            if(is.nan(norm(deltaf))){\n",
    "                break\n",
    "            }\n",
    "            x2 <- x2 - (alpha*deltaf)\n",
    "            # x1(inside column matrix x2) is changed to optimum value  \n",
    "            x2[1] = sol[1] \n",
    "            gradX[[i]] <- x2\n",
    "            gradientTrend <- append(gradientTrend,norm(deltaf))\n",
    "            converged <- (norm(deltaf) <= thres)\n",
    "            i <- i+1\n",
    "        }\n",
    "#creating matrix of solution of xs to plot direction of gradient \n",
    "mgradX <- do.call(cbind, gradX)\n",
    "tmgradX <- t(mgradX)\n",
    "head(tmgradX)\n",
    "\n",
    "xe2 <- tmgradX[,2]\n",
    "xe3 <- tmgradX[,3]"
   ]
  },
  {
   "cell_type": "markdown",
   "metadata": {},
   "source": [
    "#### Contour plot with Gradient Flow "
   ]
  },
  {
   "cell_type": "code",
   "execution_count": 23,
   "metadata": {},
   "outputs": [
    {
     "data": {
      "image/png": "[encoded data removed]",
      "text/plain": [
       "Plot with title \"Level sets for x1 = 1.016019e-16 \""
      ]
     },
     "metadata": {},
     "output_type": "display_data"
    }
   ],
   "source": [
    "cols = rev(colorRampPalette(c('darkred','red','blue','lightblue'))(24))\n",
    "contour(xrange2,xrange3,z = fxValues,nlevels = 80, main = \"Level sets for x1 = 1.016019e-16 \", xlab = \"x2 (normalised no. of bedrooms)\", ylab = \"x3 (normalised sqft area)\",col = cols)\n",
    "#lines(xe2,xe3,col = \"red\")\n",
    "s <- seq(length(xe2)-1)\n",
    "arrows(xe2[s], xe3[s], xe2[s+1], xe3[s+1], col = 3)"
   ]
  },
  {
   "cell_type": "code",
   "execution_count": 24,
   "metadata": {},
   "outputs": [
    {
     "data": {
      "image/png": "[encoded data removed]",
      "text/plain": [
       "Plot with title \"3D plot for cost function with 1.016019e-16\""
      ]
     },
     "metadata": {},
     "output_type": "display_data"
    }
   ],
   "source": [
    "persp(xrange2,xrange3,fxValues, theta = 40,main = \"3D plot for cost function with 1.016019e-16\", xlab = \"x2 (normalised no. of bedrooms)\", ylab = \"x3 (normalised sqft area)\",zlab = \"f(x)\" , \n",
    "      col=\"red\", border=\"grey80\" )"
   ]
  },
  {
   "cell_type": "markdown",
   "metadata": {},
   "source": [
    "#### As graph is not perfect cereal bowl shape to inspect the possible reason coorelation is calculated b/w \"bd\" and \"sqft\""
   ]
  },
  {
   "cell_type": "code",
   "execution_count": 25,
   "metadata": {},
   "outputs": [
    {
     "data": {
      "text/html": [
       "0.839674958214801"
      ],
      "text/latex": [
       "0.839674958214801"
      ],
      "text/markdown": [
       "0.839674958214801"
      ],
      "text/plain": [
       "[1] 0.839675"
      ]
     },
     "metadata": {},
     "output_type": "display_data"
    }
   ],
   "source": [
    "cor(c(A[,2]), c(A[,3]), use=\"complete.obs\", method=\"pearson\")"
   ]
  },
  {
   "cell_type": "markdown",
   "metadata": {},
   "source": [
    "#### Conclusion\n",
    "\n",
    "Level set is plotted for a range of x2 and x3 with x1 kept at optimum it is observed that gradient to flow perpendicular to level sets and as visibile in the plot gradient jumped around a lot before converging to minima. For even though not shown in code 3 iterartion were done one with x = [0,0,0], one with x started with = [x1*,0.0] and final one shown in code where x1 is kept x1* for complete gradient process\n",
    "\n",
    "3D plot is not perfect cereal bowl shape possible reason for this high coorelation between two features of the dataset as indicated indicated by correlation factor  0.839674958214801"
   ]
  },
  {
   "cell_type": "markdown",
   "metadata": {},
   "source": [
    "## Question 4 -Repeat the previous question with different choise of the stepsize alpha in your implementation"
   ]
  },
  {
   "cell_type": "markdown",
   "metadata": {},
   "source": [
    "# Conclusion for part a) \n",
    "\n",
    "Expanding on the analysis done for Question 2, starting with alpha = 10  we moved to alpha = 0.0001 and for higher alpha there was no convergence. Convergence started with alpha = 1 with minimum no. of iterations for alpha = 1.\n",
    "\n",
    "For this problem any alpha greater than 1 will lead to divergence.   "
   ]
  },
  {
   "cell_type": "code",
   "execution_count": 38,
   "metadata": {},
   "outputs": [
    {
     "data": {
      "image/png": "[encoded data removed]",
      "text/plain": [
       "Plot with title \"Interation vs alpha\""
      ]
     },
     "metadata": {},
     "output_type": "display_data"
    }
   ],
   "source": [
    "barplot(iternations, main=\"Interation vs alpha\", names.arg = successalphs,\n",
    "        ylab = \"Interations\", ylim = c(0,max(iternations)+max(iternations)%/%10), xlab = \"Alpha\", axes = FALSE)\n",
    "ylabel <- seq(0, max(iternations)+max(iternations)%/%10, by = max(iternations)%/%10)\n",
    "axis(2, at = ylabel, las = 1)\n",
    "box()"
   ]
  },
  {
   "cell_type": "code",
   "execution_count": 39,
   "metadata": {},
   "outputs": [],
   "source": [
    "gradientDescent2 <- function(y1,A1,x1,advalpha,thrs, maxi, option){\n",
    "    converged<-FALSE\n",
    "    i=1\n",
    "    x1<-x1\n",
    "    gradientTrend <- c()\n",
    "    alpha <- advalpha\n",
    "     while((!converged  && i <= maxi))\n",
    "            {\n",
    "                deltaf <- deltafx(y1,A1,x1)\n",
    "                if(is.nan(norm(deltaf))){\n",
    "                    break\n",
    "                }\n",
    "         \n",
    "                #option for alpha \n",
    "                if (option == 1)\n",
    "                    {\n",
    "                    alpha <- advalpha/i\n",
    "                } else if (option == 2) \n",
    "                    {\n",
    "                    alpha <- advalpha/sqrt(i)\n",
    "                }\n",
    "                x1 <- x1 - (alpha*deltaf)\n",
    "                gradientTrend <- append(gradientTrend,norm(deltaf))\n",
    "                converged <- (norm(deltaf) <= thrs)\n",
    "                i <- i+1\n",
    "            }\n",
    "\n",
    "    return (list(\"x1\"= x1,\"gradientTrend\" =gradientTrend, \"iteration\" = i-1,\"converged\" = converged, \"alpha\" = alpha ))\n",
    "}"
   ]
  },
  {
   "cell_type": "code",
   "execution_count": 43,
   "metadata": {},
   "outputs": [],
   "source": [
    "gdwithadpstep <- function(alphas,opt){  \n",
    "    thres <- 10**(-2)\n",
    "    maxiter <- 10000\n",
    "    #considering first 1000 rows as complete data set takes lot of time this many iterations\n",
    "    A3 <- A[1:1000,]\n",
    "    y3 <- matrix(y[1:1000,],nrow=1000,byrow=TRUE)\n",
    "    successalphs <- c()\n",
    "    finalalphs <- list()\n",
    "    iternations <- list()\n",
    "    gradienttrend <- list()\n",
    "    xs <- list()\n",
    "    row = 1 \n",
    "\n",
    "    for (alpha in alphas)\n",
    "        {\n",
    "            x <- matrix(rep(0,ncol(A)),nrow =ncol(A), byrow = TRUE)\n",
    "            answer <- gradientDescent2(y3,A3,x,alpha,thres,maxiter,opt)\n",
    "            if (answer$converged){\n",
    "                successalphs <- append(successalphs,alpha)\n",
    "                finalalphs[[row]] <- answer$alpha\n",
    "                xs[[row]] <- answer$x\n",
    "                iternations[[row]] <- answer$iteration\n",
    "                gradienttrend[[row]] <- answer$gradientTrend\n",
    "                }\n",
    "                row = row+1\n",
    "        }\n",
    "\n",
    "    if (is.null(successalphs))\n",
    "        {\n",
    "        print(\"Convergence not achived\")\n",
    "    }else {\n",
    "        successalphs <- format(successalphs, scientific = FALSE)\n",
    "        xs <- do.call(cbind, xs)\n",
    "        iternations <- do.call(cbind, iternations)\n",
    "        finalalphs <- do.call(cbind, finalalphs)\n",
    "        colnames(xs)<- successalphs\n",
    "        colnames(iternations)<- successalphs\n",
    "        colnames(finalalphs)<- successalphs\n",
    "        as <- apply(xs,2,function(x) sol -x)\n",
    "        as <- format(as, scientific = FALSE)\n",
    "        print(as)\n",
    "        barplot(iternations, main=\"Interation vs alpha\", names.arg = successalphs,\n",
    "        ylab = \"Interations\", ylim = c(0,max(iternations)+10), xlab = \"Alpha\", axes = FALSE) \n",
    "        ylabel <- seq(0, max(iternations)+10, by = max(iternations)%/%10)\n",
    "        axis(2, at = ylabel, las = 1)\n",
    "        box()\n",
    "    }\n",
    "}"
   ]
  },
  {
   "cell_type": "code",
   "execution_count": 45,
   "metadata": {},
   "outputs": [
    {
     "name": "stdout",
     "output_type": "stream",
     "text": [
      "     10            \n",
      "[1,] \" 0.009205546\"\n",
      "[2,] \"-0.006607395\"\n",
      "[3,] \" 0.016984225\"\n",
      "     10.0           1.0           0.1         \n",
      "[1,] \" 0.01001283\" \" 0.01006655\" \" 0.01010885\"\n",
      "[2,] \" 0.02197309\" \" 0.02391818\" \" 0.02543807\"\n",
      "[3,] \"-0.01154990\" \"-0.01347169\" \"-0.01497336\"\n"
     ]
    },
    {
     "data": {
      "image/png": "[encoded data removed]",
      "text/plain": [
       "Plot with title \"Interation vs alpha\""
      ]
     },
     "metadata": {},
     "output_type": "display_data"
    },
    {
     "data": {
      "image/png": "[encoded data removed]",
      "text/plain": [
       "Plot with title \"Interation vs alpha\""
      ]
     },
     "metadata": {},
     "output_type": "display_data"
    }
   ],
   "source": [
    "alphas <- c(10,1,0.1,0.01,0.0010)\n",
    "options <- c(1,2)\n",
    "for (opt in options)\n",
    "{\n",
    "    gdwithadpstep(alphas,opt)\n",
    "}\n",
    "    \n"
   ]
  },
  {
   "cell_type": "markdown",
   "metadata": {},
   "source": [
    "# Conclusion for part b) and c) \n",
    "\n",
    "Use both the method of adaptive step size for data(limited to 1000 rows) it can be concluded on the basis of graphs above (first is for alpha = a/i and second is for alpha = a/sqrt(i)) first method with work well for high starting learning rate and it will converge in less iterations but it won't provide convergence for lower starting learning rate alpha will drop to zero very quickly. \n",
    "\n",
    "Second method provide convergence for smaller learning rates giving chance to better solutions . Though both the approches have same similar difference from solution by solving linear equations.  "
   ]
  },
  {
   "cell_type": "code",
   "execution_count": null,
   "metadata": {},
   "outputs": [],
   "source": []
  }
 ],
 "metadata": {
  "kernelspec": {
   "display_name": "R",
   "language": "R",
   "name": "ir"
  },
  "language_info": {
   "codemirror_mode": "r",
   "file_extension": ".r",
   "mimetype": "text/x-r-source",
   "name": "R",
   "pygments_lexer": "r",
   "version": "3.6.1"
  }
 },
 "nbformat": 4,
 "nbformat_minor": 4
}

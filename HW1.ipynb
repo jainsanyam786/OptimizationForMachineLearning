{
 "cells": [
  {
   "cell_type": "markdown",
   "metadata": {},
   "source": [
    "# HOMEWORK1"
   ]
  },
  {
   "cell_type": "markdown",
   "metadata": {},
   "source": [
    "## Read the data\n",
    "\n",
    "We will dataset is about the house prices in a region in Europe together with the square footage and number of bedroom information denoted by the column (variable) with names sqft and bd respectively. There are n=10 million data points."
   ]
  },
  {
   "cell_type": "code",
   "execution_count": 1,
   "metadata": {},
   "outputs": [],
   "source": [
    "options(warn=-1)\n",
    "houseData <- read.csv('house.csv')"
   ]
  },
  {
   "cell_type": "markdown",
   "metadata": {},
   "source": [
    "### Inspect the data read\n",
    "\n",
    "R read the data as dataframe by default so there is no need to convert the \"houseData\" to datafram."
   ]
  },
  {
   "cell_type": "code",
   "execution_count": 2,
   "metadata": {},
   "outputs": [
    {
     "name": "stdout",
     "output_type": "stream",
     "text": [
      "[1] Is houseData a dataframe TRUE\n"
     ]
    },
    {
     "data": {
      "text/html": [
       "<table>\n",
       "<thead><tr><th scope=col>X</th><th scope=col>bd</th><th scope=col>sqft</th><th scope=col>price</th></tr></thead>\n",
       "<tbody>\n",
       "\t<tr><td>1     </td><td>1     </td><td>1370  </td><td>451000</td></tr>\n",
       "\t<tr><td>2     </td><td>4     </td><td>2060  </td><td>899000</td></tr>\n",
       "\t<tr><td>3     </td><td>4     </td><td>1738  </td><td>944000</td></tr>\n",
       "\t<tr><td>4     </td><td>3     </td><td>1588  </td><td>715000</td></tr>\n",
       "\t<tr><td>5     </td><td>4     </td><td>2092  </td><td>897000</td></tr>\n",
       "\t<tr><td>6     </td><td>3     </td><td>1456  </td><td>703000</td></tr>\n",
       "</tbody>\n",
       "</table>\n"
      ],
      "text/latex": [
       "\\begin{tabular}{r|llll}\n",
       " X & bd & sqft & price\\\\\n",
       "\\hline\n",
       "\t 1      & 1      & 1370   & 451000\\\\\n",
       "\t 2      & 4      & 2060   & 899000\\\\\n",
       "\t 3      & 4      & 1738   & 944000\\\\\n",
       "\t 4      & 3      & 1588   & 715000\\\\\n",
       "\t 5      & 4      & 2092   & 897000\\\\\n",
       "\t 6      & 3      & 1456   & 703000\\\\\n",
       "\\end{tabular}\n"
      ],
      "text/markdown": [
       "\n",
       "| X | bd | sqft | price |\n",
       "|---|---|---|---|\n",
       "| 1      | 1      | 1370   | 451000 |\n",
       "| 2      | 4      | 2060   | 899000 |\n",
       "| 3      | 4      | 1738   | 944000 |\n",
       "| 4      | 3      | 1588   | 715000 |\n",
       "| 5      | 4      | 2092   | 897000 |\n",
       "| 6      | 3      | 1456   | 703000 |\n",
       "\n"
      ],
      "text/plain": [
       "  X bd sqft price \n",
       "1 1 1  1370 451000\n",
       "2 2 4  2060 899000\n",
       "3 3 4  1738 944000\n",
       "4 4 3  1588 715000\n",
       "5 5 4  2092 897000\n",
       "6 6 3  1456 703000"
      ]
     },
     "metadata": {},
     "output_type": "display_data"
    }
   ],
   "source": [
    "print(paste(\"Is houseData a dataframe\", is.data.frame(houseData),sep = \" \"),quote=FALSE)\n",
    "head(houseData)"
   ]
  },
  {
   "cell_type": "code",
   "execution_count": 3,
   "metadata": {},
   "outputs": [
    {
     "name": "stdout",
     "output_type": "stream",
     "text": [
      "Size of data frame 10000000 4"
     ]
    }
   ],
   "source": [
    "cat(\"Size of data frame\",dim.data.frame(houseData))"
   ]
  },
  {
   "cell_type": "markdown",
   "metadata": {},
   "source": [
    "## Question 1 - Rewrite the objective in the form"
   ]
  },
  {
   "cell_type": "code",
   "execution_count": 66,
   "metadata": {},
   "outputs": [
    {
     "name": "stdout",
     "output_type": "stream",
     "text": [
      "[1] \"Price\"\n"
     ]
    },
    {
     "data": {
      "text/html": [
       "<table>\n",
       "<tbody>\n",
       "\t<tr><td>451000</td></tr>\n",
       "\t<tr><td>899000</td></tr>\n",
       "\t<tr><td>944000</td></tr>\n",
       "\t<tr><td>715000</td></tr>\n",
       "\t<tr><td>897000</td></tr>\n",
       "\t<tr><td>703000</td></tr>\n",
       "</tbody>\n",
       "</table>\n"
      ],
      "text/latex": [
       "\\begin{tabular}{l}\n",
       "\t 451000\\\\\n",
       "\t 899000\\\\\n",
       "\t 944000\\\\\n",
       "\t 715000\\\\\n",
       "\t 897000\\\\\n",
       "\t 703000\\\\\n",
       "\\end{tabular}\n"
      ],
      "text/markdown": [
       "\n",
       "| 451000 |\n",
       "| 899000 |\n",
       "| 944000 |\n",
       "| 715000 |\n",
       "| 897000 |\n",
       "| 703000 |\n",
       "\n"
      ],
      "text/plain": [
       "     [,1]  \n",
       "[1,] 451000\n",
       "[2,] 899000\n",
       "[3,] 944000\n",
       "[4,] 715000\n",
       "[5,] 897000\n",
       "[6,] 703000"
      ]
     },
     "metadata": {},
     "output_type": "display_data"
    },
    {
     "name": "stdout",
     "output_type": "stream",
     "text": [
      "[1] \"Features\"\n"
     ]
    },
    {
     "data": {
      "text/html": [
       "<table>\n",
       "<thead><tr><th scope=col>bd</th><th scope=col>sqft</th></tr></thead>\n",
       "<tbody>\n",
       "\t<tr><td>1   </td><td>1370</td></tr>\n",
       "\t<tr><td>4   </td><td>2060</td></tr>\n",
       "\t<tr><td>4   </td><td>1738</td></tr>\n",
       "\t<tr><td>3   </td><td>1588</td></tr>\n",
       "\t<tr><td>4   </td><td>2092</td></tr>\n",
       "\t<tr><td>3   </td><td>1456</td></tr>\n",
       "</tbody>\n",
       "</table>\n"
      ],
      "text/latex": [
       "\\begin{tabular}{ll}\n",
       " bd & sqft\\\\\n",
       "\\hline\n",
       "\t 1    & 1370\\\\\n",
       "\t 4    & 2060\\\\\n",
       "\t 4    & 1738\\\\\n",
       "\t 3    & 1588\\\\\n",
       "\t 4    & 2092\\\\\n",
       "\t 3    & 1456\\\\\n",
       "\\end{tabular}\n"
      ],
      "text/markdown": [
       "\n",
       "| bd | sqft |\n",
       "|---|---|\n",
       "| 1    | 1370 |\n",
       "| 4    | 2060 |\n",
       "| 4    | 1738 |\n",
       "| 3    | 1588 |\n",
       "| 4    | 2092 |\n",
       "| 3    | 1456 |\n",
       "\n"
      ],
      "text/plain": [
       "     bd sqft\n",
       "[1,] 1  1370\n",
       "[2,] 4  2060\n",
       "[3,] 4  1738\n",
       "[4,] 3  1588\n",
       "[5,] 4  2092\n",
       "[6,] 3  1456"
      ]
     },
     "metadata": {},
     "output_type": "display_data"
    }
   ],
   "source": [
    "y <- as.matrix(houseData$price)\n",
    "A <- as.matrix(houseData[,2:3])\n",
    "ones = matrix(rep(1,nrow(y)), nrow = nrow(y), ncol = 1)\n",
    "print(\"Price\")\n",
    "head(y)\n",
    "print(\"Features\")\n",
    "head(A)"
   ]
  },
  {
   "cell_type": "markdown",
   "metadata": {},
   "source": [
    "### Normalise Data"
   ]
  },
  {
   "cell_type": "code",
   "execution_count": 67,
   "metadata": {},
   "outputs": [
    {
     "name": "stdout",
     "output_type": "stream",
     "text": [
      "[1] \"After Normalization\"\n",
      "[1] \"Price\"\n"
     ]
    },
    {
     "data": {
      "text/html": [
       "<table>\n",
       "<tbody>\n",
       "\t<tr><td>-1.2490641</td></tr>\n",
       "\t<tr><td> 1.4362784</td></tr>\n",
       "\t<tr><td> 1.7060115</td></tr>\n",
       "\t<tr><td> 0.3333699</td></tr>\n",
       "\t<tr><td> 1.4242903</td></tr>\n",
       "\t<tr><td> 0.2614411</td></tr>\n",
       "</tbody>\n",
       "</table>\n"
      ],
      "text/latex": [
       "\\begin{tabular}{l}\n",
       "\t -1.2490641\\\\\n",
       "\t  1.4362784\\\\\n",
       "\t  1.7060115\\\\\n",
       "\t  0.3333699\\\\\n",
       "\t  1.4242903\\\\\n",
       "\t  0.2614411\\\\\n",
       "\\end{tabular}\n"
      ],
      "text/markdown": [
       "\n",
       "| -1.2490641 |\n",
       "|  1.4362784 |\n",
       "|  1.7060115 |\n",
       "|  0.3333699 |\n",
       "|  1.4242903 |\n",
       "|  0.2614411 |\n",
       "\n"
      ],
      "text/plain": [
       "     [,1]      \n",
       "[1,] -1.2490641\n",
       "[2,]  1.4362784\n",
       "[3,]  1.7060115\n",
       "[4,]  0.3333699\n",
       "[5,]  1.4242903\n",
       "[6,]  0.2614411"
      ]
     },
     "metadata": {},
     "output_type": "display_data"
    },
    {
     "name": "stdout",
     "output_type": "stream",
     "text": [
      "[1] \"Features\"\n"
     ]
    },
    {
     "data": {
      "text/html": [
       "<table>\n",
       "<thead><tr><th scope=col>bd</th><th scope=col>sqft</th></tr></thead>\n",
       "<tbody>\n",
       "\t<tr><td>-1.3411019</td><td>-0.6753744</td></tr>\n",
       "\t<tr><td> 1.3424687</td><td> 1.9160003</td></tr>\n",
       "\t<tr><td> 1.3424687</td><td> 0.7066921</td></tr>\n",
       "\t<tr><td> 0.4479452</td><td> 0.1433498</td></tr>\n",
       "\t<tr><td> 1.3424687</td><td> 2.0361800</td></tr>\n",
       "\t<tr><td> 0.4479452</td><td>-0.3523915</td></tr>\n",
       "</tbody>\n",
       "</table>\n"
      ],
      "text/latex": [
       "\\begin{tabular}{ll}\n",
       " bd & sqft\\\\\n",
       "\\hline\n",
       "\t -1.3411019 & -0.6753744\\\\\n",
       "\t  1.3424687 &  1.9160003\\\\\n",
       "\t  1.3424687 &  0.7066921\\\\\n",
       "\t  0.4479452 &  0.1433498\\\\\n",
       "\t  1.3424687 &  2.0361800\\\\\n",
       "\t  0.4479452 & -0.3523915\\\\\n",
       "\\end{tabular}\n"
      ],
      "text/markdown": [
       "\n",
       "| bd | sqft |\n",
       "|---|---|\n",
       "| -1.3411019 | -0.6753744 |\n",
       "|  1.3424687 |  1.9160003 |\n",
       "|  1.3424687 |  0.7066921 |\n",
       "|  0.4479452 |  0.1433498 |\n",
       "|  1.3424687 |  2.0361800 |\n",
       "|  0.4479452 | -0.3523915 |\n",
       "\n"
      ],
      "text/plain": [
       "     bd         sqft      \n",
       "[1,] -1.3411019 -0.6753744\n",
       "[2,]  1.3424687  1.9160003\n",
       "[3,]  1.3424687  0.7066921\n",
       "[4,]  0.4479452  0.1433498\n",
       "[5,]  1.3424687  2.0361800\n",
       "[6,]  0.4479452 -0.3523915"
      ]
     },
     "metadata": {},
     "output_type": "display_data"
    }
   ],
   "source": [
    "y <- (y - mean(y))/sd(y)\n",
    "A[,1] = (A[,1] - mean(A[,1]))/sd(A[,1])\n",
    "A[,2] = (A[,2] - mean(A[,2]))/sd(A[,2])\n",
    "\n",
    "print(\"After Normalization\")\n",
    "print(\"Price\")\n",
    "head(y)\n",
    "print(\"Features\")\n",
    "head(A)"
   ]
  },
  {
   "cell_type": "markdown",
   "metadata": {},
   "source": [
    "#### Complete Data matrix A with ones for intercept"
   ]
  },
  {
   "cell_type": "code",
   "execution_count": 68,
   "metadata": {},
   "outputs": [
    {
     "data": {
      "text/html": [
       "<table>\n",
       "<thead><tr><th scope=col>intercept</th><th scope=col>bd</th><th scope=col>sqft</th></tr></thead>\n",
       "<tbody>\n",
       "\t<tr><td>1         </td><td>-1.3411019</td><td>-0.6753744</td></tr>\n",
       "\t<tr><td>1         </td><td> 1.3424687</td><td> 1.9160003</td></tr>\n",
       "\t<tr><td>1         </td><td> 1.3424687</td><td> 0.7066921</td></tr>\n",
       "\t<tr><td>1         </td><td> 0.4479452</td><td> 0.1433498</td></tr>\n",
       "\t<tr><td>1         </td><td> 1.3424687</td><td> 2.0361800</td></tr>\n",
       "\t<tr><td>1         </td><td> 0.4479452</td><td>-0.3523915</td></tr>\n",
       "</tbody>\n",
       "</table>\n"
      ],
      "text/latex": [
       "\\begin{tabular}{lll}\n",
       " intercept & bd & sqft\\\\\n",
       "\\hline\n",
       "\t 1          & -1.3411019 & -0.6753744\\\\\n",
       "\t 1          &  1.3424687 &  1.9160003\\\\\n",
       "\t 1          &  1.3424687 &  0.7066921\\\\\n",
       "\t 1          &  0.4479452 &  0.1433498\\\\\n",
       "\t 1          &  1.3424687 &  2.0361800\\\\\n",
       "\t 1          &  0.4479452 & -0.3523915\\\\\n",
       "\\end{tabular}\n"
      ],
      "text/markdown": [
       "\n",
       "| intercept | bd | sqft |\n",
       "|---|---|---|\n",
       "| 1          | -1.3411019 | -0.6753744 |\n",
       "| 1          |  1.3424687 |  1.9160003 |\n",
       "| 1          |  1.3424687 |  0.7066921 |\n",
       "| 1          |  0.4479452 |  0.1433498 |\n",
       "| 1          |  1.3424687 |  2.0361800 |\n",
       "| 1          |  0.4479452 | -0.3523915 |\n",
       "\n"
      ],
      "text/plain": [
       "     intercept bd         sqft      \n",
       "[1,] 1         -1.3411019 -0.6753744\n",
       "[2,] 1          1.3424687  1.9160003\n",
       "[3,] 1          1.3424687  0.7066921\n",
       "[4,] 1          0.4479452  0.1433498\n",
       "[5,] 1          1.3424687  2.0361800\n",
       "[6,] 1          0.4479452 -0.3523915"
      ]
     },
     "metadata": {},
     "output_type": "display_data"
    },
    {
     "data": {
      "text/html": [
       "3"
      ],
      "text/latex": [
       "3"
      ],
      "text/markdown": [
       "3"
      ],
      "text/plain": [
       "[1] 3"
      ]
     },
     "metadata": {},
     "output_type": "display_data"
    }
   ],
   "source": [
    "A = cbind(ones,A)\n",
    "colnames(A)[1] <- \"intercept\"\n",
    "head(A)\n",
    "ncol(A)"
   ]
  },
  {
   "cell_type": "markdown",
   "metadata": {},
   "source": [
    "#### Objective Function in the Matric form with square of L2 Norm"
   ]
  },
  {
   "cell_type": "code",
   "execution_count": 69,
   "metadata": {},
   "outputs": [
    {
     "data": {
      "text/html": [
       "<ol class=list-inline>\n",
       "\t<li>3</li>\n",
       "\t<li>1</li>\n",
       "</ol>\n"
      ],
      "text/latex": [
       "\\begin{enumerate*}\n",
       "\\item 3\n",
       "\\item 1\n",
       "\\end{enumerate*}\n"
      ],
      "text/markdown": [
       "1. 3\n",
       "2. 1\n",
       "\n",
       "\n"
      ],
      "text/plain": [
       "[1] 3 1"
      ]
     },
     "metadata": {},
     "output_type": "display_data"
    }
   ],
   "source": [
    "fx <- function(x,y,A){\n",
    "    return (((norm((y-(A %*% x)), type = \"2\"))**2)/(2*nrow(A)))\n",
    "}\n",
    "##This is sample x row matrix [x1,x2,x3] initialize as zereo\n",
    "x = matrix(rep(0,ncol(A)),nrow =ncol(A), byrow = TRUE) \n",
    "dim(x)"
   ]
  },
  {
   "cell_type": "markdown",
   "metadata": {},
   "source": [
    "## Question 2 - Gradient descent"
   ]
  },
  {
   "cell_type": "markdown",
   "metadata": {},
   "source": [
    "#### Defination of function for gradient descent and gradient calculation"
   ]
  },
  {
   "cell_type": "code",
   "execution_count": 70,
   "metadata": {},
   "outputs": [],
   "source": [
    "deltafx <- function(y1,A1,x1){\n",
    "    yhat <-  A1%*%x1\n",
    "    diff <- y1 -yhat\n",
    "    At <- t(A1) \n",
    "    df <- -((At%*%diff)/nrow(A1))\n",
    "    return(df)\n",
    "}\n",
    "\n",
    "gradientDescent <- function(y1,A1,x1,alpha,thrs, maxi){\n",
    "    converged<-FALSE\n",
    "    i=1\n",
    "    x1<-x1\n",
    "    gradientTrend <- c()\n",
    "     while((!converged  && i <= maxi))\n",
    "            {\n",
    "                deltaf <- deltafx(y1,A1,x1)\n",
    "                if(is.nan(norm(deltaf))){\n",
    "                    break\n",
    "                }\n",
    "                x1 <- x1 - (alpha*deltaf)\n",
    "                gradientTrend <- append(gradientTrend,norm(deltaf))\n",
    "                converged <- (norm(deltaf) <= thrs)\n",
    "                i <- i+1\n",
    "            }\n",
    "\n",
    "    return (list(\"x1\"= x1,\"gradientTrend\" =gradientTrend, \"iteration\" = i-1,\"converged\" = converged))\n",
    "}\n"
   ]
  },
  {
   "cell_type": "code",
   "execution_count": 71,
   "metadata": {},
   "outputs": [
    {
     "data": {
      "text/html": [
       "<table>\n",
       "<thead><tr><th></th><th scope=col>1.0</th><th scope=col>0.1</th></tr></thead>\n",
       "<tbody>\n",
       "\t<tr><th scope=row>intercept</th><td>0.00000000000000007827117</td><td>0.00000000000000008478084</td></tr>\n",
       "\t<tr><th scope=row>bd</th><td>0.67149730071657520724671</td><td>0.63946203261536271877929</td></tr>\n",
       "\t<tr><th scope=row>sqft</th><td>0.32223947593443569292759</td><td>0.34988143845254865427208</td></tr>\n",
       "</tbody>\n",
       "</table>\n"
      ],
      "text/latex": [
       "\\begin{tabular}{r|ll}\n",
       "  & 1.0 & 0.1\\\\\n",
       "\\hline\n",
       "\tintercept & 0.00000000000000007827117 & 0.00000000000000008478084\\\\\n",
       "\tbd & 0.67149730071657520724671 & 0.63946203261536271877929\\\\\n",
       "\tsqft & 0.32223947593443569292759 & 0.34988143845254865427208\\\\\n",
       "\\end{tabular}\n"
      ],
      "text/markdown": [
       "\n",
       "| <!--/--> | 1.0 | 0.1 |\n",
       "|---|---|---|\n",
       "| intercept | 0.00000000000000007827117 | 0.00000000000000008478084 |\n",
       "| bd | 0.67149730071657520724671 | 0.63946203261536271877929 |\n",
       "| sqft | 0.32223947593443569292759 | 0.34988143845254865427208 |\n",
       "\n"
      ],
      "text/plain": [
       "          1.0                       0.1                      \n",
       "intercept 0.00000000000000007827117 0.00000000000000008478084\n",
       "bd        0.67149730071657520724671 0.63946203261536271877929\n",
       "sqft      0.32223947593443569292759 0.34988143845254865427208"
      ]
     },
     "metadata": {},
     "output_type": "display_data"
    },
    {
     "data": {
      "text/html": [
       "<table>\n",
       "<thead><tr><th scope=col>1.0</th><th scope=col>0.1</th></tr></thead>\n",
       "<tbody>\n",
       "\t<tr><td>31 </td><td>108</td></tr>\n",
       "</tbody>\n",
       "</table>\n"
      ],
      "text/latex": [
       "\\begin{tabular}{ll}\n",
       " 1.0 & 0.1\\\\\n",
       "\\hline\n",
       "\t 31  & 108\\\\\n",
       "\\end{tabular}\n"
      ],
      "text/markdown": [
       "\n",
       "| 1.0 | 0.1 |\n",
       "|---|---|\n",
       "| 31  | 108 |\n",
       "\n"
      ],
      "text/plain": [
       "     1.0 0.1\n",
       "[1,] 31  108"
      ]
     },
     "metadata": {},
     "output_type": "display_data"
    },
    {
     "data": {
      "text/html": [
       "<ol class=list-inline>\n",
       "\t<li>'1.0'</li>\n",
       "\t<li>'0.1'</li>\n",
       "</ol>\n"
      ],
      "text/latex": [
       "\\begin{enumerate*}\n",
       "\\item '1.0'\n",
       "\\item '0.1'\n",
       "\\end{enumerate*}\n"
      ],
      "text/markdown": [
       "1. '1.0'\n",
       "2. '0.1'\n",
       "\n",
       "\n"
      ],
      "text/plain": [
       "[1] \"1.0\" \"0.1\""
      ]
     },
     "metadata": {},
     "output_type": "display_data"
    }
   ],
   "source": [
    "#running gradient descent on complete data\n",
    "alphas <- c(1,0.1)\n",
    "thres <- 10**(-2)\n",
    "maxiter <- 10000\n",
    "A2 <- A\n",
    "y2 <- y\n",
    "successalphs <- c()\n",
    "iternations <- list()\n",
    "gradienttrend <- list()\n",
    "xsfull <- list()\n",
    "x <- matrix(rep(0,ncol(A)),nrow =ncol(A), byrow = TRUE)\n",
    "row = 1\n",
    "for (alpha in alphas) {\n",
    "    answer <- gradientDescent(y,A,x,alpha,thres,maxiter)\n",
    "        if (answer$converged){\n",
    "        successalphs <- append(successalphs,alpha)\n",
    "        xsfull[[row]] <- answer$x\n",
    "        iternations[[row]] <- answer$iteration\n",
    "        gradienttrend[[row]] <- answer$gradientTrend\n",
    "        row = row+1\n",
    "    }\n",
    "    }\n",
    "successalphs <- format(successalphs, scientific = FALSE)\n",
    "xsfull <- do.call(cbind, xsfull)\n",
    "iternations <- do.call(cbind, iternations)\n",
    "\n",
    "colnames(xsfull)<- successalphs\n",
    "colnames(iternations)<- successalphs\n",
    "modifiedxs <- format(xsfull, scientific = FALSE)\n",
    "modifiedxs\n",
    "iternations\n",
    "successalphs"
   ]
  },
  {
   "cell_type": "code",
   "execution_count": 72,
   "metadata": {},
   "outputs": [
    {
     "data": {
      "image/png": "[encoded data removed]",
      "text/plain": [
       "Plot with title \"Interation vs alpha\""
      ]
     },
     "metadata": {},
     "output_type": "display_data"
    }
   ],
   "source": [
    "barplot(iternations, main=\"Interation vs alpha\", names.arg = successalphs,\n",
    "        ylab = \"Interations\", ylim = c(0,max(iternations)+20), xlab = \"Alpha\", axes = FALSE)\n",
    "ylabel <- seq(0, max(iternations)+20, by = max(iternations)%/%10)\n",
    "axis(2, at = ylabel, las = 1)\n",
    "box()"
   ]
  },
  {
   "cell_type": "markdown",
   "metadata": {},
   "source": [
    "#### Running gradient descent for varoius values of alpha with less no. number of rows"
   ]
  },
  {
   "cell_type": "code",
   "execution_count": 73,
   "metadata": {},
   "outputs": [
    {
     "data": {
      "text/html": [
       "<table>\n",
       "<thead><tr><th></th><th scope=col>1.0000</th><th scope=col>0.1000</th><th scope=col>0.0100</th><th scope=col>0.0050</th><th scope=col>0.0020</th><th scope=col>0.0015</th></tr></thead>\n",
       "<tbody>\n",
       "\t<tr><th scope=row>intercept</th><td>-0.009055142</td><td>-0.01009188 </td><td>-0.01010718 </td><td>-0.01010849 </td><td>-0.0101090  </td><td>-0.0101090  </td></tr>\n",
       "\t<tr><th scope=row>bd</th><td> 0.673877865</td><td> 0.64525086 </td><td> 0.64470173 </td><td> 0.64465470 </td><td> 0.6446364  </td><td> 0.6446367  </td></tr>\n",
       "\t<tr><th scope=row>sqft</th><td> 0.301272612</td><td> 0.33363521 </td><td> 0.33417774 </td><td> 0.33422421 </td><td> 0.3342423  </td><td> 0.3342420  </td></tr>\n",
       "</tbody>\n",
       "</table>\n"
      ],
      "text/latex": [
       "\\begin{tabular}{r|llllll}\n",
       "  & 1.0000 & 0.1000 & 0.0100 & 0.0050 & 0.0020 & 0.0015\\\\\n",
       "\\hline\n",
       "\tintercept & -0.009055142 & -0.01009188  & -0.01010718  & -0.01010849  & -0.0101090   & -0.0101090  \\\\\n",
       "\tbd &  0.673877865 &  0.64525086  &  0.64470173  &  0.64465470  &  0.6446364   &  0.6446367  \\\\\n",
       "\tsqft &  0.301272612 &  0.33363521  &  0.33417774  &  0.33422421  &  0.3342423   &  0.3342420  \\\\\n",
       "\\end{tabular}\n"
      ],
      "text/markdown": [
       "\n",
       "| <!--/--> | 1.0000 | 0.1000 | 0.0100 | 0.0050 | 0.0020 | 0.0015 |\n",
       "|---|---|---|---|---|---|---|\n",
       "| intercept | -0.009055142 | -0.01009188  | -0.01010718  | -0.01010849  | -0.0101090   | -0.0101090   |\n",
       "| bd |  0.673877865 |  0.64525086  |  0.64470173  |  0.64465470  |  0.6446364   |  0.6446367   |\n",
       "| sqft |  0.301272612 |  0.33363521  |  0.33417774  |  0.33422421  |  0.3342423   |  0.3342420   |\n",
       "\n"
      ],
      "text/plain": [
       "          1.0000       0.1000      0.0100      0.0050      0.0020    \n",
       "intercept -0.009055142 -0.01009188 -0.01010718 -0.01010849 -0.0101090\n",
       "bd         0.673877865  0.64525086  0.64470173  0.64465470  0.6446364\n",
       "sqft       0.301272612  0.33363521  0.33417774  0.33422421  0.3342423\n",
       "          0.0015    \n",
       "intercept -0.0101090\n",
       "bd         0.6446367\n",
       "sqft       0.3342420"
      ]
     },
     "metadata": {},
     "output_type": "display_data"
    },
    {
     "data": {
      "text/html": [
       "<table>\n",
       "<thead><tr><th scope=col>1.0000</th><th scope=col>0.1000</th><th scope=col>0.0100</th><th scope=col>0.0050</th><th scope=col>0.0020</th><th scope=col>0.0015</th></tr></thead>\n",
       "<tbody>\n",
       "\t<tr><td>36  </td><td>115 </td><td>1147</td><td>2293</td><td>5732</td><td>7643</td></tr>\n",
       "</tbody>\n",
       "</table>\n"
      ],
      "text/latex": [
       "\\begin{tabular}{llllll}\n",
       " 1.0000 & 0.1000 & 0.0100 & 0.0050 & 0.0020 & 0.0015\\\\\n",
       "\\hline\n",
       "\t 36   & 115  & 1147 & 2293 & 5732 & 7643\\\\\n",
       "\\end{tabular}\n"
      ],
      "text/markdown": [
       "\n",
       "| 1.0000 | 0.1000 | 0.0100 | 0.0050 | 0.0020 | 0.0015 |\n",
       "|---|---|---|---|---|---|\n",
       "| 36   | 115  | 1147 | 2293 | 5732 | 7643 |\n",
       "\n"
      ],
      "text/plain": [
       "     1.0000 0.1000 0.0100 0.0050 0.0020 0.0015\n",
       "[1,] 36     115    1147   2293   5732   7643  "
      ]
     },
     "metadata": {},
     "output_type": "display_data"
    },
    {
     "data": {
      "text/html": [
       "<ol class=list-inline>\n",
       "\t<li>'1.0000'</li>\n",
       "\t<li>'0.1000'</li>\n",
       "\t<li>'0.0100'</li>\n",
       "\t<li>'0.0050'</li>\n",
       "\t<li>'0.0020'</li>\n",
       "\t<li>'0.0015'</li>\n",
       "</ol>\n"
      ],
      "text/latex": [
       "\\begin{enumerate*}\n",
       "\\item '1.0000'\n",
       "\\item '0.1000'\n",
       "\\item '0.0100'\n",
       "\\item '0.0050'\n",
       "\\item '0.0020'\n",
       "\\item '0.0015'\n",
       "\\end{enumerate*}\n"
      ],
      "text/markdown": [
       "1. '1.0000'\n",
       "2. '0.1000'\n",
       "3. '0.0100'\n",
       "4. '0.0050'\n",
       "5. '0.0020'\n",
       "6. '0.0015'\n",
       "\n",
       "\n"
      ],
      "text/plain": [
       "[1] \"1.0000\" \"0.1000\" \"0.0100\" \"0.0050\" \"0.0020\" \"0.0015\""
      ]
     },
     "metadata": {},
     "output_type": "display_data"
    }
   ],
   "source": [
    "alphas <- c(10,1,0.1,0.01,0.005,0.002,0.0015,0.0010,0.0008,0.0006,0.0004,0.0002,0.0001)\n",
    "thres <- 10**(-2)\n",
    "maxiter <- 10000\n",
    "#considering first 1000 rows \n",
    "A2 <- A[1:1000,]\n",
    "y2 <- matrix(y[1:1000,],nrow=1000,byrow=TRUE)\n",
    "\n",
    "successalphs <- c()\n",
    "iternations <- list()\n",
    "gradienttrend <- list()\n",
    "xs <- list()\n",
    "row = 1 \n",
    "\n",
    "for (alpha in alphas)\n",
    "    {\n",
    "        x <- matrix(rep(0,ncol(A)),nrow =ncol(A), byrow = TRUE)\n",
    "        answer <- gradientDescent(y2,A2,x,alpha,thres,maxiter)\n",
    "        if (answer$converged){\n",
    "            successalphs <- append(successalphs,alpha)\n",
    "            xs[[row]] <- answer$x\n",
    "            iternations[[row]] <- answer$iteration\n",
    "            gradienttrend[[row]] <- answer$gradientTrend\n",
    "            row = row+1\n",
    "        }\n",
    "    }\n",
    "successalphs <- format(successalphs, scientific = FALSE)\n",
    "xs <- do.call(cbind, xs)\n",
    "iternations <- do.call(cbind, iternations)\n",
    "\n",
    "colnames(xs)<- successalphs\n",
    "colnames(iternations)<- successalphs\n",
    "xs\n",
    "iternations\n",
    "successalphs"
   ]
  },
  {
   "cell_type": "code",
   "execution_count": 74,
   "metadata": {},
   "outputs": [
    {
     "data": {
      "image/png": "[encoded data removed]",
      "text/plain": [
       "Plot with title \"Interation vs alpha\""
      ]
     },
     "metadata": {},
     "output_type": "display_data"
    }
   ],
   "source": [
    "barplot(iternations, main=\"Interation vs alpha\", names.arg = successalphs,\n",
    "        ylab = \"Interations\", ylim = c(0,max(iternations)+100), xlab = \"Alpha\", axes = FALSE)\n",
    "ylabel <- seq(0, max(iternations)+100, by = max(iternations)%/%10)\n",
    "axis(2, at = ylabel, las = 1)\n",
    "box()"
   ]
  },
  {
   "cell_type": "code",
   "execution_count": 75,
   "metadata": {},
   "outputs": [
    {
     "data": {
      "image/png": "[encoded data removed]",
      "text/plain": [
       "Plot with title \"Gradient trend for iteration 1.0\""
      ]
     },
     "metadata": {},
     "output_type": "display_data"
    }
   ],
   "source": [
    "## Plot of gradient trend for best alpha\n",
    "plot(gradienttrend[[which('1.0000' == successalphs)]], type = \"b\", main=\"Gradient trend for iteration 1.0\", pch = 19, \n",
    "     col = \"red\", xlab = \"Iterations\", ylab = \"Gradient Value\", axes = FALSE)\n",
    "ylabel <- seq(0, 2, by = 0.1)\n",
    "xlabel <- seq(0, 70, by = 5)\n",
    "axis(1, at = xlabel, las = 1)\n",
    "axis(2, at = ylabel, las = 1)\n",
    "box()"
   ]
  },
  {
   "cell_type": "markdown",
   "metadata": {},
   "source": [
    "#### Actual Solution by solving linear equations"
   ]
  },
  {
   "cell_type": "code",
   "execution_count": 76,
   "metadata": {},
   "outputs": [
    {
     "data": {
      "text/html": [
       "<table>\n",
       "<tbody>\n",
       "\t<tr><th scope=row>intercept</th><td>0.0000000000000001016019</td></tr>\n",
       "\t<tr><th scope=row>bd</th><td>0.6700795745981675821668</td></tr>\n",
       "\t<tr><th scope=row>sqft</th><td>0.3192638967577376973850</td></tr>\n",
       "</tbody>\n",
       "</table>\n"
      ],
      "text/latex": [
       "\\begin{tabular}{r|l}\n",
       "\tintercept & 0.0000000000000001016019\\\\\n",
       "\tbd & 0.6700795745981675821668\\\\\n",
       "\tsqft & 0.3192638967577376973850\\\\\n",
       "\\end{tabular}\n"
      ],
      "text/markdown": [
       "\n",
       "| intercept | 0.0000000000000001016019 |\n",
       "| bd | 0.6700795745981675821668 |\n",
       "| sqft | 0.3192638967577376973850 |\n",
       "\n"
      ],
      "text/plain": [
       "          [,1]                    \n",
       "intercept 0.0000000000000001016019\n",
       "bd        0.6700795745981675821668\n",
       "sqft      0.3192638967577376973850"
      ]
     },
     "metadata": {},
     "output_type": "display_data"
    }
   ],
   "source": [
    "sol <- solve((t(A)%*%A))%*%(t(A)%*%y)\n",
    "modifiedsol <- format(sol, scientific = FALSE)\n",
    "modifiedsol"
   ]
  },
  {
   "cell_type": "markdown",
   "metadata": {},
   "source": [
    "#### Calculating difference between actual solution and solutions obtained for various value of alphas for full data"
   ]
  },
  {
   "cell_type": "code",
   "execution_count": 77,
   "metadata": {},
   "outputs": [
    {
     "data": {
      "text/html": [
       "<table>\n",
       "<thead><tr><th scope=col>1.0</th><th scope=col>0.1</th></tr></thead>\n",
       "<tbody>\n",
       "\t<tr><td> 0.00000000000000002333068</td><td> 0.00000000000000001682101</td></tr>\n",
       "\t<tr><td>-0.00141772611840762507995</td><td> 0.03061754198280486338746</td></tr>\n",
       "\t<tr><td>-0.00297557917669799554261</td><td>-0.03061754169481095688710</td></tr>\n",
       "</tbody>\n",
       "</table>\n"
      ],
      "text/latex": [
       "\\begin{tabular}{ll}\n",
       " 1.0 & 0.1\\\\\n",
       "\\hline\n",
       "\t  0.00000000000000002333068 &  0.00000000000000001682101\\\\\n",
       "\t -0.00141772611840762507995 &  0.03061754198280486338746\\\\\n",
       "\t -0.00297557917669799554261 & -0.03061754169481095688710\\\\\n",
       "\\end{tabular}\n"
      ],
      "text/markdown": [
       "\n",
       "| 1.0 | 0.1 |\n",
       "|---|---|\n",
       "|  0.00000000000000002333068 |  0.00000000000000001682101 |\n",
       "| -0.00141772611840762507995 |  0.03061754198280486338746 |\n",
       "| -0.00297557917669799554261 | -0.03061754169481095688710 |\n",
       "\n"
      ],
      "text/plain": [
       "     1.0                        0.1                       \n",
       "[1,]  0.00000000000000002333068  0.00000000000000001682101\n",
       "[2,] -0.00141772611840762507995  0.03061754198280486338746\n",
       "[3,] -0.00297557917669799554261 -0.03061754169481095688710"
      ]
     },
     "metadata": {},
     "output_type": "display_data"
    }
   ],
   "source": [
    "as <- apply(xsfull,2,function(x) sol -x)\n",
    "as <- format(as, scientific = FALSE)\n",
    "as"
   ]
  },
  {
   "cell_type": "markdown",
   "metadata": {},
   "source": [
    "#### Conclusion\n",
    "\n",
    "For complete dataset algorithm converge for values of alpha = 1 with 31 iterations  and alpha = 0.1 with 108 iterations \n",
    "\n",
    "Multiple alphas\n",
    "Gradient descent was run for alphas = [1,0.1,0.01,0.005,0.002,0.0015,0.001,0.0008,0.0006,0.0004,0.0002,0.0001] There was no convergence for alpha greater than 1. Algorithm converged for alphas [1,0.1,0.01,0.005,0.002,0.0015] with in 10,000 internations, with minimum interations 36  for alpha = 1.\n",
    "\n",
    "Also there is negligible difference between solutions using gradient descent and actual solutions. \n"
   ]
  },
  {
   "cell_type": "markdown",
   "metadata": {},
   "source": [
    "## Question 3 - Plot Contour plot with movement of gradient descent and cost function for two features with 3rd kept as constant "
   ]
  },
  {
   "cell_type": "markdown",
   "metadata": {},
   "source": [
    "#### Generating random values for x2 and x3 while keeping x1 to optimum value "
   ]
  },
  {
   "cell_type": "code",
   "execution_count": 78,
   "metadata": {},
   "outputs": [
    {
     "data": {
      "text/html": [
       "<table>\n",
       "<thead><tr><th scope=col>xr1</th><th scope=col>xr2</th><th scope=col>xr3</th></tr></thead>\n",
       "<tbody>\n",
       "\t<tr><td>1.016019e-16</td><td>0.3350398   </td><td>0.1596319   </td></tr>\n",
       "\t<tr><td>1.016019e-16</td><td>0.3487149   </td><td>0.1596319   </td></tr>\n",
       "\t<tr><td>1.016019e-16</td><td>0.3623900   </td><td>0.1596319   </td></tr>\n",
       "\t<tr><td>1.016019e-16</td><td>0.3760651   </td><td>0.1596319   </td></tr>\n",
       "\t<tr><td>1.016019e-16</td><td>0.3897402   </td><td>0.1596319   </td></tr>\n",
       "\t<tr><td>1.016019e-16</td><td>0.4034153   </td><td>0.1596319   </td></tr>\n",
       "</tbody>\n",
       "</table>\n"
      ],
      "text/latex": [
       "\\begin{tabular}{lll}\n",
       " xr1 & xr2 & xr3\\\\\n",
       "\\hline\n",
       "\t 1.016019e-16 & 0.3350398    & 0.1596319   \\\\\n",
       "\t 1.016019e-16 & 0.3487149    & 0.1596319   \\\\\n",
       "\t 1.016019e-16 & 0.3623900    & 0.1596319   \\\\\n",
       "\t 1.016019e-16 & 0.3760651    & 0.1596319   \\\\\n",
       "\t 1.016019e-16 & 0.3897402    & 0.1596319   \\\\\n",
       "\t 1.016019e-16 & 0.4034153    & 0.1596319   \\\\\n",
       "\\end{tabular}\n"
      ],
      "text/markdown": [
       "\n",
       "| xr1 | xr2 | xr3 |\n",
       "|---|---|---|\n",
       "| 1.016019e-16 | 0.3350398    | 0.1596319    |\n",
       "| 1.016019e-16 | 0.3487149    | 0.1596319    |\n",
       "| 1.016019e-16 | 0.3623900    | 0.1596319    |\n",
       "| 1.016019e-16 | 0.3760651    | 0.1596319    |\n",
       "| 1.016019e-16 | 0.3897402    | 0.1596319    |\n",
       "| 1.016019e-16 | 0.4034153    | 0.1596319    |\n",
       "\n"
      ],
      "text/plain": [
       "     xr1          xr2       xr3      \n",
       "[1,] 1.016019e-16 0.3350398 0.1596319\n",
       "[2,] 1.016019e-16 0.3487149 0.1596319\n",
       "[3,] 1.016019e-16 0.3623900 0.1596319\n",
       "[4,] 1.016019e-16 0.3760651 0.1596319\n",
       "[5,] 1.016019e-16 0.3897402 0.1596319\n",
       "[6,] 1.016019e-16 0.4034153 0.1596319"
      ]
     },
     "metadata": {},
     "output_type": "display_data"
    }
   ],
   "source": [
    "#random values are generated and arranged in a matrix to feed to cost function\n",
    "\n",
    "xrange2 <- seq(from = sol[2]*(0.5),to = sol[2]*(1.5), length.out = 50)\n",
    "xrange3 <- seq(from = sol[3]*(0.5),to = sol[3]*(1.5), length.out = 50)\n",
    "xr2 = rep(xrange2,length(xrange2))\n",
    "xr1 <- rep(sol[1],length(xr2))\n",
    "xr3 = c()\n",
    "for(i in xrange3){\n",
    "list = rep(i,length(xrange3))\n",
    "xr3 = append(xr3,list)\n",
    "}\n",
    "xrandom = cbind(xr1,xr2,xr3)\n",
    "head(xrandom)"
   ]
  },
  {
   "cell_type": "markdown",
   "metadata": {},
   "source": [
    "####  Solving fx (cost function) for xrandom "
   ]
  },
  {
   "cell_type": "code",
   "execution_count": 81,
   "metadata": {},
   "outputs": [
    {
     "data": {
      "text/html": [
       "<ol class=list-inline>\n",
       "\t<li>50</li>\n",
       "\t<li>50</li>\n",
       "</ol>\n"
      ],
      "text/latex": [
       "\\begin{enumerate*}\n",
       "\\item 50\n",
       "\\item 50\n",
       "\\end{enumerate*}\n"
      ],
      "text/markdown": [
       "1. 50\n",
       "2. 50\n",
       "\n",
       "\n"
      ],
      "text/plain": [
       "[1] 50 50"
      ]
     },
     "metadata": {},
     "output_type": "display_data"
    },
    {
     "data": {
      "text/html": [
       "<table>\n",
       "<tbody>\n",
       "\t<tr><td>0.1586738 </td><td>0.1558219 </td><td>0.1530125 </td><td>0.1502456 </td><td>0.1475211 </td><td>0.1448390 </td><td>0.1421994 </td><td>0.1396023 </td><td>0.1370476 </td><td>0.1345353 </td><td>...       </td><td>0.07771249</td><td>0.07655874</td><td>0.07544745</td><td>0.07437861</td><td>0.07335222</td><td>0.07236828</td><td>0.07142679</td><td>0.07052776</td><td>0.06967119</td><td>0.06885706</td></tr>\n",
       "\t<tr><td>0.1523526 </td><td>0.1495756 </td><td>0.1468410 </td><td>0.1441488 </td><td>0.1414991 </td><td>0.1388919 </td><td>0.1363271 </td><td>0.1338048 </td><td>0.1313249 </td><td>0.1288875 </td><td>...       </td><td>0.07438395</td><td>0.07330501</td><td>0.07226853</td><td>0.07127451</td><td>0.07032293</td><td>0.06941381</td><td>0.06854715</td><td>0.06772293</td><td>0.06694117</td><td>0.06620186</td></tr>\n",
       "\t<tr><td>0.1462184 </td><td>0.1435162 </td><td>0.1408564 </td><td>0.1382391 </td><td>0.1356642 </td><td>0.1331318 </td><td>0.1306418 </td><td>0.1281943 </td><td>0.1257893 </td><td>0.1234267 </td><td>...       </td><td>0.07124241</td><td>0.07023829</td><td>0.06927663</td><td>0.06835742</td><td>0.06748066</td><td>0.06664636</td><td>0.06585450</td><td>0.06510511</td><td>0.06439816</td><td>0.06373367</td></tr>\n",
       "\t<tr><td>0.1402713 </td><td>0.1376438 </td><td>0.1350589 </td><td>0.1325164 </td><td>0.1300163 </td><td>0.1275587 </td><td>0.1251436 </td><td>0.1227709 </td><td>0.1204406 </td><td>0.1181528 </td><td>...       </td><td>0.06828788</td><td>0.06735858</td><td>0.06647173</td><td>0.06562734</td><td>0.06482540</td><td>0.06406591</td><td>0.06334887</td><td>0.06267429</td><td>0.06204216</td><td>0.06145248</td></tr>\n",
       "\t<tr><td>0.1345111 </td><td>0.1319585 </td><td>0.1294484 </td><td>0.1269807 </td><td>0.1245554 </td><td>0.1221726 </td><td>0.1198323 </td><td>0.1175344 </td><td>0.1152790 </td><td>0.1130660 </td><td>...       </td><td>0.06552036</td><td>0.06466587</td><td>0.06385384</td><td>0.06308426</td><td>0.06235714</td><td>0.06167247</td><td>0.06103025</td><td>0.06043048</td><td>0.05987317</td><td>0.05935831</td></tr>\n",
       "\t<tr><td>0.1289379 </td><td>0.1264602 </td><td>0.1240248 </td><td>0.1216319 </td><td>0.1192815 </td><td>0.1169735 </td><td>0.1147080 </td><td>0.1124850 </td><td>0.1103043 </td><td>0.1081662 </td><td>...       </td><td>0.06293984</td><td>0.06216018</td><td>0.06142296</td><td>0.06072820</td><td>0.06007589</td><td>0.05946603</td><td>0.05889863</td><td>0.05837368</td><td>0.05789118</td><td>0.05745114</td></tr>\n",
       "</tbody>\n",
       "</table>\n"
      ],
      "text/latex": [
       "\\begin{tabular}{llllllllllllllllllllllllllllllllllllllllllllllllll}\n",
       "\t 0.1586738  & 0.1558219  & 0.1530125  & 0.1502456  & 0.1475211  & 0.1448390  & 0.1421994  & 0.1396023  & 0.1370476  & 0.1345353  & ...        & 0.07771249 & 0.07655874 & 0.07544745 & 0.07437861 & 0.07335222 & 0.07236828 & 0.07142679 & 0.07052776 & 0.06967119 & 0.06885706\\\\\n",
       "\t 0.1523526  & 0.1495756  & 0.1468410  & 0.1441488  & 0.1414991  & 0.1388919  & 0.1363271  & 0.1338048  & 0.1313249  & 0.1288875  & ...        & 0.07438395 & 0.07330501 & 0.07226853 & 0.07127451 & 0.07032293 & 0.06941381 & 0.06854715 & 0.06772293 & 0.06694117 & 0.06620186\\\\\n",
       "\t 0.1462184  & 0.1435162  & 0.1408564  & 0.1382391  & 0.1356642  & 0.1331318  & 0.1306418  & 0.1281943  & 0.1257893  & 0.1234267  & ...        & 0.07124241 & 0.07023829 & 0.06927663 & 0.06835742 & 0.06748066 & 0.06664636 & 0.06585450 & 0.06510511 & 0.06439816 & 0.06373367\\\\\n",
       "\t 0.1402713  & 0.1376438  & 0.1350589  & 0.1325164  & 0.1300163  & 0.1275587  & 0.1251436  & 0.1227709  & 0.1204406  & 0.1181528  & ...        & 0.06828788 & 0.06735858 & 0.06647173 & 0.06562734 & 0.06482540 & 0.06406591 & 0.06334887 & 0.06267429 & 0.06204216 & 0.06145248\\\\\n",
       "\t 0.1345111  & 0.1319585  & 0.1294484  & 0.1269807  & 0.1245554  & 0.1221726  & 0.1198323  & 0.1175344  & 0.1152790  & 0.1130660  & ...        & 0.06552036 & 0.06466587 & 0.06385384 & 0.06308426 & 0.06235714 & 0.06167247 & 0.06103025 & 0.06043048 & 0.05987317 & 0.05935831\\\\\n",
       "\t 0.1289379  & 0.1264602  & 0.1240248  & 0.1216319  & 0.1192815  & 0.1169735  & 0.1147080  & 0.1124850  & 0.1103043  & 0.1081662  & ...        & 0.06293984 & 0.06216018 & 0.06142296 & 0.06072820 & 0.06007589 & 0.05946603 & 0.05889863 & 0.05837368 & 0.05789118 & 0.05745114\\\\\n",
       "\\end{tabular}\n"
      ],
      "text/markdown": [
       "\n",
       "| 0.1586738  | 0.1558219  | 0.1530125  | 0.1502456  | 0.1475211  | 0.1448390  | 0.1421994  | 0.1396023  | 0.1370476  | 0.1345353  | ...        | 0.07771249 | 0.07655874 | 0.07544745 | 0.07437861 | 0.07335222 | 0.07236828 | 0.07142679 | 0.07052776 | 0.06967119 | 0.06885706 |\n",
       "| 0.1523526  | 0.1495756  | 0.1468410  | 0.1441488  | 0.1414991  | 0.1388919  | 0.1363271  | 0.1338048  | 0.1313249  | 0.1288875  | ...        | 0.07438395 | 0.07330501 | 0.07226853 | 0.07127451 | 0.07032293 | 0.06941381 | 0.06854715 | 0.06772293 | 0.06694117 | 0.06620186 |\n",
       "| 0.1462184  | 0.1435162  | 0.1408564  | 0.1382391  | 0.1356642  | 0.1331318  | 0.1306418  | 0.1281943  | 0.1257893  | 0.1234267  | ...        | 0.07124241 | 0.07023829 | 0.06927663 | 0.06835742 | 0.06748066 | 0.06664636 | 0.06585450 | 0.06510511 | 0.06439816 | 0.06373367 |\n",
       "| 0.1402713  | 0.1376438  | 0.1350589  | 0.1325164  | 0.1300163  | 0.1275587  | 0.1251436  | 0.1227709  | 0.1204406  | 0.1181528  | ...        | 0.06828788 | 0.06735858 | 0.06647173 | 0.06562734 | 0.06482540 | 0.06406591 | 0.06334887 | 0.06267429 | 0.06204216 | 0.06145248 |\n",
       "| 0.1345111  | 0.1319585  | 0.1294484  | 0.1269807  | 0.1245554  | 0.1221726  | 0.1198323  | 0.1175344  | 0.1152790  | 0.1130660  | ...        | 0.06552036 | 0.06466587 | 0.06385384 | 0.06308426 | 0.06235714 | 0.06167247 | 0.06103025 | 0.06043048 | 0.05987317 | 0.05935831 |\n",
       "| 0.1289379  | 0.1264602  | 0.1240248  | 0.1216319  | 0.1192815  | 0.1169735  | 0.1147080  | 0.1124850  | 0.1103043  | 0.1081662  | ...        | 0.06293984 | 0.06216018 | 0.06142296 | 0.06072820 | 0.06007589 | 0.05946603 | 0.05889863 | 0.05837368 | 0.05789118 | 0.05745114 |\n",
       "\n"
      ],
      "text/plain": [
       "     [,1]      [,2]      [,3]      [,4]      [,5]      [,6]      [,7]     \n",
       "[1,] 0.1586738 0.1558219 0.1530125 0.1502456 0.1475211 0.1448390 0.1421994\n",
       "[2,] 0.1523526 0.1495756 0.1468410 0.1441488 0.1414991 0.1388919 0.1363271\n",
       "[3,] 0.1462184 0.1435162 0.1408564 0.1382391 0.1356642 0.1331318 0.1306418\n",
       "[4,] 0.1402713 0.1376438 0.1350589 0.1325164 0.1300163 0.1275587 0.1251436\n",
       "[5,] 0.1345111 0.1319585 0.1294484 0.1269807 0.1245554 0.1221726 0.1198323\n",
       "[6,] 0.1289379 0.1264602 0.1240248 0.1216319 0.1192815 0.1169735 0.1147080\n",
       "     [,8]      [,9]      [,10]     [,11] [,12]      [,13]      [,14]     \n",
       "[1,] 0.1396023 0.1370476 0.1345353 ...   0.07771249 0.07655874 0.07544745\n",
       "[2,] 0.1338048 0.1313249 0.1288875 ...   0.07438395 0.07330501 0.07226853\n",
       "[3,] 0.1281943 0.1257893 0.1234267 ...   0.07124241 0.07023829 0.06927663\n",
       "[4,] 0.1227709 0.1204406 0.1181528 ...   0.06828788 0.06735858 0.06647173\n",
       "[5,] 0.1175344 0.1152790 0.1130660 ...   0.06552036 0.06466587 0.06385384\n",
       "[6,] 0.1124850 0.1103043 0.1081662 ...   0.06293984 0.06216018 0.06142296\n",
       "     [,15]      [,16]      [,17]      [,18]      [,19]      [,20]     \n",
       "[1,] 0.07437861 0.07335222 0.07236828 0.07142679 0.07052776 0.06967119\n",
       "[2,] 0.07127451 0.07032293 0.06941381 0.06854715 0.06772293 0.06694117\n",
       "[3,] 0.06835742 0.06748066 0.06664636 0.06585450 0.06510511 0.06439816\n",
       "[4,] 0.06562734 0.06482540 0.06406591 0.06334887 0.06267429 0.06204216\n",
       "[5,] 0.06308426 0.06235714 0.06167247 0.06103025 0.06043048 0.05987317\n",
       "[6,] 0.06072820 0.06007589 0.05946603 0.05889863 0.05837368 0.05789118\n",
       "     [,21]     \n",
       "[1,] 0.06885706\n",
       "[2,] 0.06620186\n",
       "[3,] 0.06373367\n",
       "[4,] 0.06145248\n",
       "[5,] 0.05935831\n",
       "[6,] 0.05745114"
      ]
     },
     "metadata": {},
     "output_type": "display_data"
    }
   ],
   "source": [
    "fxValues <- c()\n",
    "for (i in seq(1,nrow(xrandom))){\n",
    "    xi <- as.matrix(xrandom[i,], nrow = 3)\n",
    "    fxValues[i]<-fx(xi,y,A)\n",
    "}\n",
    "fxValues <- matrix(fxValues,nrow = length(xrange2),ncol = length(xrange3) )\n",
    "dim(fxValues)\n",
    "head(fxValues)"
   ]
  },
  {
   "cell_type": "markdown",
   "metadata": {},
   "source": [
    "#### Gradient descent is for with x1 kept at its optimum values."
   ]
  },
  {
   "cell_type": "code",
   "execution_count": 22,
   "metadata": {},
   "outputs": [
    {
     "data": {
      "text/html": [
       "<table>\n",
       "<thead><tr><th scope=col>intercept</th><th scope=col>bd</th><th scope=col>sqft</th></tr></thead>\n",
       "<tbody>\n",
       "\t<tr><td>1.016019e-16</td><td>0.0000000   </td><td>0.00000000  </td></tr>\n",
       "\t<tr><td>1.016019e-16</td><td>0.9381574   </td><td>0.88191285  </td></tr>\n",
       "\t<tr><td>1.016019e-16</td><td>0.1976374   </td><td>0.09416576  </td></tr>\n",
       "\t<tr><td>1.016019e-16</td><td>0.8590888   </td><td>0.71596169  </td></tr>\n",
       "\t<tr><td>1.016019e-16</td><td>0.3369824   </td><td>0.16055765  </td></tr>\n",
       "\t<tr><td>1.016019e-16</td><td>0.8033412   </td><td>0.59895719  </td></tr>\n",
       "</tbody>\n",
       "</table>\n"
      ],
      "text/latex": [
       "\\begin{tabular}{lll}\n",
       " intercept & bd & sqft\\\\\n",
       "\\hline\n",
       "\t 1.016019e-16 & 0.0000000    & 0.00000000  \\\\\n",
       "\t 1.016019e-16 & 0.9381574    & 0.88191285  \\\\\n",
       "\t 1.016019e-16 & 0.1976374    & 0.09416576  \\\\\n",
       "\t 1.016019e-16 & 0.8590888    & 0.71596169  \\\\\n",
       "\t 1.016019e-16 & 0.3369824    & 0.16055765  \\\\\n",
       "\t 1.016019e-16 & 0.8033412    & 0.59895719  \\\\\n",
       "\\end{tabular}\n"
      ],
      "text/markdown": [
       "\n",
       "| intercept | bd | sqft |\n",
       "|---|---|---|\n",
       "| 1.016019e-16 | 0.0000000    | 0.00000000   |\n",
       "| 1.016019e-16 | 0.9381574    | 0.88191285   |\n",
       "| 1.016019e-16 | 0.1976374    | 0.09416576   |\n",
       "| 1.016019e-16 | 0.8590888    | 0.71596169   |\n",
       "| 1.016019e-16 | 0.3369824    | 0.16055765   |\n",
       "| 1.016019e-16 | 0.8033412    | 0.59895719   |\n",
       "\n"
      ],
      "text/plain": [
       "     intercept    bd        sqft      \n",
       "[1,] 1.016019e-16 0.0000000 0.00000000\n",
       "[2,] 1.016019e-16 0.9381574 0.88191285\n",
       "[3,] 1.016019e-16 0.1976374 0.09416576\n",
       "[4,] 1.016019e-16 0.8590888 0.71596169\n",
       "[5,] 1.016019e-16 0.3369824 0.16055765\n",
       "[6,] 1.016019e-16 0.8033412 0.59895719"
      ]
     },
     "metadata": {},
     "output_type": "display_data"
    }
   ],
   "source": [
    "#storing xs for ploting \n",
    "gradX <- list()\n",
    "\n",
    "x2 <- matrix(c(sol[1],0,0),nrow =ncol(A), byrow = TRUE)\n",
    "thres <- 10**(-2)\n",
    "converged<-FALSE\n",
    "maxi <- 100\n",
    "gradX[[1]] <- x2\n",
    "i=2\n",
    "alpha = 1\n",
    "gradientTrend <- c()\n",
    " while((!converged  && i <= maxi))\n",
    "        {\n",
    "            deltaf <- deltafx(y,A,x2)\n",
    "            if(is.nan(norm(deltaf))){\n",
    "                break\n",
    "            }\n",
    "            x2 <- x2 - (alpha*deltaf)\n",
    "            # x1(inside column matrix x2) is changed to optimum value  \n",
    "            x2[1] = sol[1] \n",
    "            gradX[[i]] <- x2\n",
    "            gradientTrend <- append(gradientTrend,norm(deltaf))\n",
    "            converged <- (norm(deltaf) <= thres)\n",
    "            i <- i+1\n",
    "        }\n",
    "#creating matrix of solution of xs to plot direction of gradient \n",
    "mgradX <- do.call(cbind, gradX)\n",
    "tmgradX <- t(mgradX)\n",
    "head(tmgradX)\n",
    "\n",
    "xe2 <- tmgradX[,2]\n",
    "xe3 <- tmgradX[,3]"
   ]
  },
  {
   "cell_type": "markdown",
   "metadata": {},
   "source": [
    "#### Contour plot with Gradient Flow "
   ]
  },
  {
   "cell_type": "code",
   "execution_count": 23,
   "metadata": {},
   "outputs": [
    {
     "data": {
      "image/png": "[encoded data removed]",
      "text/plain": [
       "Plot with title \"Level sets for x1 = 1.016019e-16 \""
      ]
     },
     "metadata": {},
     "output_type": "display_data"
    }
   ],
   "source": [
    "cols = rev(colorRampPalette(c('darkred','red','blue','lightblue'))(24))\n",
    "contour(xrange2,xrange3,z = fxValues,nlevels = 80, main = \"Level sets for x1 = 1.016019e-16 \", xlab = \"x2 (normalised no. of bedrooms)\", ylab = \"x3 (normalised sqft area)\",col = cols)\n",
    "s <- seq(length(xe2)-1)\n",
    "arrows(xe2[s], xe3[s], xe2[s+1], xe3[s+1], col = 3)"
   ]
  },
  {
   "cell_type": "code",
   "execution_count": 24,
   "metadata": {},
   "outputs": [
    {
     "data": {
      "image/png": "[encoded data removed]",
      "text/plain": [
       "Plot with title \"3D plot for cost function with 1.016019e-16\""
      ]
     },
     "metadata": {},
     "output_type": "display_data"
    }
   ],
   "source": [
    "persp(xrange2,xrange3,fxValues, theta = 40,main = \"3D plot for cost function with 1.016019e-16\", xlab = \"x2 (normalised no. of bedrooms)\", ylab = \"x3 (normalised sqft area)\",zlab = \"f(x)\" , \n",
    "      col=\"red\", border=\"grey80\" )"
   ]
  },
  {
   "cell_type": "markdown",
   "metadata": {},
   "source": [
    "#### As graph is not perfect cereal bowl shape to inspect the possible reason coorelation is calculated b/w \"bd\" and \"sqft\". Thus same thing will be present in their solution and range aroung it"
   ]
  },
  {
   "cell_type": "code",
   "execution_count": 123,
   "metadata": {},
   "outputs": [
    {
     "data": {
      "text/html": [
       "0.839674958214801"
      ],
      "text/latex": [
       "0.839674958214801"
      ],
      "text/markdown": [
       "0.839674958214801"
      ],
      "text/plain": [
       "[1] 0.839675"
      ]
     },
     "metadata": {},
     "output_type": "display_data"
    }
   ],
   "source": [
    "cor(c(A[,2]), c(A[,3]), use=\"complete.obs\", method=\"pearson\")"
   ]
  },
  {
   "cell_type": "markdown",
   "metadata": {},
   "source": [
    "#### Conclusion\n",
    "\n",
    "Level set is plotted for a range of x2 and x3 with x1 kept at optimum it is observed that gradient to flow perpendicular to level sets and as visibile in the plot gradient jumped around a lot before converging to minima. For even though not shown in code 3 iterartion were done one with x = [0,0,0], one with x started with = [x1*,0.0] and final one shown in code where x1 is kept x1* for complete gradient process\n",
    "\n",
    "3D plot is not perfect cereal bowl shape possible reason for this high coorelation between two features of the dataset as indicated indicated by correlation factor  0.839674958214801"
   ]
  },
  {
   "cell_type": "markdown",
   "metadata": {},
   "source": [
    "## Question 4 -Repeat the previous question with different choise of the stepsize alpha in your implementation"
   ]
  },
  {
   "cell_type": "markdown",
   "metadata": {},
   "source": [
    "# Conclusion for part a) \n",
    "\n",
    "Expanding on the analysis done for Question 2, starting with alpha = 10  we moved to alpha = 0.0001 and for higher alpha there was no convergence. Convergence started with alpha = 1 with minimum no. of iterations for alpha = 1.\n",
    "\n",
    "For this problem any alpha greater than 1 will lead to divergence.   "
   ]
  },
  {
   "cell_type": "code",
   "execution_count": 38,
   "metadata": {},
   "outputs": [
    {
     "data": {
      "image/png": "[encoded data removed]",
      "text/plain": [
       "Plot with title \"Interation vs alpha\""
      ]
     },
     "metadata": {},
     "output_type": "display_data"
    }
   ],
   "source": [
    "barplot(iternations, main=\"Interation vs alpha\", names.arg = successalphs,\n",
    "        ylab = \"Interations\", ylim = c(0,max(iternations)+max(iternations)%/%10), xlab = \"Alpha\", axes = FALSE)\n",
    "ylabel <- seq(0, max(iternations)+max(iternations)%/%10, by = max(iternations)%/%10)\n",
    "axis(2, at = ylabel, las = 1)\n",
    "box()"
   ]
  },
  {
   "cell_type": "code",
   "execution_count": 39,
   "metadata": {},
   "outputs": [],
   "source": [
    "gradientDescent2 <- function(y1,A1,x1,advalpha,thrs, maxi, option){\n",
    "    converged<-FALSE\n",
    "    i=1\n",
    "    x1<-x1\n",
    "    gradientTrend <- c()\n",
    "    alpha <- advalpha\n",
    "     while((!converged  && i <= maxi))\n",
    "            {\n",
    "                deltaf <- deltafx(y1,A1,x1)\n",
    "                if(is.nan(norm(deltaf))){\n",
    "                    break\n",
    "                }\n",
    "         \n",
    "                #option for alpha \n",
    "                if (option == 1)\n",
    "                    {\n",
    "                    alpha <- advalpha/i\n",
    "                } else if (option == 2) \n",
    "                    {\n",
    "                    alpha <- advalpha/sqrt(i)\n",
    "                }\n",
    "                x1 <- x1 - (alpha*deltaf)\n",
    "                gradientTrend <- append(gradientTrend,norm(deltaf))\n",
    "                converged <- (norm(deltaf) <= thrs)\n",
    "                i <- i+1\n",
    "            }\n",
    "\n",
    "    return (list(\"x1\"= x1,\"gradientTrend\" =gradientTrend, \"iteration\" = i-1,\"converged\" = converged, \"alpha\" = alpha ))\n",
    "}"
   ]
  },
  {
   "cell_type": "code",
   "execution_count": 43,
   "metadata": {},
   "outputs": [],
   "source": [
    "gdwithadpstep <- function(alphas,opt){  \n",
    "    thres <- 10**(-2)\n",
    "    maxiter <- 10000\n",
    "    #considering first 1000 rows as complete data set takes lot of time this many iterations\n",
    "    A3 <- A[1:1000,]\n",
    "    y3 <- matrix(y[1:1000,],nrow=1000,byrow=TRUE)\n",
    "    successalphs <- c()\n",
    "    finalalphs <- list()\n",
    "    iternations <- list()\n",
    "    gradienttrend <- list()\n",
    "    xs <- list()\n",
    "    row = 1 \n",
    "\n",
    "    for (alpha in alphas)\n",
    "        {\n",
    "            x <- matrix(rep(0,ncol(A)),nrow =ncol(A), byrow = TRUE)\n",
    "            answer <- gradientDescent2(y3,A3,x,alpha,thres,maxiter,opt)\n",
    "            if (answer$converged){\n",
    "                successalphs <- append(successalphs,alpha)\n",
    "                finalalphs[[row]] <- answer$alpha\n",
    "                xs[[row]] <- answer$x\n",
    "                iternations[[row]] <- answer$iteration\n",
    "                gradienttrend[[row]] <- answer$gradientTrend\n",
    "                }\n",
    "                row = row+1\n",
    "        }\n",
    "\n",
    "    if (is.null(successalphs))\n",
    "        {\n",
    "        print(\"Convergence not achived\")\n",
    "    }else {\n",
    "        successalphs <- format(successalphs, scientific = FALSE)\n",
    "        xs <- do.call(cbind, xs)\n",
    "        iternations <- do.call(cbind, iternations)\n",
    "        finalalphs <- do.call(cbind, finalalphs)\n",
    "        colnames(xs)<- successalphs\n",
    "        colnames(iternations)<- successalphs\n",
    "        colnames(finalalphs)<- successalphs\n",
    "        as <- apply(xs,2,function(x) sol -x)\n",
    "        as <- format(as, scientific = FALSE)\n",
    "        print(as)\n",
    "        barplot(iternations, main=\"Interation vs alpha\", names.arg = successalphs,\n",
    "        ylab = \"Interations\", ylim = c(0,max(iternations)+10), xlab = \"Alpha\", axes = FALSE) \n",
    "        ylabel <- seq(0, max(iternations)+10, by = max(iternations)%/%10)\n",
    "        axis(2, at = ylabel, las = 1)\n",
    "        box()\n",
    "    }\n",
    "}"
   ]
  },
  {
   "cell_type": "code",
   "execution_count": 45,
   "metadata": {},
   "outputs": [
    {
     "name": "stdout",
     "output_type": "stream",
     "text": [
      "     10            \n",
      "[1,] \" 0.009205546\"\n",
      "[2,] \"-0.006607395\"\n",
      "[3,] \" 0.016984225\"\n",
      "     10.0           1.0           0.1         \n",
      "[1,] \" 0.01001283\" \" 0.01006655\" \" 0.01010885\"\n",
      "[2,] \" 0.02197309\" \" 0.02391818\" \" 0.02543807\"\n",
      "[3,] \"-0.01154990\" \"-0.01347169\" \"-0.01497336\"\n"
     ]
    },
    {
     "data": {
      "image/png": "[encoded data removed]",
      "text/plain": [
       "Plot with title \"Interation vs alpha\""
      ]
     },
     "metadata": {},
     "output_type": "display_data"
    },
    {
     "data": {
      "image/png": "[encoded data removed]",
      "text/plain": [
       "Plot with title \"Interation vs alpha\""
      ]
     },
     "metadata": {},
     "output_type": "display_data"
    }
   ],
   "source": [
    "alphas <- c(10,1,0.1,0.01,0.0010)\n",
    "options <- c(1,2)\n",
    "for (opt in options)\n",
    "{\n",
    "    gdwithadpstep(alphas,opt)\n",
    "}\n",
    "    \n"
   ]
  },
  {
   "cell_type": "markdown",
   "metadata": {},
   "source": [
    "# Conclusion for part b) and c) \n",
    "\n",
    "Use both the method of adaptive step size for data(limited to 1000 rows) it can be concluded on the basis of graphs above (first is for alpha = a/i and second is for alpha = a/sqrt(i)) first method with work well for high starting learning rate and it will converge in less iterations but it won't provide convergence for lower starting learning rate as alpha will drop to zero very quickly. \n",
    "\n",
    "Second method provide convergence for smaller learning rates giving chance to better solutions . Though both the approches have same similar difference from solution by solving linear equations.  "
   ]
  },
  {
   "cell_type": "markdown",
   "metadata": {},
   "source": [
    "## Question 5 - Stochastic Gradient Method"
   ]
  },
  {
   "cell_type": "code",
   "execution_count": 16,
   "metadata": {},
   "outputs": [],
   "source": [
    "stochasticGradientDes <- function(y1,A1,x1,advalpha,thrs, maxi, option){\n",
    "    converged<-FALSE\n",
    "    i=1\n",
    "    x1<-x1\n",
    "    gradientTrend <- c()\n",
    "    alpha <- advalpha\n",
    "     while((!converged  && i <= maxi))\n",
    "            {\n",
    "                index <- sample(nrow(A1),1)\n",
    "                yi <- matrix(y1[index],nrow = 1,byrow = TRUE)\n",
    "                Ai <- matrix(A1[index,],nrow = 1,byrow = TRUE) \n",
    "                deltaf <- deltafx(yi,Ai,x1)\n",
    "                if(is.nan(norm(deltaf))){\n",
    "                    break\n",
    "                }\n",
    "         \n",
    "                #option for alpha \n",
    "                if (option == 1)\n",
    "                    {\n",
    "                    alpha <- advalpha\n",
    "                } else if (option == 2) \n",
    "                    {\n",
    "                    alpha <- advalpha/i\n",
    "                } else if (option == 3) \n",
    "                    {\n",
    "                    alpha <- advalpha/sqrt(i)\n",
    "                }\n",
    "         \n",
    "                x1 <- x1 - (alpha*deltaf)\n",
    "                gradientTrend <- append(gradientTrend,norm(deltaf))\n",
    "                converged <- (norm(deltaf) <= thrs)\n",
    "                i <- i+1\n",
    "            }\n",
    "\n",
    "    return (list(\"x1\"= x1,\"gradientTrend\" =gradientTrend, \"iteration\" = i-1,\"converged\" = converged, \"alpha\" = alpha ))\n",
    "}"
   ]
  },
  {
   "cell_type": "code",
   "execution_count": 23,
   "metadata": {},
   "outputs": [
    {
     "data": {
      "text/html": [
       "<table>\n",
       "<thead><tr><th scope=col>0.10</th><th scope=col>0.01</th></tr></thead>\n",
       "<tbody>\n",
       "\t<tr><td>0.026916195</td><td>0.004764189</td></tr>\n",
       "\t<tr><td>0.538005611</td><td>0.521706534</td></tr>\n",
       "\t<tr><td>0.415810632</td><td>0.405792914</td></tr>\n",
       "</tbody>\n",
       "</table>\n"
      ],
      "text/latex": [
       "\\begin{tabular}{ll}\n",
       " 0.10 & 0.01\\\\\n",
       "\\hline\n",
       "\t 0.026916195 & 0.004764189\\\\\n",
       "\t 0.538005611 & 0.521706534\\\\\n",
       "\t 0.415810632 & 0.405792914\\\\\n",
       "\\end{tabular}\n"
      ],
      "text/markdown": [
       "\n",
       "| 0.10 | 0.01 |\n",
       "|---|---|\n",
       "| 0.026916195 | 0.004764189 |\n",
       "| 0.538005611 | 0.521706534 |\n",
       "| 0.415810632 | 0.405792914 |\n",
       "\n"
      ],
      "text/plain": [
       "     0.10        0.01       \n",
       "[1,] 0.026916195 0.004764189\n",
       "[2,] 0.538005611 0.521706534\n",
       "[3,] 0.415810632 0.405792914"
      ]
     },
     "metadata": {},
     "output_type": "display_data"
    },
    {
     "data": {
      "text/html": [
       "<table>\n",
       "<thead><tr><th scope=col>0.10</th><th scope=col>0.01</th></tr></thead>\n",
       "<tbody>\n",
       "\t<tr><td>64 </td><td>217</td></tr>\n",
       "</tbody>\n",
       "</table>\n"
      ],
      "text/latex": [
       "\\begin{tabular}{ll}\n",
       " 0.10 & 0.01\\\\\n",
       "\\hline\n",
       "\t 64  & 217\\\\\n",
       "\\end{tabular}\n"
      ],
      "text/markdown": [
       "\n",
       "| 0.10 | 0.01 |\n",
       "|---|---|\n",
       "| 64  | 217 |\n",
       "\n"
      ],
      "text/plain": [
       "     0.10 0.01\n",
       "[1,] 64   217 "
      ]
     },
     "metadata": {},
     "output_type": "display_data"
    },
    {
     "data": {
      "text/html": [
       "<ol class=list-inline>\n",
       "\t<li>'0.10'</li>\n",
       "\t<li>'0.01'</li>\n",
       "</ol>\n"
      ],
      "text/latex": [
       "\\begin{enumerate*}\n",
       "\\item '0.10'\n",
       "\\item '0.01'\n",
       "\\end{enumerate*}\n"
      ],
      "text/markdown": [
       "1. '0.10'\n",
       "2. '0.01'\n",
       "\n",
       "\n"
      ],
      "text/plain": [
       "[1] \"0.10\" \"0.01\""
      ]
     },
     "metadata": {},
     "output_type": "display_data"
    }
   ],
   "source": [
    "# Stochastic Gradient on complete data for alpha = 1 and 0.1\n",
    "alphas <- c(1,0.1,0.01)\n",
    "thres <- 10**(-2)\n",
    "maxiter <- 1000\n",
    "A2 <- A\n",
    "y2 <- y\n",
    "successalphs <- c()\n",
    "iternations <- list()\n",
    "gradienttrend <- list()\n",
    "xsfull <- list()\n",
    "x <- matrix(rep(0,ncol(A)),nrow =ncol(A), byrow = TRUE)\n",
    "row = 1\n",
    "for (alpha in alphas) {\n",
    "    answer <- stochasticGradientDes(y,A,x,alpha,thres,maxiter,1)\n",
    "        if (answer$converged){\n",
    "        successalphs <- append(successalphs,alpha)\n",
    "        xsfull[[row]] <- answer$x\n",
    "        iternations[[row]] <- answer$iteration\n",
    "        gradienttrend[[row]] <- answer$gradientTrend\n",
    "        row = row+1\n",
    "    }\n",
    "    }\n",
    "successalphs <- format(successalphs, scientific = FALSE)\n",
    "xsfull <- do.call(cbind, xsfull)\n",
    "iternations <- do.call(cbind, iternations)\n",
    "\n",
    "colnames(xsfull)<- successalphs\n",
    "colnames(iternations)<- successalphs\n",
    "modifiedxs <- format(xsfull, scientific = FALSE)\n",
    "modifiedxs\n",
    "iternations\n",
    "successalphs"
   ]
  },
  {
   "cell_type": "markdown",
   "metadata": {},
   "source": [
    "### Observation on SGD\n",
    "\n",
    "It is fast compare to normal GD, but it doesn't guarantee same solution in each iteration or as a matter of fact best solution. Above I ran SGD for three alphas out of which it converged for two but the interation and solution is different in each run, this will be shown in the next section."
   ]
  },
  {
   "cell_type": "code",
   "execution_count": 38,
   "metadata": {},
   "outputs": [
    {
     "data": {
      "text/html": [
       "<table>\n",
       "<thead><tr><th scope=col>1</th><th scope=col>2</th><th scope=col>3</th><th scope=col>4</th><th scope=col>5</th></tr></thead>\n",
       "<tbody>\n",
       "\t<tr><td>-0.017651936</td><td> 0.006640093</td><td> 0.075477447</td><td> 0.005380836</td><td> 0.044466205</td></tr>\n",
       "\t<tr><td> 0.810941528</td><td> 0.486160311</td><td> 0.707340578</td><td> 0.650536353</td><td> 0.556324112</td></tr>\n",
       "\t<tr><td> 0.462324871</td><td> 0.388821118</td><td> 0.330708252</td><td> 0.305325255</td><td> 0.348899485</td></tr>\n",
       "</tbody>\n",
       "</table>\n"
      ],
      "text/latex": [
       "\\begin{tabular}{lllll}\n",
       " 1 & 2 & 3 & 4 & 5\\\\\n",
       "\\hline\n",
       "\t -0.017651936 &  0.006640093 &  0.075477447 &  0.005380836 &  0.044466205\\\\\n",
       "\t  0.810941528 &  0.486160311 &  0.707340578 &  0.650536353 &  0.556324112\\\\\n",
       "\t  0.462324871 &  0.388821118 &  0.330708252 &  0.305325255 &  0.348899485\\\\\n",
       "\\end{tabular}\n"
      ],
      "text/markdown": [
       "\n",
       "| 1 | 2 | 3 | 4 | 5 |\n",
       "|---|---|---|---|---|\n",
       "| -0.017651936 |  0.006640093 |  0.075477447 |  0.005380836 |  0.044466205 |\n",
       "|  0.810941528 |  0.486160311 |  0.707340578 |  0.650536353 |  0.556324112 |\n",
       "|  0.462324871 |  0.388821118 |  0.330708252 |  0.305325255 |  0.348899485 |\n",
       "\n"
      ],
      "text/plain": [
       "     1            2            3            4            5           \n",
       "[1,] -0.017651936  0.006640093  0.075477447  0.005380836  0.044466205\n",
       "[2,]  0.810941528  0.486160311  0.707340578  0.650536353  0.556324112\n",
       "[3,]  0.462324871  0.388821118  0.330708252  0.305325255  0.348899485"
      ]
     },
     "metadata": {},
     "output_type": "display_data"
    },
    {
     "data": {
      "text/html": [
       "<table>\n",
       "<thead><tr><th scope=col>1</th><th scope=col>2</th><th scope=col>3</th><th scope=col>4</th><th scope=col>5</th></tr></thead>\n",
       "<tbody>\n",
       "\t<tr><td>110</td><td>31 </td><td>172</td><td>145</td><td>56 </td></tr>\n",
       "</tbody>\n",
       "</table>\n"
      ],
      "text/latex": [
       "\\begin{tabular}{lllll}\n",
       " 1 & 2 & 3 & 4 & 5\\\\\n",
       "\\hline\n",
       "\t 110 & 31  & 172 & 145 & 56 \\\\\n",
       "\\end{tabular}\n"
      ],
      "text/markdown": [
       "\n",
       "| 1 | 2 | 3 | 4 | 5 |\n",
       "|---|---|---|---|---|\n",
       "| 110 | 31  | 172 | 145 | 56  |\n",
       "\n"
      ],
      "text/plain": [
       "     1   2  3   4   5 \n",
       "[1,] 110 31 172 145 56"
      ]
     },
     "metadata": {},
     "output_type": "display_data"
    }
   ],
   "source": [
    "alpha <- 0.1\n",
    "thres <- 10**(-2)\n",
    "maxiter <- 1000\n",
    "A2 <- A\n",
    "y2 <- y\n",
    "Siternations <- list()\n",
    "Sgradienttrend <- list()\n",
    "Sxsfull <- list()\n",
    "x <- matrix(rep(0,ncol(A)),nrow =ncol(A), byrow = TRUE)\n",
    "row = 1\n",
    "for (i in seq(1,5,1)) {\n",
    "    answer <- stochasticGradientDes(y,A,x,alpha,thres,maxiter,1)\n",
    "        if (answer$converged){\n",
    "        Sxsfull[[row]] <- answer$x\n",
    "        Siternations[[row]] <- answer$iteration\n",
    "        Sgradienttrend[[row]] <- answer$gradientTrend\n",
    "        row = row+1\n",
    "    }\n",
    "    }\n",
    "Sxsfull <- do.call(cbind, Sxsfull)\n",
    "Siternations <- do.call(cbind, Siternations)\n",
    "\n",
    "colnames(Sxsfull)<- seq(1,5,1)\n",
    "colnames(Siternations)<- seq(1,5,1)\n",
    "modifiedxs <- format(Sxsfull, scientific = FALSE)\n",
    "modifiedxs\n",
    "Siternations"
   ]
  },
  {
   "cell_type": "code",
   "execution_count": 39,
   "metadata": {},
   "outputs": [
    {
     "data": {
      "image/png": "[encoded data removed]",
      "text/plain": [
       "Plot with title \"Interation for same alpha in different run\""
      ]
     },
     "metadata": {},
     "output_type": "display_data"
    }
   ],
   "source": [
    "barplot(Siternations, main=\"Interation for same alpha in different run\", names.arg = seq(1,5,1),\n",
    "        ylab = \"Interations\", ylim = c(0,max(Siternations)+max(Siternations)%/%10), xlab = \"\", axes = FALSE)\n",
    "ylabel <- seq(0, max(Siternations)+max(Siternations)%/%10, by = max(Siternations)%/%10)\n",
    "axis(2, at = ylabel, las = 1)\n",
    "box()"
   ]
  },
  {
   "cell_type": "code",
   "execution_count": 40,
   "metadata": {},
   "outputs": [
    {
     "data": {
      "text/html": [
       "<table>\n",
       "<thead><tr><th scope=col>1</th><th scope=col>2</th><th scope=col>3</th><th scope=col>4</th><th scope=col>5</th></tr></thead>\n",
       "<tbody>\n",
       "\t<tr><td> 0.017651936</td><td>-0.006640093</td><td>-0.075477447</td><td>-0.005380836</td><td>-0.044466205</td></tr>\n",
       "\t<tr><td>-0.140861953</td><td> 0.183919264</td><td>-0.037261003</td><td> 0.019543222</td><td> 0.113755462</td></tr>\n",
       "\t<tr><td>-0.143060974</td><td>-0.069557222</td><td>-0.011444355</td><td> 0.013938642</td><td>-0.029635588</td></tr>\n",
       "</tbody>\n",
       "</table>\n"
      ],
      "text/latex": [
       "\\begin{tabular}{lllll}\n",
       " 1 & 2 & 3 & 4 & 5\\\\\n",
       "\\hline\n",
       "\t  0.017651936 & -0.006640093 & -0.075477447 & -0.005380836 & -0.044466205\\\\\n",
       "\t -0.140861953 &  0.183919264 & -0.037261003 &  0.019543222 &  0.113755462\\\\\n",
       "\t -0.143060974 & -0.069557222 & -0.011444355 &  0.013938642 & -0.029635588\\\\\n",
       "\\end{tabular}\n"
      ],
      "text/markdown": [
       "\n",
       "| 1 | 2 | 3 | 4 | 5 |\n",
       "|---|---|---|---|---|\n",
       "|  0.017651936 | -0.006640093 | -0.075477447 | -0.005380836 | -0.044466205 |\n",
       "| -0.140861953 |  0.183919264 | -0.037261003 |  0.019543222 |  0.113755462 |\n",
       "| -0.143060974 | -0.069557222 | -0.011444355 |  0.013938642 | -0.029635588 |\n",
       "\n"
      ],
      "text/plain": [
       "     1            2            3            4            5           \n",
       "[1,]  0.017651936 -0.006640093 -0.075477447 -0.005380836 -0.044466205\n",
       "[2,] -0.140861953  0.183919264 -0.037261003  0.019543222  0.113755462\n",
       "[3,] -0.143060974 -0.069557222 -0.011444355  0.013938642 -0.029635588"
      ]
     },
     "metadata": {},
     "output_type": "display_data"
    }
   ],
   "source": [
    "as <- apply(Sxsfull,2,function(x) sol -x)\n",
    "as <- format(as, scientific = FALSE)\n",
    "as"
   ]
  },
  {
   "cell_type": "markdown",
   "metadata": {},
   "source": [
    "#### SGD for Adaptive Step Size "
   ]
  },
  {
   "cell_type": "code",
   "execution_count": 53,
   "metadata": {},
   "outputs": [
    {
     "data": {
      "image/png": "[encoded data removed]",
      "text/plain": [
       "Plot with title \"Interation vs alpha for option  2\""
      ]
     },
     "metadata": {},
     "output_type": "display_data"
    },
    {
     "data": {
      "image/png": "[encoded data removed]",
      "text/plain": [
       "Plot with title \"Interation vs alpha for option  3\""
      ]
     },
     "metadata": {},
     "output_type": "display_data"
    }
   ],
   "source": [
    "options <- c(2,3)\n",
    "for (opt in options){\n",
    "    alphas <- c(1,0.1,0.01)\n",
    "    thres <- 10**(-2)\n",
    "    Siternations <- list()\n",
    "    Ssuccessalphs <- c()\n",
    "    x <- matrix(rep(0,ncol(A)),nrow =ncol(A), byrow = TRUE)\n",
    "    row = 1\n",
    "    for (alpha in alphas) {\n",
    "        iterationcount <- c()\n",
    "        for (i in seq(1,5,1))\n",
    "            {    \n",
    "                answer <- stochasticGradientDes(y,A,x,alpha,thres,maxiter,opt)\n",
    "                if (answer$converged){ \n",
    "                    \n",
    "                iterationcount = append(iterationcount,answer$iteration)\n",
    "                    \n",
    "                }\n",
    "            \n",
    "        }\n",
    "            Ssuccessalphs <- append(Ssuccessalphs,alpha)\n",
    "            Siternations[[row]] <- mean(iterationcount)\n",
    "            row = row+1\n",
    "    }\n",
    "    Siternations <- do.call(cbind, Siternations)\n",
    "    colnames(Siternations)<- Ssuccessalphs\n",
    "    \n",
    "    barplot(Siternations, main= paste(\"Interation vs alpha for option \", opt,sep = \" \"), names.arg = Ssuccessalphs,\n",
    "        ylab = \"Interations\", ylim = c(0,max(Siternations)+max(Siternations)%/%10), xlab = \"\", axes = FALSE)\n",
    "ylabel <- seq(0, max(Siternations)+max(Siternations)%/%10, by = max(Siternations)%/%10)\n",
    "axis(2, at = ylabel, las = 1)\n",
    "box()\n",
    "}"
   ]
  },
  {
   "cell_type": "markdown",
   "metadata": {},
   "source": [
    "### Observation on SGD\n",
    "\n",
    "It is quite difficult to draw any conclusion for adaptive alpha for SGD as each iteration gives different result. So I ran 5 iteration for each and capture mean no. of iteration for each. It is obserable that option 2 (alpha = a/i) gives answer in less number of iteration.  "
   ]
  },
  {
   "cell_type": "markdown",
   "metadata": {},
   "source": [
    "#### SGD for different threshold"
   ]
  },
  {
   "cell_type": "code",
   "execution_count": 65,
   "metadata": {},
   "outputs": [
    {
     "name": "stdout",
     "output_type": "stream",
     "text": [
      "     0.1           0.01         \n",
      "[1,] \" 0.09177923\" \"-0.01031580\"\n",
      "[2,] \" 0.48341586\" \" 0.28323165\"\n",
      "[3,] \" 0.54253265\" \" 0.26235312\"\n",
      "     0.1           0.01         \n",
      "[1,] \"-0.09717073\" \"-0.01137831\"\n",
      "[2,] \" 0.59742232\" \" 0.47059362\"\n",
      "[3,] \" 0.47486920\" \" 0.40409319\"\n"
     ]
    },
    {
     "data": {
      "image/png": "[encoded data removed]",
      "text/plain": [
       "Plot with title \"Interation vs alpha for threhold  0.1\""
      ]
     },
     "metadata": {},
     "output_type": "display_data"
    },
    {
     "name": "stdout",
     "output_type": "stream",
     "text": [
      "     0.1          0.01        \n",
      "[1,] \"0.04992134\" \"0.05477428\"\n",
      "[2,] \"0.66553418\" \"0.44618333\"\n",
      "[3,] \"0.52556511\" \"0.37517108\"\n"
     ]
    },
    {
     "data": {
      "image/png": "[encoded data removed]",
      "text/plain": [
       "Plot with title \"Interation vs alpha for threhold  0.01\""
      ]
     },
     "metadata": {},
     "output_type": "display_data"
    },
    {
     "data": {
      "image/png": "[encoded data removed]",
      "text/plain": [
       "Plot with title \"Interation vs alpha for threhold  0.001\""
      ]
     },
     "metadata": {},
     "output_type": "display_data"
    }
   ],
   "source": [
    "thres <- c(10**(-1),10**(-2),10**(-3))\n",
    "for (thre in thres){\n",
    "    maxiter <- 1000\n",
    "    alphas <- c(0.1,0.01)\n",
    "    A2 <- A\n",
    "    y2 <- y\n",
    "    Siternations <- list()\n",
    "    Ssuccessalphs <- c()\n",
    "    Sgradienttrend <- list()\n",
    "    Sxsfull <- list()\n",
    "    x <- matrix(rep(0,ncol(A)),nrow =ncol(A), byrow = TRUE)\n",
    "    row = 1\n",
    "    for (alpha in alphas) {\n",
    "        answer <- stochasticGradientDes(y,A,x,alpha,thre,maxiter,1)\n",
    "            if (answer$converged){\n",
    "                Ssuccessalphs <- append(Ssuccessalphs,alpha)\n",
    "                Sxsfull[[row]] <- answer$x\n",
    "                Siternations[[row]] <- answer$iteration\n",
    "                Sgradienttrend[[row]] <- answer$gradientTrend\n",
    "                row = row+1\n",
    "            }\n",
    "        }\n",
    "    Sxsfull <- do.call(cbind, Sxsfull)\n",
    "    Siternations <- do.call(cbind, Siternations)\n",
    "\n",
    "    colnames(Sxsfull)<- Ssuccessalphs\n",
    "    colnames(Siternations)<- Ssuccessalphs\n",
    "    modifiedxs <- format(Sxsfull, scientific = FALSE)\n",
    "    print(modifiedxs)\n",
    "\n",
    "        barplot(Siternations, main= paste(\"Interation vs alpha for threhold \", thre,sep = \" \"), names.arg = Ssuccessalphs,\n",
    "            ylab = \"Interations\", ylim = c(0,max(Siternations)+max(Siternations)%/%10), xlab = \"\", axes = FALSE)\n",
    "    ylabel <- seq(0, max(Siternations)+max(Siternations)%/%10, by = max(Siternations)%/%10)\n",
    "    axis(2, at = ylabel, las = 1)\n",
    "    box()\n",
    "}"
   ]
  },
  {
   "cell_type": "markdown",
   "metadata": {},
   "source": [
    "### Observation on SGD\n",
    "\n",
    "as threshold decreases no. of iteration increases which is resonable as are aiming for more accurate solution "
   ]
  },
  {
   "cell_type": "markdown",
   "metadata": {},
   "source": [
    "### Contour Plot for the SGD"
   ]
  },
  {
   "cell_type": "code",
   "execution_count": 129,
   "metadata": {},
   "outputs": [
    {
     "data": {
      "text/html": [
       "<table>\n",
       "<tbody>\n",
       "\t<tr><th scope=row>[195,]</th><td>1.016019e-16</td><td>0.5448748   </td><td>0.4371755   </td></tr>\n",
       "\t<tr><th scope=row>[196,]</th><td>1.016019e-16</td><td>0.5478437   </td><td>0.4353875   </td></tr>\n",
       "\t<tr><th scope=row>[197,]</th><td>1.016019e-16</td><td>0.5481899   </td><td>0.4357411   </td></tr>\n",
       "\t<tr><th scope=row>[198,]</th><td>1.016019e-16</td><td>0.5494029   </td><td>0.4388509   </td></tr>\n",
       "\t<tr><th scope=row>[199,]</th><td>1.016019e-16</td><td>0.5499848   </td><td>0.4402861   </td></tr>\n",
       "\t<tr><th scope=row>[200,]</th><td>1.016019e-16</td><td>0.5499669   </td><td>0.4402532   </td></tr>\n",
       "</tbody>\n",
       "</table>\n"
      ],
      "text/latex": [
       "\\begin{tabular}{r|lll}\n",
       "\t{[}195,{]} & 1.016019e-16 & 0.5448748    & 0.4371755   \\\\\n",
       "\t{[}196,{]} & 1.016019e-16 & 0.5478437    & 0.4353875   \\\\\n",
       "\t{[}197,{]} & 1.016019e-16 & 0.5481899    & 0.4357411   \\\\\n",
       "\t{[}198,{]} & 1.016019e-16 & 0.5494029    & 0.4388509   \\\\\n",
       "\t{[}199,{]} & 1.016019e-16 & 0.5499848    & 0.4402861   \\\\\n",
       "\t{[}200,{]} & 1.016019e-16 & 0.5499669    & 0.4402532   \\\\\n",
       "\\end{tabular}\n"
      ],
      "text/markdown": [
       "\n",
       "| [195,] | 1.016019e-16 | 0.5448748    | 0.4371755    |\n",
       "| [196,] | 1.016019e-16 | 0.5478437    | 0.4353875    |\n",
       "| [197,] | 1.016019e-16 | 0.5481899    | 0.4357411    |\n",
       "| [198,] | 1.016019e-16 | 0.5494029    | 0.4388509    |\n",
       "| [199,] | 1.016019e-16 | 0.5499848    | 0.4402861    |\n",
       "| [200,] | 1.016019e-16 | 0.5499669    | 0.4402532    |\n",
       "\n"
      ],
      "text/plain": [
       "       [,1]         [,2]      [,3]     \n",
       "[195,] 1.016019e-16 0.5448748 0.4371755\n",
       "[196,] 1.016019e-16 0.5478437 0.4353875\n",
       "[197,] 1.016019e-16 0.5481899 0.4357411\n",
       "[198,] 1.016019e-16 0.5494029 0.4388509\n",
       "[199,] 1.016019e-16 0.5499848 0.4402861\n",
       "[200,] 1.016019e-16 0.5499669 0.4402532"
      ]
     },
     "metadata": {},
     "output_type": "display_data"
    },
    {
     "data": {
      "text/html": [
       "200"
      ],
      "text/latex": [
       "200"
      ],
      "text/markdown": [
       "200"
      ],
      "text/plain": [
       "[1] 200"
      ]
     },
     "metadata": {},
     "output_type": "display_data"
    }
   ],
   "source": [
    "#storing xs for ploting stochastic gradient flow\n",
    "SgradX <- list()\n",
    "\n",
    "sx <- matrix(c(sol[1],0,0),nrow =ncol(A), byrow = TRUE)\n",
    "thres <- 10**(-2)\n",
    "converged<-FALSE\n",
    "maxi <- 1000\n",
    "SgradX[[1]] <- sx\n",
    "i=2\n",
    "alpha = 0.01\n",
    "gradientTrend <- c()\n",
    " while((!converged  && i <= maxi))\n",
    "        {\n",
    "            index <- sample(nrow(A),1)\n",
    "            yi <- matrix(y[index],nrow = 1,byrow = TRUE)\n",
    "            Ai <- matrix(A[index,],nrow = 1,byrow = TRUE) \n",
    "            deltaf <- deltafx(yi,Ai,sx)\n",
    "            if(is.nan(norm(deltaf))){\n",
    "                break\n",
    "            }\n",
    "            sx <- sx - (alpha*deltaf)\n",
    "            # x1(inside column matrix x2) is changed to optimum value  \n",
    "            sx[1] = sol[1] \n",
    "            SgradX[[i]] <- sx\n",
    "            gradientTrend <- append(gradientTrend,norm(deltaf))\n",
    "            converged <- (norm(deltaf) <= thres)\n",
    "            i <- i+1\n",
    "        }\n",
    "#creating matrix of solution of xs to plot direction of gradient \n",
    "mSgradX <- do.call(cbind, SgradX)\n",
    "tmSgradX <- t(mSgradX)\n",
    "tail(tmSgradX)\n",
    "nrow(tmSgradX)\n",
    "\n",
    "sxe2 <- tmSgradX[,2]\n",
    "sxe3 <- tmSgradX[,3]"
   ]
  },
  {
   "cell_type": "code",
   "execution_count": 130,
   "metadata": {},
   "outputs": [
    {
     "data": {
      "image/png": "[encoded data removed]",
      "text/plain": [
       "Plot with title \"Level sets for x1 = 1.016019e-16 \""
      ]
     },
     "metadata": {},
     "output_type": "display_data"
    }
   ],
   "source": [
    "#For contour plot formalation from question 3 is used as there won't be any change in contour plot for problem \n",
    "cols = rev(colorRampPalette(c('darkred','red','blue','lightblue'))(24))\n",
    "contour(xrange2,xrange3,z = fxValues,nlevels = 80, main = \"Level sets for x1 = 1.016019e-16 \", xlab = \"x2 (normalised no. of bedrooms)\", ylab = \"x3 (normalised sqft area)\",col = cols)\n",
    "s <- seq(length(sxe3)-1)\n",
    "arrows(sxe2[s], sxe3[s], sxe2[s+1], sxe3[s+1], col = 3)\n",
    "lines(sxe2,sxe3)"
   ]
  },
  {
   "cell_type": "markdown",
   "metadata": {},
   "source": [
    "### Observation on SGD\n",
    "\n",
    "Here I have kept the contoure plot for one of \"nicer\" runn of SGD as there were some run where SGD converges even before coming anywhere near the optimal solution.\n",
    "\n",
    "Gradient flow for SGD is random, though it has aim for value less than thresold but since with every itreration we are using differernt value of gradient it may converges to some what sub optimal solution. This may be good for  problems where even a sub optimal solution will be good enough  "
   ]
  },
  {
   "cell_type": "code",
   "execution_count": null,
   "metadata": {},
   "outputs": [],
   "source": []
  },
  {
   "cell_type": "markdown",
   "metadata": {},
   "source": [
    "Github link for the code \n",
    "\n",
    "https://github.com/jainsanyam786/OptimizationForMachineLearning.git"
   ]
  }
 ],
 "metadata": {
  "kernelspec": {
   "display_name": "R",
   "language": "R",
   "name": "ir"
  },
  "language_info": {
   "codemirror_mode": "r",
   "file_extension": ".r",
   "mimetype": "text/x-r-source",
   "name": "R",
   "pygments_lexer": "r",
   "version": "3.6.1"
  }
 },
 "nbformat": 4,
 "nbformat_minor": 4
}

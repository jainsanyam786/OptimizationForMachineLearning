{
 "cells": [
  {
   "cell_type": "markdown",
   "metadata": {},
   "source": [
    "# HOMEWORK 4"
   ]
  },
  {
   "cell_type": "markdown",
   "metadata": {},
   "source": [
    "## Read the data\n",
    "\n",
    "We will read dataset that is about the stores. The data contains following information.\n",
    "\n",
    "    1.UsesID: Id of a user.\n",
    "    2.Gender: Gender of the customer.\n",
    "    3.Age: Age of customer is years.\n",
    "    4.EstimatedSalary: Yearly estimated salary of the customer.\n",
    "    5.Purchased: Binary value with value 1 if the customer purchased the item, 0 otherwise."
   ]
  },
  {
   "cell_type": "code",
   "execution_count": 103,
   "metadata": {},
   "outputs": [],
   "source": [
    "options(warn=-1)\n",
    "library(ggplot2)\n",
    "storeData <- read.csv('social.csv')"
   ]
  },
  {
   "cell_type": "markdown",
   "metadata": {},
   "source": [
    "### Inspect the data read"
   ]
  },
  {
   "cell_type": "code",
   "execution_count": 104,
   "metadata": {},
   "outputs": [
    {
     "data": {
      "text/html": [
       "<table>\n",
       "<thead><tr><th scope=col>User.ID</th><th scope=col>Gender</th><th scope=col>Age</th><th scope=col>EstimatedSalary</th><th scope=col>Purchased</th></tr></thead>\n",
       "<tbody>\n",
       "\t<tr><td>15624510</td><td>Male    </td><td>19      </td><td>19000   </td><td>0       </td></tr>\n",
       "\t<tr><td>15810944</td><td>Male    </td><td>35      </td><td>20000   </td><td>0       </td></tr>\n",
       "\t<tr><td>15668575</td><td>Female  </td><td>26      </td><td>43000   </td><td>0       </td></tr>\n",
       "\t<tr><td>15603246</td><td>Female  </td><td>27      </td><td>57000   </td><td>0       </td></tr>\n",
       "\t<tr><td>15804002</td><td>Male    </td><td>19      </td><td>76000   </td><td>0       </td></tr>\n",
       "\t<tr><td>15728773</td><td>Male    </td><td>27      </td><td>58000   </td><td>0       </td></tr>\n",
       "</tbody>\n",
       "</table>\n"
      ],
      "text/latex": [
       "\\begin{tabular}{r|lllll}\n",
       " User.ID & Gender & Age & EstimatedSalary & Purchased\\\\\n",
       "\\hline\n",
       "\t 15624510 & Male     & 19       & 19000    & 0       \\\\\n",
       "\t 15810944 & Male     & 35       & 20000    & 0       \\\\\n",
       "\t 15668575 & Female   & 26       & 43000    & 0       \\\\\n",
       "\t 15603246 & Female   & 27       & 57000    & 0       \\\\\n",
       "\t 15804002 & Male     & 19       & 76000    & 0       \\\\\n",
       "\t 15728773 & Male     & 27       & 58000    & 0       \\\\\n",
       "\\end{tabular}\n"
      ],
      "text/markdown": [
       "\n",
       "| User.ID | Gender | Age | EstimatedSalary | Purchased |\n",
       "|---|---|---|---|---|\n",
       "| 15624510 | Male     | 19       | 19000    | 0        |\n",
       "| 15810944 | Male     | 35       | 20000    | 0        |\n",
       "| 15668575 | Female   | 26       | 43000    | 0        |\n",
       "| 15603246 | Female   | 27       | 57000    | 0        |\n",
       "| 15804002 | Male     | 19       | 76000    | 0        |\n",
       "| 15728773 | Male     | 27       | 58000    | 0        |\n",
       "\n"
      ],
      "text/plain": [
       "  User.ID  Gender Age EstimatedSalary Purchased\n",
       "1 15624510 Male   19  19000           0        \n",
       "2 15810944 Male   35  20000           0        \n",
       "3 15668575 Female 26  43000           0        \n",
       "4 15603246 Female 27  57000           0        \n",
       "5 15804002 Male   19  76000           0        \n",
       "6 15728773 Male   27  58000           0        "
      ]
     },
     "metadata": {},
     "output_type": "display_data"
    }
   ],
   "source": [
    "head(storeData)"
   ]
  },
  {
   "cell_type": "markdown",
   "metadata": {},
   "source": [
    "#### Spends are already reduced in given data."
   ]
  },
  {
   "cell_type": "code",
   "execution_count": 105,
   "metadata": {},
   "outputs": [
    {
     "name": "stdout",
     "output_type": "stream",
     "text": [
      "Size of Store data 400 5"
     ]
    }
   ],
   "source": [
    "cat(\"Size of Store data\",dim.data.frame(storeData))"
   ]
  },
  {
   "cell_type": "markdown",
   "metadata": {},
   "source": [
    "## Aim is to train a support vector machine(SVM) that will predict whether a customer will purchase or not."
   ]
  },
  {
   "cell_type": "markdown",
   "metadata": {},
   "source": [
    "##### Spliting the data as training and testing data"
   ]
  },
  {
   "cell_type": "code",
   "execution_count": 106,
   "metadata": {},
   "outputs": [],
   "source": [
    "# sampling data to generate 75% training data and 25% test data\n",
    "sdata <- sample(nrow(storeData), nrow(storeData)*0.75)\n",
    "sampledata <- sort(sample(nrow(storeData), nrow(storeData)*0.75))\n",
    "trainingData<-storeData[sampledata,]\n",
    "testingData<-storeData[-sampledata,]\n",
    "\n"
   ]
  },
  {
   "cell_type": "code",
   "execution_count": 107,
   "metadata": {},
   "outputs": [
    {
     "name": "stdout",
     "output_type": "stream",
     "text": [
      "Trainig Data ::  Size ::  300 5"
     ]
    },
    {
     "data": {
      "text/html": [
       "<table>\n",
       "<thead><tr><th></th><th scope=col>User.ID</th><th scope=col>Gender</th><th scope=col>Age</th><th scope=col>EstimatedSalary</th><th scope=col>Purchased</th></tr></thead>\n",
       "<tbody>\n",
       "\t<tr><th scope=row>2</th><td>15810944</td><td>Male    </td><td>35      </td><td>20000   </td><td>0       </td></tr>\n",
       "\t<tr><th scope=row>3</th><td>15668575</td><td>Female  </td><td>26      </td><td>43000   </td><td>0       </td></tr>\n",
       "\t<tr><th scope=row>5</th><td>15804002</td><td>Male    </td><td>19      </td><td>76000   </td><td>0       </td></tr>\n",
       "\t<tr><th scope=row>9</th><td>15600575</td><td>Male    </td><td>25      </td><td>33000   </td><td>0       </td></tr>\n",
       "\t<tr><th scope=row>11</th><td>15570769</td><td>Female  </td><td>26      </td><td>80000   </td><td>0       </td></tr>\n",
       "\t<tr><th scope=row>13</th><td>15746139</td><td>Male    </td><td>20      </td><td>86000   </td><td>0       </td></tr>\n",
       "</tbody>\n",
       "</table>\n"
      ],
      "text/latex": [
       "\\begin{tabular}{r|lllll}\n",
       "  & User.ID & Gender & Age & EstimatedSalary & Purchased\\\\\n",
       "\\hline\n",
       "\t2 & 15810944 & Male     & 35       & 20000    & 0       \\\\\n",
       "\t3 & 15668575 & Female   & 26       & 43000    & 0       \\\\\n",
       "\t5 & 15804002 & Male     & 19       & 76000    & 0       \\\\\n",
       "\t9 & 15600575 & Male     & 25       & 33000    & 0       \\\\\n",
       "\t11 & 15570769 & Female   & 26       & 80000    & 0       \\\\\n",
       "\t13 & 15746139 & Male     & 20       & 86000    & 0       \\\\\n",
       "\\end{tabular}\n"
      ],
      "text/markdown": [
       "\n",
       "| <!--/--> | User.ID | Gender | Age | EstimatedSalary | Purchased |\n",
       "|---|---|---|---|---|---|\n",
       "| 2 | 15810944 | Male     | 35       | 20000    | 0        |\n",
       "| 3 | 15668575 | Female   | 26       | 43000    | 0        |\n",
       "| 5 | 15804002 | Male     | 19       | 76000    | 0        |\n",
       "| 9 | 15600575 | Male     | 25       | 33000    | 0        |\n",
       "| 11 | 15570769 | Female   | 26       | 80000    | 0        |\n",
       "| 13 | 15746139 | Male     | 20       | 86000    | 0        |\n",
       "\n"
      ],
      "text/plain": [
       "   User.ID  Gender Age EstimatedSalary Purchased\n",
       "2  15810944 Male   35  20000           0        \n",
       "3  15668575 Female 26  43000           0        \n",
       "5  15804002 Male   19  76000           0        \n",
       "9  15600575 Male   25  33000           0        \n",
       "11 15570769 Female 26  80000           0        \n",
       "13 15746139 Male   20  86000           0        "
      ]
     },
     "metadata": {},
     "output_type": "display_data"
    },
    {
     "name": "stdout",
     "output_type": "stream",
     "text": [
      "Testing Data ::  Size ::  100 5"
     ]
    },
    {
     "data": {
      "text/html": [
       "<table>\n",
       "<thead><tr><th></th><th scope=col>User.ID</th><th scope=col>Gender</th><th scope=col>Age</th><th scope=col>EstimatedSalary</th><th scope=col>Purchased</th></tr></thead>\n",
       "<tbody>\n",
       "\t<tr><th scope=row>1</th><td>15624510</td><td>Male    </td><td>19      </td><td> 19000  </td><td>0       </td></tr>\n",
       "\t<tr><th scope=row>4</th><td>15603246</td><td>Female  </td><td>27      </td><td> 57000  </td><td>0       </td></tr>\n",
       "\t<tr><th scope=row>6</th><td>15728773</td><td>Male    </td><td>27      </td><td> 58000  </td><td>0       </td></tr>\n",
       "\t<tr><th scope=row>7</th><td>15598044</td><td>Female  </td><td>27      </td><td> 84000  </td><td>0       </td></tr>\n",
       "\t<tr><th scope=row>8</th><td>15694829</td><td>Female  </td><td>32      </td><td>150000  </td><td>1       </td></tr>\n",
       "\t<tr><th scope=row>10</th><td>15727311</td><td>Female  </td><td>35      </td><td> 65000  </td><td>0       </td></tr>\n",
       "</tbody>\n",
       "</table>\n"
      ],
      "text/latex": [
       "\\begin{tabular}{r|lllll}\n",
       "  & User.ID & Gender & Age & EstimatedSalary & Purchased\\\\\n",
       "\\hline\n",
       "\t1 & 15624510 & Male     & 19       &  19000   & 0       \\\\\n",
       "\t4 & 15603246 & Female   & 27       &  57000   & 0       \\\\\n",
       "\t6 & 15728773 & Male     & 27       &  58000   & 0       \\\\\n",
       "\t7 & 15598044 & Female   & 27       &  84000   & 0       \\\\\n",
       "\t8 & 15694829 & Female   & 32       & 150000   & 1       \\\\\n",
       "\t10 & 15727311 & Female   & 35       &  65000   & 0       \\\\\n",
       "\\end{tabular}\n"
      ],
      "text/markdown": [
       "\n",
       "| <!--/--> | User.ID | Gender | Age | EstimatedSalary | Purchased |\n",
       "|---|---|---|---|---|---|\n",
       "| 1 | 15624510 | Male     | 19       |  19000   | 0        |\n",
       "| 4 | 15603246 | Female   | 27       |  57000   | 0        |\n",
       "| 6 | 15728773 | Male     | 27       |  58000   | 0        |\n",
       "| 7 | 15598044 | Female   | 27       |  84000   | 0        |\n",
       "| 8 | 15694829 | Female   | 32       | 150000   | 1        |\n",
       "| 10 | 15727311 | Female   | 35       |  65000   | 0        |\n",
       "\n"
      ],
      "text/plain": [
       "   User.ID  Gender Age EstimatedSalary Purchased\n",
       "1  15624510 Male   19   19000          0        \n",
       "4  15603246 Female 27   57000          0        \n",
       "6  15728773 Male   27   58000          0        \n",
       "7  15598044 Female 27   84000          0        \n",
       "8  15694829 Female 32  150000          1        \n",
       "10 15727311 Female 35   65000          0        "
      ]
     },
     "metadata": {},
     "output_type": "display_data"
    }
   ],
   "source": [
    "cat(\"Trainig Data :: \",\"Size :: \", dim.data.frame(trainingData))\n",
    "head(trainingData)\n",
    "cat(\"Testing Data :: \",\"Size :: \", dim.data.frame(testingData))\n",
    "head(testingData)"
   ]
  },
  {
   "cell_type": "markdown",
   "metadata": {},
   "source": [
    "##### Preprocessing data for modelling "
   ]
  },
  {
   "cell_type": "code",
   "execution_count": 108,
   "metadata": {},
   "outputs": [
    {
     "name": "stdout",
     "output_type": "stream",
     "text": [
      "Trainig Data:: Input and Output"
     ]
    },
    {
     "data": {
      "text/html": [
       "<table>\n",
       "<thead><tr><th scope=col>ones</th><th scope=col>Age</th><th scope=col>EstimatedSalary</th></tr></thead>\n",
       "<tbody>\n",
       "\t<tr><td>1    </td><td>35   </td><td>20000</td></tr>\n",
       "\t<tr><td>1    </td><td>26   </td><td>43000</td></tr>\n",
       "\t<tr><td>1    </td><td>19   </td><td>76000</td></tr>\n",
       "\t<tr><td>1    </td><td>25   </td><td>33000</td></tr>\n",
       "\t<tr><td>1    </td><td>26   </td><td>80000</td></tr>\n",
       "\t<tr><td>1    </td><td>20   </td><td>86000</td></tr>\n",
       "</tbody>\n",
       "</table>\n"
      ],
      "text/latex": [
       "\\begin{tabular}{lll}\n",
       " ones & Age & EstimatedSalary\\\\\n",
       "\\hline\n",
       "\t 1     & 35    & 20000\\\\\n",
       "\t 1     & 26    & 43000\\\\\n",
       "\t 1     & 19    & 76000\\\\\n",
       "\t 1     & 25    & 33000\\\\\n",
       "\t 1     & 26    & 80000\\\\\n",
       "\t 1     & 20    & 86000\\\\\n",
       "\\end{tabular}\n"
      ],
      "text/markdown": [
       "\n",
       "| ones | Age | EstimatedSalary |\n",
       "|---|---|---|\n",
       "| 1     | 35    | 20000 |\n",
       "| 1     | 26    | 43000 |\n",
       "| 1     | 19    | 76000 |\n",
       "| 1     | 25    | 33000 |\n",
       "| 1     | 26    | 80000 |\n",
       "| 1     | 20    | 86000 |\n",
       "\n"
      ],
      "text/plain": [
       "     ones Age EstimatedSalary\n",
       "[1,] 1    35  20000          \n",
       "[2,] 1    26  43000          \n",
       "[3,] 1    19  76000          \n",
       "[4,] 1    25  33000          \n",
       "[5,] 1    26  80000          \n",
       "[6,] 1    20  86000          "
      ]
     },
     "metadata": {},
     "output_type": "display_data"
    },
    {
     "data": {
      "text/html": [
       "<table>\n",
       "<thead><tr><th scope=col>Purchased</th></tr></thead>\n",
       "<tbody>\n",
       "\t<tr><td>-1</td></tr>\n",
       "\t<tr><td>-1</td></tr>\n",
       "\t<tr><td>-1</td></tr>\n",
       "\t<tr><td>-1</td></tr>\n",
       "\t<tr><td>-1</td></tr>\n",
       "\t<tr><td>-1</td></tr>\n",
       "</tbody>\n",
       "</table>\n"
      ],
      "text/latex": [
       "\\begin{tabular}{l}\n",
       " Purchased\\\\\n",
       "\\hline\n",
       "\t -1\\\\\n",
       "\t -1\\\\\n",
       "\t -1\\\\\n",
       "\t -1\\\\\n",
       "\t -1\\\\\n",
       "\t -1\\\\\n",
       "\\end{tabular}\n"
      ],
      "text/markdown": [
       "\n",
       "| Purchased |\n",
       "|---|\n",
       "| -1 |\n",
       "| -1 |\n",
       "| -1 |\n",
       "| -1 |\n",
       "| -1 |\n",
       "| -1 |\n",
       "\n"
      ],
      "text/plain": [
       "     Purchased\n",
       "[1,] -1       \n",
       "[2,] -1       \n",
       "[3,] -1       \n",
       "[4,] -1       \n",
       "[5,] -1       \n",
       "[6,] -1       "
      ]
     },
     "metadata": {},
     "output_type": "display_data"
    },
    {
     "name": "stdout",
     "output_type": "stream",
     "text": [
      "Testing Data:: Input and Output"
     ]
    },
    {
     "data": {
      "text/html": [
       "<table>\n",
       "<thead><tr><th scope=col>ones</th><th scope=col>Age</th><th scope=col>EstimatedSalary</th></tr></thead>\n",
       "<tbody>\n",
       "\t<tr><td>1     </td><td>19    </td><td> 19000</td></tr>\n",
       "\t<tr><td>1     </td><td>27    </td><td> 57000</td></tr>\n",
       "\t<tr><td>1     </td><td>27    </td><td> 58000</td></tr>\n",
       "\t<tr><td>1     </td><td>27    </td><td> 84000</td></tr>\n",
       "\t<tr><td>1     </td><td>32    </td><td>150000</td></tr>\n",
       "\t<tr><td>1     </td><td>35    </td><td> 65000</td></tr>\n",
       "</tbody>\n",
       "</table>\n"
      ],
      "text/latex": [
       "\\begin{tabular}{lll}\n",
       " ones & Age & EstimatedSalary\\\\\n",
       "\\hline\n",
       "\t 1      & 19     &  19000\\\\\n",
       "\t 1      & 27     &  57000\\\\\n",
       "\t 1      & 27     &  58000\\\\\n",
       "\t 1      & 27     &  84000\\\\\n",
       "\t 1      & 32     & 150000\\\\\n",
       "\t 1      & 35     &  65000\\\\\n",
       "\\end{tabular}\n"
      ],
      "text/markdown": [
       "\n",
       "| ones | Age | EstimatedSalary |\n",
       "|---|---|---|\n",
       "| 1      | 19     |  19000 |\n",
       "| 1      | 27     |  57000 |\n",
       "| 1      | 27     |  58000 |\n",
       "| 1      | 27     |  84000 |\n",
       "| 1      | 32     | 150000 |\n",
       "| 1      | 35     |  65000 |\n",
       "\n"
      ],
      "text/plain": [
       "     ones Age EstimatedSalary\n",
       "[1,] 1    19   19000         \n",
       "[2,] 1    27   57000         \n",
       "[3,] 1    27   58000         \n",
       "[4,] 1    27   84000         \n",
       "[5,] 1    32  150000         \n",
       "[6,] 1    35   65000         "
      ]
     },
     "metadata": {},
     "output_type": "display_data"
    },
    {
     "data": {
      "text/html": [
       "<table>\n",
       "<thead><tr><th scope=col>Purchased</th></tr></thead>\n",
       "<tbody>\n",
       "\t<tr><td>-1</td></tr>\n",
       "\t<tr><td>-1</td></tr>\n",
       "\t<tr><td>-1</td></tr>\n",
       "\t<tr><td>-1</td></tr>\n",
       "\t<tr><td> 1</td></tr>\n",
       "\t<tr><td>-1</td></tr>\n",
       "</tbody>\n",
       "</table>\n"
      ],
      "text/latex": [
       "\\begin{tabular}{l}\n",
       " Purchased\\\\\n",
       "\\hline\n",
       "\t -1\\\\\n",
       "\t -1\\\\\n",
       "\t -1\\\\\n",
       "\t -1\\\\\n",
       "\t  1\\\\\n",
       "\t -1\\\\\n",
       "\\end{tabular}\n"
      ],
      "text/markdown": [
       "\n",
       "| Purchased |\n",
       "|---|\n",
       "| -1 |\n",
       "| -1 |\n",
       "| -1 |\n",
       "| -1 |\n",
       "|  1 |\n",
       "| -1 |\n",
       "\n"
      ],
      "text/plain": [
       "     Purchased\n",
       "[1,] -1       \n",
       "[2,] -1       \n",
       "[3,] -1       \n",
       "[4,] -1       \n",
       "[5,]  1       \n",
       "[6,] -1       "
      ]
     },
     "metadata": {},
     "output_type": "display_data"
    }
   ],
   "source": [
    "# converting dataframe into matrix with required data. We are using only Age and EstimatedSalary\n",
    "ytrain <- as.matrix(trainingData$Purchased)\n",
    "# creating yn for computation assigning +1 to 1 and -1 to 0\n",
    "ytrain <- matrix(apply(ytrain, 1, function (var) {if (var == 1) return (1) else return (-1)}))\n",
    "colnames(ytrain) <- c(\"Purchased\")\n",
    "ones <- matrix(rep(1,nrow(ytrain)), nrow = nrow(ytrain), ncol = 1)\n",
    "# Adding ones in first column of data for bias parameter\n",
    "xtrain <- cbind(ones,trainingData$Age,trainingData$EstimatedSalary)\n",
    "colnames(xtrain) <- c(\"ones\",\"Age\",\"EstimatedSalary\")\n",
    "cat(\"Trainig Data:: Input and Output\" )\n",
    "head(xtrain)\n",
    "head(ytrain)\n",
    "ytest <- as.matrix(testingData$Purchased)\n",
    "# creating yn for computation assigning +1 to 1 and -1 to 0\n",
    "ytest <- matrix(apply(ytest, 1, function (var) {if (var == 1) return (1) else return (-1)}))\n",
    "colnames(ytest) <- c(\"Purchased\")\n",
    "ones <- matrix(rep(1,nrow(ytest)), nrow = nrow(ytest), ncol = 1)\n",
    "# Adding ones in first column of data for bias parameter\n",
    "xtest <- cbind(ones,testingData$Age,testingData$EstimatedSalary)\n",
    "colnames(xtest) <- c(\"ones\",\"Age\",\"EstimatedSalary\")\n",
    "cat(\"Testing Data:: Input and Output\" )\n",
    "head(xtest)\n",
    "head(ytest)"
   ]
  },
  {
   "cell_type": "code",
   "execution_count": 109,
   "metadata": {},
   "outputs": [
    {
     "name": "stdout",
     "output_type": "stream",
     "text": [
      "Training Input data after normalization"
     ]
    },
    {
     "data": {
      "text/html": [
       "<table>\n",
       "<thead><tr><th scope=col>ones</th><th scope=col>Age</th><th scope=col>EstimatedSalary</th></tr></thead>\n",
       "<tbody>\n",
       "\t<tr><td>1         </td><td>-0.3249205</td><td>-1.4065133</td></tr>\n",
       "\t<tr><td>1         </td><td>-1.1824821</td><td>-0.7552187</td></tr>\n",
       "\t<tr><td>1         </td><td>-1.8494744</td><td> 0.1792476</td></tr>\n",
       "\t<tr><td>1         </td><td>-1.2777667</td><td>-1.0383903</td></tr>\n",
       "\t<tr><td>1         </td><td>-1.1824821</td><td> 0.2925163</td></tr>\n",
       "\t<tr><td>1         </td><td>-1.7541898</td><td> 0.4624192</td></tr>\n",
       "</tbody>\n",
       "</table>\n"
      ],
      "text/latex": [
       "\\begin{tabular}{lll}\n",
       " ones & Age & EstimatedSalary\\\\\n",
       "\\hline\n",
       "\t 1          & -0.3249205 & -1.4065133\\\\\n",
       "\t 1          & -1.1824821 & -0.7552187\\\\\n",
       "\t 1          & -1.8494744 &  0.1792476\\\\\n",
       "\t 1          & -1.2777667 & -1.0383903\\\\\n",
       "\t 1          & -1.1824821 &  0.2925163\\\\\n",
       "\t 1          & -1.7541898 &  0.4624192\\\\\n",
       "\\end{tabular}\n"
      ],
      "text/markdown": [
       "\n",
       "| ones | Age | EstimatedSalary |\n",
       "|---|---|---|\n",
       "| 1          | -0.3249205 | -1.4065133 |\n",
       "| 1          | -1.1824821 | -0.7552187 |\n",
       "| 1          | -1.8494744 |  0.1792476 |\n",
       "| 1          | -1.2777667 | -1.0383903 |\n",
       "| 1          | -1.1824821 |  0.2925163 |\n",
       "| 1          | -1.7541898 |  0.4624192 |\n",
       "\n"
      ],
      "text/plain": [
       "     ones Age        EstimatedSalary\n",
       "[1,] 1    -0.3249205 -1.4065133     \n",
       "[2,] 1    -1.1824821 -0.7552187     \n",
       "[3,] 1    -1.8494744  0.1792476     \n",
       "[4,] 1    -1.2777667 -1.0383903     \n",
       "[5,] 1    -1.1824821  0.2925163     \n",
       "[6,] 1    -1.7541898  0.4624192     "
      ]
     },
     "metadata": {},
     "output_type": "display_data"
    },
    {
     "name": "stdout",
     "output_type": "stream",
     "text": [
      "Testing Input data after normalization"
     ]
    },
    {
     "data": {
      "text/html": [
       "<table>\n",
       "<thead><tr><th scope=col>ones</th><th scope=col>Age</th><th scope=col>EstimatedSalary</th></tr></thead>\n",
       "<tbody>\n",
       "\t<tr><td>1          </td><td>-1.61236437</td><td>-1.6809336 </td></tr>\n",
       "\t<tr><td>1          </td><td>-0.82536529</td><td>-0.4274902 </td></tr>\n",
       "\t<tr><td>1          </td><td>-0.82536529</td><td>-0.3945048 </td></tr>\n",
       "\t<tr><td>1          </td><td>-0.82536529</td><td> 0.4631144 </td></tr>\n",
       "\t<tr><td>1          </td><td>-0.33349086</td><td> 2.6401477 </td></tr>\n",
       "\t<tr><td>1          </td><td>-0.03836621</td><td>-0.1636074 </td></tr>\n",
       "</tbody>\n",
       "</table>\n"
      ],
      "text/latex": [
       "\\begin{tabular}{lll}\n",
       " ones & Age & EstimatedSalary\\\\\n",
       "\\hline\n",
       "\t 1           & -1.61236437 & -1.6809336 \\\\\n",
       "\t 1           & -0.82536529 & -0.4274902 \\\\\n",
       "\t 1           & -0.82536529 & -0.3945048 \\\\\n",
       "\t 1           & -0.82536529 &  0.4631144 \\\\\n",
       "\t 1           & -0.33349086 &  2.6401477 \\\\\n",
       "\t 1           & -0.03836621 & -0.1636074 \\\\\n",
       "\\end{tabular}\n"
      ],
      "text/markdown": [
       "\n",
       "| ones | Age | EstimatedSalary |\n",
       "|---|---|---|\n",
       "| 1           | -1.61236437 | -1.6809336  |\n",
       "| 1           | -0.82536529 | -0.4274902  |\n",
       "| 1           | -0.82536529 | -0.3945048  |\n",
       "| 1           | -0.82536529 |  0.4631144  |\n",
       "| 1           | -0.33349086 |  2.6401477  |\n",
       "| 1           | -0.03836621 | -0.1636074  |\n",
       "\n"
      ],
      "text/plain": [
       "     ones Age         EstimatedSalary\n",
       "[1,] 1    -1.61236437 -1.6809336     \n",
       "[2,] 1    -0.82536529 -0.4274902     \n",
       "[3,] 1    -0.82536529 -0.3945048     \n",
       "[4,] 1    -0.82536529  0.4631144     \n",
       "[5,] 1    -0.33349086  2.6401477     \n",
       "[6,] 1    -0.03836621 -0.1636074     "
      ]
     },
     "metadata": {},
     "output_type": "display_data"
    }
   ],
   "source": [
    "#Scaling predictor variables for training data\n",
    "xtrain[,2] <- (xtrain[,2] - mean(xtrain[,2]))/sd(xtrain[,2])\n",
    "xtrain[,3] <- (xtrain[,3]- mean(xtrain[,3]))/sd(xtrain[,3])\n",
    "cat(\"Training Input data after normalization\")\n",
    "head(xtrain)\n",
    "\n",
    "#Scaling predictor variables for testing data\n",
    "xtest[,2] <- (xtest[,2] - mean(xtest[,2]))/sd(xtest[,2])\n",
    "xtest[,3] <- (xtest[,3]- mean(xtest[,3]))/sd(xtest[,3])\n",
    "cat(\"Testing Input data after normalization\")\n",
    "head(xtest)"
   ]
  },
  {
   "cell_type": "markdown",
   "metadata": {},
   "source": [
    "#### Defining functions for subgradient  and loss function  "
   ]
  },
  {
   "cell_type": "code",
   "execution_count": 110,
   "metadata": {},
   "outputs": [],
   "source": [
    "g <- function(t){\n",
    "    if (t < 1)\n",
    "        return (-1)\n",
    "    else\n",
    "        return (0)\n",
    "}\n",
    "\n",
    "# define tn = yn(<w,xn>)\n",
    "    # yn is the output for nth index\n",
    "    # xn is the input for nth index\n",
    "    # x = [b w1 w2]'\n",
    "\n",
    "tn <- function(yn, x, xn){\n",
    "    t <- yn * ((xn%*%x))\n",
    "    return (t)\n",
    "}\n",
    "\n",
    "\n",
    "#compute loss as terminating condition\n",
    "loss <-function(x,C){\n",
    "    N <- dim(xtrain)[1]\n",
    "    distances <- 1 - ytrain * (xtrain%*%x)\n",
    "    distances[distances < 0] <- 0  # equivalent to max(0, distance)\n",
    "    hinge_loss <- C * (sum(distances) / N)\n",
    "    # calculate cost\n",
    "    cost <- 1 / 2 * t(x)%*%x + hinge_loss\n",
    "    return (cost)\n",
    "}\n",
    "\n",
    "\n",
    "gradient <- function(x, C){\n",
    "    deltaF <- matrix(rep(0,3), nrow = 3, ncol = 1)\n",
    "    sum<- matrix(rep(0,3), nrow = 3, ncol = 1)\n",
    "    for (n in seq(length(ytrain)))\n",
    "        {\n",
    "        t = tn(ytrain[n],x,xtrain[n,])\n",
    "        gn = g(t)                                                                     \n",
    "        diff <- x + (C * gn * ytrain[n] * xtrain[n,])\n",
    "        sum <- sum + diff\n",
    "    }\n",
    "    deltaF <- sum/length(ytrain)\n",
    "    return (deltaF)\n",
    "}"
   ]
  },
  {
   "cell_type": "markdown",
   "metadata": {},
   "source": [
    "#### Defining functions execute gradient descent for SVM, generate prediction, compute accuracy and genearte confusion matrix"
   ]
  },
  {
   "cell_type": "code",
   "execution_count": 111,
   "metadata": {},
   "outputs": [],
   "source": [
    "# Run gradient descent for SVM\n",
    "gradientDescent <- function(x, C, alpha,thrs,maxi){\n",
    "    converged<-FALSE\n",
    "    i<-1\n",
    "    x1<-x\n",
    "    prev_lossvalue <- 0\n",
    "     while((!converged  && i <= maxi))\n",
    "            {\n",
    "                deltafx <- gradient(x1,C)\n",
    "                if(is.infinite(deltafx) || is.nan(norm(deltafx,type = \"2\"))){\n",
    "                    break\n",
    "                }\n",
    "                x1 <- x1 - (alpha*deltafx)\n",
    "                lossvalue <- loss(x1,C)\n",
    "                # terminating condition based on loss function\n",
    "                converged <-abs(prev_lossvalue - lossvalue) < thrs * prev_lossvalue\n",
    "                prev_lossvalue <- lossvalue\n",
    "                i <- i+1\n",
    "            }\n",
    "\n",
    "    return (list(\"x1\"= x1,\"iteration\" = i-1,\"converged\" = converged, \"lossValue\" = prev_lossvalue))\n",
    "}\n",
    "\n",
    "# generate prediction\n",
    "predict <- function(data,featurecoffiecients)\n",
    "    {\n",
    "    result <- data%*%featurecoffiecients\n",
    "    result[result < 0] <- -1\n",
    "    result[result > 0] <- 1 \n",
    "    return(result)\n",
    "}\n",
    "\n",
    "# compute accuracy\n",
    "accuracy <- function(predicted, actual)\n",
    "    {\n",
    "    return((sum(predicted==actual)/dim(predicted)[1])*100)\n",
    "}\n",
    "\n",
    "# generate confusion matrix\n",
    "generateconfusionmatrix <- function(predicted, actual)\n",
    "{\n",
    "    consfusionMatrix <- matrix(rep(0,4), nrow = 2, ncol = 2)\n",
    "    colnames(consfusionMatrix) <- c(\"actual(1)\",\"actual(-1)\")\n",
    "    rownames(consfusionMatrix) <- c(\"pred(1)\",\"pred(-1)\")\n",
    "    consfusionMatrix\n",
    "\n",
    "    for (i in seq(length(actual)))\n",
    "    {\n",
    "        if (actual[i] ==1 & predicted[i] ==1)\n",
    "            {\n",
    "            consfusionMatrix[1,1] = consfusionMatrix[1,1] + 1\n",
    "        }\n",
    "\n",
    "        else if (actual[i] ==1 & predicted[i] ==-1)\n",
    "        {\n",
    "            consfusionMatrix[2,1] = consfusionMatrix[2,1] + 1\n",
    "        }\n",
    "\n",
    "        else if (actual[i] ==-1 & predicted[i] ==1)\n",
    "        {\n",
    "            consfusionMatrix[1,2] = consfusionMatrix[1,2] + 1\n",
    "        }\n",
    "\n",
    "        else if (actual[i] ==-1 & predicted[i] ==-1)\n",
    "        {\n",
    "            consfusionMatrix[2,2] = consfusionMatrix[2,2] + 1\n",
    "        }\n",
    "\n",
    "    }\n",
    "    \n",
    "    return (consfusionMatrix)\n",
    "}"
   ]
  },
  {
   "cell_type": "markdown",
   "metadata": {},
   "source": [
    "#### Running SVM for tradeoff factor = 50"
   ]
  },
  {
   "cell_type": "code",
   "execution_count": 112,
   "metadata": {},
   "outputs": [
    {
     "name": "stdout",
     "output_type": "stream",
     "text": [
      "Coffiecients"
     ]
    },
    {
     "data": {
      "text/html": [
       "<table>\n",
       "<tbody>\n",
       "\t<tr><td>-0.5130687</td></tr>\n",
       "\t<tr><td> 0.9951247</td></tr>\n",
       "\t<tr><td> 0.4937978</td></tr>\n",
       "</tbody>\n",
       "</table>\n"
      ],
      "text/latex": [
       "\\begin{tabular}{l}\n",
       "\t -0.5130687\\\\\n",
       "\t  0.9951247\\\\\n",
       "\t  0.4937978\\\\\n",
       "\\end{tabular}\n"
      ],
      "text/markdown": [
       "\n",
       "| -0.5130687 |\n",
       "|  0.9951247 |\n",
       "|  0.4937978 |\n",
       "\n"
      ],
      "text/plain": [
       "     [,1]      \n",
       "[1,] -0.5130687\n",
       "[2,]  0.9951247\n",
       "[3,]  0.4937978"
      ]
     },
     "metadata": {},
     "output_type": "display_data"
    },
    {
     "name": "stdout",
     "output_type": "stream",
     "text": [
      "Accuarcy is ::  87 % \n",
      "Confusion Matrix"
     ]
    },
    {
     "data": {
      "text/html": [
       "<table>\n",
       "<thead><tr><th></th><th scope=col>actual(1)</th><th scope=col>actual(-1)</th></tr></thead>\n",
       "<tbody>\n",
       "\t<tr><th scope=row>pred(1)</th><td>26</td><td> 6</td></tr>\n",
       "\t<tr><th scope=row>pred(-1)</th><td> 7</td><td>61</td></tr>\n",
       "</tbody>\n",
       "</table>\n"
      ],
      "text/latex": [
       "\\begin{tabular}{r|ll}\n",
       "  & actual(1) & actual(-1)\\\\\n",
       "\\hline\n",
       "\tpred(1) & 26 &  6\\\\\n",
       "\tpred(-1) &  7 & 61\\\\\n",
       "\\end{tabular}\n"
      ],
      "text/markdown": [
       "\n",
       "| <!--/--> | actual(1) | actual(-1) |\n",
       "|---|---|---|\n",
       "| pred(1) | 26 |  6 |\n",
       "| pred(-1) |  7 | 61 |\n",
       "\n"
      ],
      "text/plain": [
       "         actual(1) actual(-1)\n",
       "pred(1)  26         6        \n",
       "pred(-1)  7        61        "
      ]
     },
     "metadata": {},
     "output_type": "display_data"
    }
   ],
   "source": [
    "#setting tradoff parameter to 50\n",
    "C <- 50\n",
    "# x = [w1 w2 b]'\n",
    "x <- matrix(rep(0,3), nrow = 3, ncol = 1)\n",
    "thres <- 10**(-2)\n",
    "maxiter <- 1000\n",
    "alpha <- 0.01\n",
    "answer <- gradientDescent(x, C,alpha,thres,maxiter)\n",
    "wstar <- answer$x\n",
    "cat(\"Coffiecients\")\n",
    "wstar\n",
    "#prediction\n",
    "prediction <- predict(xtest,wstar)\n",
    "#accuracy\n",
    "accuracyper1 <- accuracy(prediction,ytest)\n",
    "cat(\"Accuarcy is :: \", accuracyper1,\"%\",\"\\n\")\n",
    "#confusion matrix\n",
    "cat(\"Confusion Matrix\")\n",
    "cmatrix1 <- generateconfusionmatrix(prediction,ytest)\n",
    "cmatrix1"
   ]
  },
  {
   "cell_type": "code",
   "execution_count": 113,
   "metadata": {},
   "outputs": [],
   "source": [
    "# generating points to plot classification line\n",
    "Age = seq(-2,2,0.1)\n",
    "# wstar[1] represents b, wstar[2] and wstar[3] represents the paraneter for Age and salary\n",
    "EstimatesSalary = -(wstar[2]*Age+wstar[1])/wstar[3]\n",
    "data1 <- as.data.frame(cbind(Age,EstimatesSalary))"
   ]
  },
  {
   "cell_type": "code",
   "execution_count": 114,
   "metadata": {},
   "outputs": [
    {
     "data": {
      "image/png": "[encoded data removed]",
      "text/plain": [
       "plot without title"
      ]
     },
     "metadata": {},
     "output_type": "display_data"
    }
   ],
   "source": [
    "data <- as.data.frame(cbind(xtrain,ytrain))\n",
    "sp <- ggplot() + geom_point(data, mapping = aes(x = Age, y = EstimatedSalary,color = Purchased)) +\n",
    "scale_colour_gradient(low = \"red\", high = \"green\")\n",
    "sp + geom_line(data1, mapping = aes(x = Age, y = EstimatesSalary)) +\n",
    "ggtitle(\"Visualisation for Training data with C = 50\")"
   ]
  },
  {
   "cell_type": "code",
   "execution_count": 115,
   "metadata": {},
   "outputs": [
    {
     "data": {
      "image/png": "[encoded data removed]",
      "text/plain": [
       "plot without title"
      ]
     },
     "metadata": {},
     "output_type": "display_data"
    }
   ],
   "source": [
    "data <- as.data.frame(cbind(xtest,ytest))\n",
    "# data\n",
    "library(ggplot2)\n",
    "sp <- ggplot() + geom_point(data, mapping = aes(x = Age, y = EstimatedSalary, color = Purchased))+ \n",
    "scale_colour_gradient(low = \"red\", high = \"green\")\n",
    "sp + geom_line(data1, mapping = aes(x = Age, y = EstimatesSalary))+ \n",
    "ggtitle(\"Visualisation for Testing data with C = 50\")"
   ]
  },
  {
   "cell_type": "markdown",
   "metadata": {},
   "source": [
    "#### Running SVM for tradeoff factor = 1, 75 and 100"
   ]
  },
  {
   "cell_type": "code",
   "execution_count": 116,
   "metadata": {},
   "outputs": [
    {
     "name": "stdout",
     "output_type": "stream",
     "text": [
      "Accuarcy is ::  88 % \n",
      "Confusion Matrix"
     ]
    },
    {
     "data": {
      "text/html": [
       "<table>\n",
       "<thead><tr><th></th><th scope=col>actual(1)</th><th scope=col>actual(-1)</th></tr></thead>\n",
       "<tbody>\n",
       "\t<tr><th scope=row>pred(1)</th><td>27</td><td> 6</td></tr>\n",
       "\t<tr><th scope=row>pred(-1)</th><td> 6</td><td>61</td></tr>\n",
       "</tbody>\n",
       "</table>\n"
      ],
      "text/latex": [
       "\\begin{tabular}{r|ll}\n",
       "  & actual(1) & actual(-1)\\\\\n",
       "\\hline\n",
       "\tpred(1) & 27 &  6\\\\\n",
       "\tpred(-1) &  6 & 61\\\\\n",
       "\\end{tabular}\n"
      ],
      "text/markdown": [
       "\n",
       "| <!--/--> | actual(1) | actual(-1) |\n",
       "|---|---|---|\n",
       "| pred(1) | 27 |  6 |\n",
       "| pred(-1) |  6 | 61 |\n",
       "\n"
      ],
      "text/plain": [
       "         actual(1) actual(-1)\n",
       "pred(1)  27         6        \n",
       "pred(-1)  6        61        "
      ]
     },
     "metadata": {},
     "output_type": "display_data"
    }
   ],
   "source": [
    "#setting tradoff parameter to 1\n",
    "C <- 1\n",
    "# x = [w1 w2 b]'\n",
    "x <- matrix(rep(0,3), nrow = 3, ncol = 1)\n",
    "thres <- 10**(-2)\n",
    "maxiter <- 1000\n",
    "alpha <- 0.01\n",
    "answer <- gradientDescent(x, C,alpha,thres,maxiter)\n",
    "wstar <- answer$x\n",
    "#prediction\n",
    "prediction <- predict(xtest,wstar)\n",
    "#accuracy\n",
    "accuracyper2 <- accuracy(prediction,ytest)\n",
    "cat(\"Accuarcy is :: \", accuracyper2,\"%\",\"\\n\")\n",
    "#confusion matrix\n",
    "cat(\"Confusion Matrix\")\n",
    "cmatrix2 <- generateconfusionmatrix(prediction,ytest)\n",
    "cmatrix2"
   ]
  },
  {
   "cell_type": "code",
   "execution_count": 117,
   "metadata": {},
   "outputs": [
    {
     "name": "stdout",
     "output_type": "stream",
     "text": [
      "Accuarcy is ::  87 % \n",
      "Confusion Matrix"
     ]
    },
    {
     "data": {
      "text/html": [
       "<table>\n",
       "<thead><tr><th></th><th scope=col>actual(1)</th><th scope=col>actual(-1)</th></tr></thead>\n",
       "<tbody>\n",
       "\t<tr><th scope=row>pred(1)</th><td>26</td><td> 6</td></tr>\n",
       "\t<tr><th scope=row>pred(-1)</th><td> 7</td><td>61</td></tr>\n",
       "</tbody>\n",
       "</table>\n"
      ],
      "text/latex": [
       "\\begin{tabular}{r|ll}\n",
       "  & actual(1) & actual(-1)\\\\\n",
       "\\hline\n",
       "\tpred(1) & 26 &  6\\\\\n",
       "\tpred(-1) &  7 & 61\\\\\n",
       "\\end{tabular}\n"
      ],
      "text/markdown": [
       "\n",
       "| <!--/--> | actual(1) | actual(-1) |\n",
       "|---|---|---|\n",
       "| pred(1) | 26 |  6 |\n",
       "| pred(-1) |  7 | 61 |\n",
       "\n"
      ],
      "text/plain": [
       "         actual(1) actual(-1)\n",
       "pred(1)  26         6        \n",
       "pred(-1)  7        61        "
      ]
     },
     "metadata": {},
     "output_type": "display_data"
    }
   ],
   "source": [
    "#setting tradoff parameter to 75\n",
    "C <- 75\n",
    "# x = [w1 w2 b]'\n",
    "x <- matrix(rep(0,3), nrow = 3, ncol = 1)\n",
    "thres <- 10**(-2)\n",
    "maxiter <- 1000\n",
    "alpha <- 0.01\n",
    "answer <- gradientDescent(x, C,alpha,thres,maxiter)\n",
    "wstar <- answer$x\n",
    "#prediction\n",
    "prediction <- predict(xtest,wstar)\n",
    "#accuracy\n",
    "accuracyper3 <- accuracy(prediction,ytest)\n",
    "cat(\"Accuarcy is :: \", accuracyper3,\"%\",\"\\n\")\n",
    "#confusion matrix\n",
    "cat(\"Confusion Matrix\")\n",
    "cmatrix3 <- generateconfusionmatrix(prediction,ytest)\n",
    "cmatrix3"
   ]
  },
  {
   "cell_type": "code",
   "execution_count": 118,
   "metadata": {},
   "outputs": [
    {
     "name": "stdout",
     "output_type": "stream",
     "text": [
      "Accuarcy is ::  87 % \n",
      "Confusion Matrix"
     ]
    },
    {
     "data": {
      "text/html": [
       "<table>\n",
       "<thead><tr><th></th><th scope=col>actual(1)</th><th scope=col>actual(-1)</th></tr></thead>\n",
       "<tbody>\n",
       "\t<tr><th scope=row>pred(1)</th><td>26</td><td> 6</td></tr>\n",
       "\t<tr><th scope=row>pred(-1)</th><td> 7</td><td>61</td></tr>\n",
       "</tbody>\n",
       "</table>\n"
      ],
      "text/latex": [
       "\\begin{tabular}{r|ll}\n",
       "  & actual(1) & actual(-1)\\\\\n",
       "\\hline\n",
       "\tpred(1) & 26 &  6\\\\\n",
       "\tpred(-1) &  7 & 61\\\\\n",
       "\\end{tabular}\n"
      ],
      "text/markdown": [
       "\n",
       "| <!--/--> | actual(1) | actual(-1) |\n",
       "|---|---|---|\n",
       "| pred(1) | 26 |  6 |\n",
       "| pred(-1) |  7 | 61 |\n",
       "\n"
      ],
      "text/plain": [
       "         actual(1) actual(-1)\n",
       "pred(1)  26         6        \n",
       "pred(-1)  7        61        "
      ]
     },
     "metadata": {},
     "output_type": "display_data"
    }
   ],
   "source": [
    "#setting tradoff parameter to 75\n",
    "C <- 100\n",
    "# x = [b w1 w2]'\n",
    "x <- matrix(rep(0,3), nrow = 3, ncol = 1)\n",
    "thres <- 10**(-2)\n",
    "maxiter <- 1000\n",
    "alpha <- 0.01\n",
    "answer <- gradientDescent(x, C,alpha,thres,maxiter)\n",
    "wstar <- answer$x\n",
    "#prediction\n",
    "prediction <- predict(xtest,wstar)\n",
    "#accuracy\n",
    "accuracyper4 <- accuracy(prediction,ytest)\n",
    "cat(\"Accuarcy is :: \", accuracyper4,\"%\",\"\\n\")\n",
    "#confusion matrix\n",
    "cat(\"Confusion Matrix\")\n",
    "cmatrix4 <- generateconfusionmatrix(prediction,ytest)\n",
    "cmatrix4"
   ]
  },
  {
   "cell_type": "code",
   "execution_count": 119,
   "metadata": {},
   "outputs": [
    {
     "name": "stdout",
     "output_type": "stream",
     "text": [
      "Confusion Matrix and accuracy (%)  for C = 1"
     ]
    },
    {
     "data": {
      "text/html": [
       "<table>\n",
       "<thead><tr><th></th><th scope=col>actual(1)</th><th scope=col>actual(-1)</th></tr></thead>\n",
       "<tbody>\n",
       "\t<tr><th scope=row>pred(1)</th><td>27</td><td> 6</td></tr>\n",
       "\t<tr><th scope=row>pred(-1)</th><td> 6</td><td>61</td></tr>\n",
       "</tbody>\n",
       "</table>\n"
      ],
      "text/latex": [
       "\\begin{tabular}{r|ll}\n",
       "  & actual(1) & actual(-1)\\\\\n",
       "\\hline\n",
       "\tpred(1) & 27 &  6\\\\\n",
       "\tpred(-1) &  6 & 61\\\\\n",
       "\\end{tabular}\n"
      ],
      "text/markdown": [
       "\n",
       "| <!--/--> | actual(1) | actual(-1) |\n",
       "|---|---|---|\n",
       "| pred(1) | 27 |  6 |\n",
       "| pred(-1) |  6 | 61 |\n",
       "\n"
      ],
      "text/plain": [
       "         actual(1) actual(-1)\n",
       "pred(1)  27         6        \n",
       "pred(-1)  6        61        "
      ]
     },
     "metadata": {},
     "output_type": "display_data"
    },
    {
     "data": {
      "text/html": [
       "88"
      ],
      "text/latex": [
       "88"
      ],
      "text/markdown": [
       "88"
      ],
      "text/plain": [
       "[1] 88"
      ]
     },
     "metadata": {},
     "output_type": "display_data"
    },
    {
     "name": "stdout",
     "output_type": "stream",
     "text": [
      "Confusion Matrix and accuracy (%) for C = 50"
     ]
    },
    {
     "data": {
      "text/html": [
       "<table>\n",
       "<thead><tr><th></th><th scope=col>actual(1)</th><th scope=col>actual(-1)</th></tr></thead>\n",
       "<tbody>\n",
       "\t<tr><th scope=row>pred(1)</th><td>26</td><td> 6</td></tr>\n",
       "\t<tr><th scope=row>pred(-1)</th><td> 7</td><td>61</td></tr>\n",
       "</tbody>\n",
       "</table>\n"
      ],
      "text/latex": [
       "\\begin{tabular}{r|ll}\n",
       "  & actual(1) & actual(-1)\\\\\n",
       "\\hline\n",
       "\tpred(1) & 26 &  6\\\\\n",
       "\tpred(-1) &  7 & 61\\\\\n",
       "\\end{tabular}\n"
      ],
      "text/markdown": [
       "\n",
       "| <!--/--> | actual(1) | actual(-1) |\n",
       "|---|---|---|\n",
       "| pred(1) | 26 |  6 |\n",
       "| pred(-1) |  7 | 61 |\n",
       "\n"
      ],
      "text/plain": [
       "         actual(1) actual(-1)\n",
       "pred(1)  26         6        \n",
       "pred(-1)  7        61        "
      ]
     },
     "metadata": {},
     "output_type": "display_data"
    },
    {
     "data": {
      "text/html": [
       "87"
      ],
      "text/latex": [
       "87"
      ],
      "text/markdown": [
       "87"
      ],
      "text/plain": [
       "[1] 87"
      ]
     },
     "metadata": {},
     "output_type": "display_data"
    },
    {
     "name": "stdout",
     "output_type": "stream",
     "text": [
      "Confusion Matrixa and accuracy (%) for C = 75"
     ]
    },
    {
     "data": {
      "text/html": [
       "<table>\n",
       "<thead><tr><th></th><th scope=col>actual(1)</th><th scope=col>actual(-1)</th></tr></thead>\n",
       "<tbody>\n",
       "\t<tr><th scope=row>pred(1)</th><td>26</td><td> 6</td></tr>\n",
       "\t<tr><th scope=row>pred(-1)</th><td> 7</td><td>61</td></tr>\n",
       "</tbody>\n",
       "</table>\n"
      ],
      "text/latex": [
       "\\begin{tabular}{r|ll}\n",
       "  & actual(1) & actual(-1)\\\\\n",
       "\\hline\n",
       "\tpred(1) & 26 &  6\\\\\n",
       "\tpred(-1) &  7 & 61\\\\\n",
       "\\end{tabular}\n"
      ],
      "text/markdown": [
       "\n",
       "| <!--/--> | actual(1) | actual(-1) |\n",
       "|---|---|---|\n",
       "| pred(1) | 26 |  6 |\n",
       "| pred(-1) |  7 | 61 |\n",
       "\n"
      ],
      "text/plain": [
       "         actual(1) actual(-1)\n",
       "pred(1)  26         6        \n",
       "pred(-1)  7        61        "
      ]
     },
     "metadata": {},
     "output_type": "display_data"
    },
    {
     "data": {
      "text/html": [
       "87"
      ],
      "text/latex": [
       "87"
      ],
      "text/markdown": [
       "87"
      ],
      "text/plain": [
       "[1] 87"
      ]
     },
     "metadata": {},
     "output_type": "display_data"
    },
    {
     "name": "stdout",
     "output_type": "stream",
     "text": [
      "Confusion Matrix and accuracy (%) for C = 100"
     ]
    },
    {
     "data": {
      "text/html": [
       "<table>\n",
       "<thead><tr><th></th><th scope=col>actual(1)</th><th scope=col>actual(-1)</th></tr></thead>\n",
       "<tbody>\n",
       "\t<tr><th scope=row>pred(1)</th><td>26</td><td> 6</td></tr>\n",
       "\t<tr><th scope=row>pred(-1)</th><td> 7</td><td>61</td></tr>\n",
       "</tbody>\n",
       "</table>\n"
      ],
      "text/latex": [
       "\\begin{tabular}{r|ll}\n",
       "  & actual(1) & actual(-1)\\\\\n",
       "\\hline\n",
       "\tpred(1) & 26 &  6\\\\\n",
       "\tpred(-1) &  7 & 61\\\\\n",
       "\\end{tabular}\n"
      ],
      "text/markdown": [
       "\n",
       "| <!--/--> | actual(1) | actual(-1) |\n",
       "|---|---|---|\n",
       "| pred(1) | 26 |  6 |\n",
       "| pred(-1) |  7 | 61 |\n",
       "\n"
      ],
      "text/plain": [
       "         actual(1) actual(-1)\n",
       "pred(1)  26         6        \n",
       "pred(-1)  7        61        "
      ]
     },
     "metadata": {},
     "output_type": "display_data"
    },
    {
     "data": {
      "text/html": [
       "87"
      ],
      "text/latex": [
       "87"
      ],
      "text/markdown": [
       "87"
      ],
      "text/plain": [
       "[1] 87"
      ]
     },
     "metadata": {},
     "output_type": "display_data"
    }
   ],
   "source": [
    "cat(\"Confusion Matrix and accuracy (%)  for C = 1\")\n",
    "cmatrix2\n",
    "accuracyper2\n",
    "cat(\"Confusion Matrix and accuracy (%) for C = 50\")\n",
    "cmatrix1\n",
    "accuracyper1\n",
    "cat(\"Confusion Matrixa and accuracy (%) for C = 75\")\n",
    "cmatrix3\n",
    "accuracyper3\n",
    "cat(\"Confusion Matrix and accuracy (%) for C = 100\")\n",
    "cmatrix4\n",
    "accuracyper4"
   ]
  },
  {
   "cell_type": "markdown",
   "metadata": {},
   "source": [
    "#### What happens to the confusion matrix if you use C = 100? What happens to the confusion matrix if you use C = 1? Comment on what the effect of C is on the entries of the confusion matrix. What choice of C gives you the best classification accuracy results on the test data?"
   ]
  },
  {
   "cell_type": "markdown",
   "metadata": {},
   "source": [
    "I ran SVM for trade-off factors 1, 50, 75 and 100. Accuracy is best (88%) for trade-off fator C = 1 while accuracy for trade-off 50, 75 and 100 is same 87%. Also as trade-off is increased from 1, there is  decrease in \"TRUE POSITIVE\" cases from 27 to 26 and increase in \"TRUE NEGATIVE\" cases from 6 to 7.\n",
    "\n",
    "Given the observation, C = 1 gives the best accuracy."
   ]
  },
  {
   "cell_type": "markdown",
   "metadata": {},
   "source": []
  },
  {
   "cell_type": "markdown",
   "metadata": {},
   "source": [
    "Github link for the code \n",
    "\n",
    "https://github.com/jainsanyam786/OptimizationForMachineLearning.git"
   ]
  }
 ],
 "metadata": {
  "kernelspec": {
   "display_name": "R",
   "language": "R",
   "name": "ir"
  },
  "language_info": {
   "codemirror_mode": "r",
   "file_extension": ".r",
   "mimetype": "text/x-r-source",
   "name": "R",
   "pygments_lexer": "r",
   "version": "3.6.1"
  }
 },
 "nbformat": 4,
 "nbformat_minor": 4
}
